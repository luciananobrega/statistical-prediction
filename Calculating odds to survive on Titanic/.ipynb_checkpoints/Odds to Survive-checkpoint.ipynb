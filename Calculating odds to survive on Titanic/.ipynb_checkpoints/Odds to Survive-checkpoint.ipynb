{
 "cells": [
  {
   "cell_type": "markdown",
   "metadata": {},
   "source": [
    "## Odds to die on Titanic and logistic regression with R\n",
    "\n",
    "`So you'd like to calculte your odds to survive on Titanic disaster?\n",
    "Well, before that, let's start with it we'll learn a bit about Logistic regression with R language.\n",
    "We are basically going to analyze data about people who died and who survived (their gender, age, in  which class they were travelling...). With that, we'll have a simple equation to calculate your odds to survive, based on that characteristics.\n",
    "Let's do that?`"
   ]
  },
  {
   "cell_type": "markdown",
   "metadata": {},
   "source": [
    "`First thing we do is importing our csv data about all those people and check our data.`"
   ]
  },
  {
   "cell_type": "code",
   "execution_count": 14,
   "metadata": {},
   "outputs": [
    {
     "data": {
      "text/html": [
       "<table>\n",
       "<caption>A data.frame: 890 × 9</caption>\n",
       "<thead>\n",
       "\t<tr><th scope=col>Passageiro</th><th scope=col>Sobrevivente</th><th scope=col>Classe</th><th scope=col>Nome</th><th scope=col>Sexo</th><th scope=col>Idade</th><th scope=col>Irmãos</th><th scope=col>Pais</th><th scope=col>Tarifa</th></tr>\n",
       "\t<tr><th scope=col>&lt;int&gt;</th><th scope=col>&lt;int&gt;</th><th scope=col>&lt;int&gt;</th><th scope=col>&lt;fct&gt;</th><th scope=col>&lt;fct&gt;</th><th scope=col>&lt;dbl&gt;</th><th scope=col>&lt;int&gt;</th><th scope=col>&lt;int&gt;</th><th scope=col>&lt;fct&gt;</th></tr>\n",
       "</thead>\n",
       "<tbody>\n",
       "\t<tr><td> 1</td><td>0</td><td>3</td><td>Braund, Mr. Owen Harris                                  </td><td>masculino</td><td>22</td><td>1</td><td>0</td><td>7,25   </td></tr>\n",
       "\t<tr><td> 2</td><td>1</td><td>1</td><td>Cumings, Mrs. John Bradley (Florence Briggs Thayer)      </td><td>feminino </td><td>38</td><td>1</td><td>0</td><td>712.833</td></tr>\n",
       "\t<tr><td> 3</td><td>1</td><td>3</td><td>Heikkinen, Miss. Laina                                   </td><td>feminino </td><td>26</td><td>0</td><td>0</td><td>7.925  </td></tr>\n",
       "\t<tr><td> 4</td><td>1</td><td>1</td><td>Futrelle, Mrs. Jacques Heath (Lily May Peel)             </td><td>feminino </td><td>35</td><td>1</td><td>0</td><td>53,1   </td></tr>\n",
       "\t<tr><td> 5</td><td>0</td><td>3</td><td>Allen, Mr. William Henry                                 </td><td>masculino</td><td>35</td><td>0</td><td>0</td><td>8,05   </td></tr>\n",
       "\t<tr><td> 7</td><td>0</td><td>1</td><td>McCarthy, Mr. Timothy J                                  </td><td>masculino</td><td>54</td><td>0</td><td>0</td><td>518.625</td></tr>\n",
       "\t<tr><td> 8</td><td>0</td><td>3</td><td>Palsson, Master. Gosta Leonard                           </td><td>masculino</td><td> 2</td><td>3</td><td>1</td><td>21.075 </td></tr>\n",
       "\t<tr><td> 9</td><td>1</td><td>3</td><td>Johnson, Mrs. Oscar W (Elisabeth Vilhelmina Berg)        </td><td>feminino </td><td>27</td><td>0</td><td>2</td><td>111.333</td></tr>\n",
       "\t<tr><td>10</td><td>1</td><td>2</td><td>Nasser, Mrs. Nicholas (Adele Achem)                      </td><td>feminino </td><td>14</td><td>1</td><td>0</td><td>300.708</td></tr>\n",
       "\t<tr><td>11</td><td>1</td><td>3</td><td>Sandstrom, Miss. Marguerite Rut                          </td><td>feminino </td><td> 4</td><td>1</td><td>1</td><td>16,7   </td></tr>\n",
       "\t<tr><td>12</td><td>1</td><td>1</td><td>Bonnell, Miss. Elizabeth                                 </td><td>feminino </td><td>58</td><td>0</td><td>0</td><td>26,55  </td></tr>\n",
       "\t<tr><td>13</td><td>0</td><td>3</td><td>Saundercock, Mr. William Henry                           </td><td>masculino</td><td>20</td><td>0</td><td>0</td><td>8,05   </td></tr>\n",
       "\t<tr><td>14</td><td>0</td><td>3</td><td>Andersson, Mr. Anders Johan                              </td><td>masculino</td><td>39</td><td>1</td><td>5</td><td>31.275 </td></tr>\n",
       "\t<tr><td>15</td><td>0</td><td>3</td><td>Vestrom, Miss. Hulda Amanda Adolfina                     </td><td>feminino </td><td>14</td><td>0</td><td>0</td><td>78.542 </td></tr>\n",
       "\t<tr><td>16</td><td>1</td><td>2</td><td>Hewlett, Mrs. (Mary D Kingcome)                          </td><td>feminino </td><td>55</td><td>0</td><td>0</td><td>16     </td></tr>\n",
       "\t<tr><td>17</td><td>0</td><td>3</td><td>Rice, Master. Eugene                                     </td><td>masculino</td><td> 2</td><td>4</td><td>1</td><td>29.125 </td></tr>\n",
       "\t<tr><td>19</td><td>0</td><td>3</td><td>Vander Planke, Mrs. Julius (Emelia Maria Vandemoortele)  </td><td>feminino </td><td>31</td><td>1</td><td>0</td><td>18     </td></tr>\n",
       "\t<tr><td>21</td><td>0</td><td>2</td><td>Fynney, Mr. Joseph J                                     </td><td>masculino</td><td>35</td><td>0</td><td>0</td><td>26     </td></tr>\n",
       "\t<tr><td>22</td><td>1</td><td>2</td><td>Beesley, Mr. Lawrence                                    </td><td>masculino</td><td>34</td><td>0</td><td>0</td><td>13     </td></tr>\n",
       "\t<tr><td>23</td><td>1</td><td>3</td><td>McGowan, Miss. Anna \"Annie\"                              </td><td>feminino </td><td>15</td><td>0</td><td>0</td><td>80.292 </td></tr>\n",
       "\t<tr><td>24</td><td>1</td><td>1</td><td>Sloper, Mr. William Thompson                             </td><td>masculino</td><td>28</td><td>0</td><td>0</td><td>35,5   </td></tr>\n",
       "\t<tr><td>25</td><td>0</td><td>3</td><td>Palsson, Miss. Torborg Danira                            </td><td>feminino </td><td> 8</td><td>3</td><td>1</td><td>21.075 </td></tr>\n",
       "\t<tr><td>26</td><td>1</td><td>3</td><td>Asplund, Mrs. Carl Oscar (Selma Augusta Emilia Johansson)</td><td>feminino </td><td>38</td><td>1</td><td>5</td><td>313.875</td></tr>\n",
       "\t<tr><td>28</td><td>0</td><td>1</td><td>Fortune, Mr. Charles Alexander                           </td><td>masculino</td><td>19</td><td>3</td><td>2</td><td>263    </td></tr>\n",
       "\t<tr><td>31</td><td>0</td><td>1</td><td>Uruchurtu, Don. Manuel E                                 </td><td>masculino</td><td>40</td><td>0</td><td>0</td><td>277.208</td></tr>\n",
       "\t<tr><td>34</td><td>0</td><td>2</td><td>Wheadon, Mr. Edward H                                    </td><td>masculino</td><td>66</td><td>0</td><td>0</td><td>10,5   </td></tr>\n",
       "\t<tr><td>35</td><td>0</td><td>1</td><td>Meyer, Mr. Edgar Joseph                                  </td><td>masculino</td><td>28</td><td>1</td><td>0</td><td>821.708</td></tr>\n",
       "\t<tr><td>36</td><td>0</td><td>1</td><td>Holverson, Mr. Alexander Oskar                           </td><td>masculino</td><td>42</td><td>1</td><td>0</td><td>52     </td></tr>\n",
       "\t<tr><td>38</td><td>0</td><td>3</td><td>Cann, Mr. Ernest Charles                                 </td><td>masculino</td><td>21</td><td>0</td><td>0</td><td>8,05   </td></tr>\n",
       "\t<tr><td>39</td><td>0</td><td>3</td><td>Vander Planke, Miss. Augusta Maria                       </td><td>feminino </td><td>18</td><td>2</td><td>0</td><td>18     </td></tr>\n",
       "\t<tr><td>...</td><td>...</td><td>...</td><td>...</td><td>...</td><td>...</td><td>...</td><td>...</td><td>...</td></tr>\n",
       "\t<tr><td>NA</td><td>NA</td><td>NA</td><td></td><td></td><td>NA</td><td>NA</td><td>NA</td><td></td></tr>\n",
       "\t<tr><td>NA</td><td>NA</td><td>NA</td><td></td><td></td><td>NA</td><td>NA</td><td>NA</td><td></td></tr>\n",
       "\t<tr><td>NA</td><td>NA</td><td>NA</td><td></td><td></td><td>NA</td><td>NA</td><td>NA</td><td></td></tr>\n",
       "\t<tr><td>NA</td><td>NA</td><td>NA</td><td></td><td></td><td>NA</td><td>NA</td><td>NA</td><td></td></tr>\n",
       "\t<tr><td>NA</td><td>NA</td><td>NA</td><td></td><td></td><td>NA</td><td>NA</td><td>NA</td><td></td></tr>\n",
       "\t<tr><td>NA</td><td>NA</td><td>NA</td><td></td><td></td><td>NA</td><td>NA</td><td>NA</td><td></td></tr>\n",
       "\t<tr><td>NA</td><td>NA</td><td>NA</td><td></td><td></td><td>NA</td><td>NA</td><td>NA</td><td></td></tr>\n",
       "\t<tr><td>NA</td><td>NA</td><td>NA</td><td></td><td></td><td>NA</td><td>NA</td><td>NA</td><td></td></tr>\n",
       "\t<tr><td>NA</td><td>NA</td><td>NA</td><td></td><td></td><td>NA</td><td>NA</td><td>NA</td><td></td></tr>\n",
       "\t<tr><td>NA</td><td>NA</td><td>NA</td><td></td><td></td><td>NA</td><td>NA</td><td>NA</td><td></td></tr>\n",
       "\t<tr><td>NA</td><td>NA</td><td>NA</td><td></td><td></td><td>NA</td><td>NA</td><td>NA</td><td></td></tr>\n",
       "\t<tr><td>NA</td><td>NA</td><td>NA</td><td></td><td></td><td>NA</td><td>NA</td><td>NA</td><td></td></tr>\n",
       "\t<tr><td>NA</td><td>NA</td><td>NA</td><td></td><td></td><td>NA</td><td>NA</td><td>NA</td><td></td></tr>\n",
       "\t<tr><td>NA</td><td>NA</td><td>NA</td><td></td><td></td><td>NA</td><td>NA</td><td>NA</td><td></td></tr>\n",
       "\t<tr><td>NA</td><td>NA</td><td>NA</td><td></td><td></td><td>NA</td><td>NA</td><td>NA</td><td></td></tr>\n",
       "\t<tr><td>NA</td><td>NA</td><td>NA</td><td></td><td></td><td>NA</td><td>NA</td><td>NA</td><td></td></tr>\n",
       "\t<tr><td>NA</td><td>NA</td><td>NA</td><td></td><td></td><td>NA</td><td>NA</td><td>NA</td><td></td></tr>\n",
       "\t<tr><td>NA</td><td>NA</td><td>NA</td><td></td><td></td><td>NA</td><td>NA</td><td>NA</td><td></td></tr>\n",
       "\t<tr><td>NA</td><td>NA</td><td>NA</td><td></td><td></td><td>NA</td><td>NA</td><td>NA</td><td></td></tr>\n",
       "\t<tr><td>NA</td><td>NA</td><td>NA</td><td></td><td></td><td>NA</td><td>NA</td><td>NA</td><td></td></tr>\n",
       "\t<tr><td>NA</td><td>NA</td><td>NA</td><td></td><td></td><td>NA</td><td>NA</td><td>NA</td><td></td></tr>\n",
       "\t<tr><td>NA</td><td>NA</td><td>NA</td><td></td><td></td><td>NA</td><td>NA</td><td>NA</td><td></td></tr>\n",
       "\t<tr><td>NA</td><td>NA</td><td>NA</td><td></td><td></td><td>NA</td><td>NA</td><td>NA</td><td></td></tr>\n",
       "\t<tr><td>NA</td><td>NA</td><td>NA</td><td></td><td></td><td>NA</td><td>NA</td><td>NA</td><td></td></tr>\n",
       "\t<tr><td>NA</td><td>NA</td><td>NA</td><td></td><td></td><td>NA</td><td>NA</td><td>NA</td><td></td></tr>\n",
       "\t<tr><td>NA</td><td>NA</td><td>NA</td><td></td><td></td><td>NA</td><td>NA</td><td>NA</td><td></td></tr>\n",
       "\t<tr><td>NA</td><td>NA</td><td>NA</td><td></td><td></td><td>NA</td><td>NA</td><td>NA</td><td></td></tr>\n",
       "\t<tr><td>NA</td><td>NA</td><td>NA</td><td></td><td></td><td>NA</td><td>NA</td><td>NA</td><td></td></tr>\n",
       "\t<tr><td>NA</td><td>NA</td><td>NA</td><td></td><td></td><td>NA</td><td>NA</td><td>NA</td><td></td></tr>\n",
       "\t<tr><td>NA</td><td>NA</td><td>NA</td><td></td><td></td><td>NA</td><td>NA</td><td>NA</td><td></td></tr>\n",
       "</tbody>\n",
       "</table>\n"
      ],
      "text/latex": [
       "A data.frame: 890 × 9\n",
       "\\begin{tabular}{lllllllll}\n",
       " Passageiro & Sobrevivente & Classe & Nome & Sexo & Idade & Irmãos & Pais & Tarifa\\\\\n",
       " <int> & <int> & <int> & <fct> & <fct> & <dbl> & <int> & <int> & <fct>\\\\\n",
       "\\hline\n",
       "\t  1 & 0 & 3 & Braund, Mr. Owen Harris                                   & masculino & 22 & 1 & 0 & 7,25   \\\\\n",
       "\t  2 & 1 & 1 & Cumings, Mrs. John Bradley (Florence Briggs Thayer)       & feminino  & 38 & 1 & 0 & 712.833\\\\\n",
       "\t  3 & 1 & 3 & Heikkinen, Miss. Laina                                    & feminino  & 26 & 0 & 0 & 7.925  \\\\\n",
       "\t  4 & 1 & 1 & Futrelle, Mrs. Jacques Heath (Lily May Peel)              & feminino  & 35 & 1 & 0 & 53,1   \\\\\n",
       "\t  5 & 0 & 3 & Allen, Mr. William Henry                                  & masculino & 35 & 0 & 0 & 8,05   \\\\\n",
       "\t  7 & 0 & 1 & McCarthy, Mr. Timothy J                                   & masculino & 54 & 0 & 0 & 518.625\\\\\n",
       "\t  8 & 0 & 3 & Palsson, Master. Gosta Leonard                            & masculino &  2 & 3 & 1 & 21.075 \\\\\n",
       "\t  9 & 1 & 3 & Johnson, Mrs. Oscar W (Elisabeth Vilhelmina Berg)         & feminino  & 27 & 0 & 2 & 111.333\\\\\n",
       "\t 10 & 1 & 2 & Nasser, Mrs. Nicholas (Adele Achem)                       & feminino  & 14 & 1 & 0 & 300.708\\\\\n",
       "\t 11 & 1 & 3 & Sandstrom, Miss. Marguerite Rut                           & feminino  &  4 & 1 & 1 & 16,7   \\\\\n",
       "\t 12 & 1 & 1 & Bonnell, Miss. Elizabeth                                  & feminino  & 58 & 0 & 0 & 26,55  \\\\\n",
       "\t 13 & 0 & 3 & Saundercock, Mr. William Henry                            & masculino & 20 & 0 & 0 & 8,05   \\\\\n",
       "\t 14 & 0 & 3 & Andersson, Mr. Anders Johan                               & masculino & 39 & 1 & 5 & 31.275 \\\\\n",
       "\t 15 & 0 & 3 & Vestrom, Miss. Hulda Amanda Adolfina                      & feminino  & 14 & 0 & 0 & 78.542 \\\\\n",
       "\t 16 & 1 & 2 & Hewlett, Mrs. (Mary D Kingcome)                           & feminino  & 55 & 0 & 0 & 16     \\\\\n",
       "\t 17 & 0 & 3 & Rice, Master. Eugene                                      & masculino &  2 & 4 & 1 & 29.125 \\\\\n",
       "\t 19 & 0 & 3 & Vander Planke, Mrs. Julius (Emelia Maria Vandemoortele)   & feminino  & 31 & 1 & 0 & 18     \\\\\n",
       "\t 21 & 0 & 2 & Fynney, Mr. Joseph J                                      & masculino & 35 & 0 & 0 & 26     \\\\\n",
       "\t 22 & 1 & 2 & Beesley, Mr. Lawrence                                     & masculino & 34 & 0 & 0 & 13     \\\\\n",
       "\t 23 & 1 & 3 & McGowan, Miss. Anna \"Annie\"                               & feminino  & 15 & 0 & 0 & 80.292 \\\\\n",
       "\t 24 & 1 & 1 & Sloper, Mr. William Thompson                              & masculino & 28 & 0 & 0 & 35,5   \\\\\n",
       "\t 25 & 0 & 3 & Palsson, Miss. Torborg Danira                             & feminino  &  8 & 3 & 1 & 21.075 \\\\\n",
       "\t 26 & 1 & 3 & Asplund, Mrs. Carl Oscar (Selma Augusta Emilia Johansson) & feminino  & 38 & 1 & 5 & 313.875\\\\\n",
       "\t 28 & 0 & 1 & Fortune, Mr. Charles Alexander                            & masculino & 19 & 3 & 2 & 263    \\\\\n",
       "\t 31 & 0 & 1 & Uruchurtu, Don. Manuel E                                  & masculino & 40 & 0 & 0 & 277.208\\\\\n",
       "\t 34 & 0 & 2 & Wheadon, Mr. Edward H                                     & masculino & 66 & 0 & 0 & 10,5   \\\\\n",
       "\t 35 & 0 & 1 & Meyer, Mr. Edgar Joseph                                   & masculino & 28 & 1 & 0 & 821.708\\\\\n",
       "\t 36 & 0 & 1 & Holverson, Mr. Alexander Oskar                            & masculino & 42 & 1 & 0 & 52     \\\\\n",
       "\t 38 & 0 & 3 & Cann, Mr. Ernest Charles                                  & masculino & 21 & 0 & 0 & 8,05   \\\\\n",
       "\t 39 & 0 & 3 & Vander Planke, Miss. Augusta Maria                        & feminino  & 18 & 2 & 0 & 18     \\\\\n",
       "\t ... & ... & ... & ... & ... & ... & ... & ... & ...\\\\\n",
       "\t NA & NA & NA &  &  & NA & NA & NA & \\\\\n",
       "\t NA & NA & NA &  &  & NA & NA & NA & \\\\\n",
       "\t NA & NA & NA &  &  & NA & NA & NA & \\\\\n",
       "\t NA & NA & NA &  &  & NA & NA & NA & \\\\\n",
       "\t NA & NA & NA &  &  & NA & NA & NA & \\\\\n",
       "\t NA & NA & NA &  &  & NA & NA & NA & \\\\\n",
       "\t NA & NA & NA &  &  & NA & NA & NA & \\\\\n",
       "\t NA & NA & NA &  &  & NA & NA & NA & \\\\\n",
       "\t NA & NA & NA &  &  & NA & NA & NA & \\\\\n",
       "\t NA & NA & NA &  &  & NA & NA & NA & \\\\\n",
       "\t NA & NA & NA &  &  & NA & NA & NA & \\\\\n",
       "\t NA & NA & NA &  &  & NA & NA & NA & \\\\\n",
       "\t NA & NA & NA &  &  & NA & NA & NA & \\\\\n",
       "\t NA & NA & NA &  &  & NA & NA & NA & \\\\\n",
       "\t NA & NA & NA &  &  & NA & NA & NA & \\\\\n",
       "\t NA & NA & NA &  &  & NA & NA & NA & \\\\\n",
       "\t NA & NA & NA &  &  & NA & NA & NA & \\\\\n",
       "\t NA & NA & NA &  &  & NA & NA & NA & \\\\\n",
       "\t NA & NA & NA &  &  & NA & NA & NA & \\\\\n",
       "\t NA & NA & NA &  &  & NA & NA & NA & \\\\\n",
       "\t NA & NA & NA &  &  & NA & NA & NA & \\\\\n",
       "\t NA & NA & NA &  &  & NA & NA & NA & \\\\\n",
       "\t NA & NA & NA &  &  & NA & NA & NA & \\\\\n",
       "\t NA & NA & NA &  &  & NA & NA & NA & \\\\\n",
       "\t NA & NA & NA &  &  & NA & NA & NA & \\\\\n",
       "\t NA & NA & NA &  &  & NA & NA & NA & \\\\\n",
       "\t NA & NA & NA &  &  & NA & NA & NA & \\\\\n",
       "\t NA & NA & NA &  &  & NA & NA & NA & \\\\\n",
       "\t NA & NA & NA &  &  & NA & NA & NA & \\\\\n",
       "\t NA & NA & NA &  &  & NA & NA & NA & \\\\\n",
       "\\end{tabular}\n"
      ],
      "text/markdown": [
       "\n",
       "A data.frame: 890 × 9\n",
       "\n",
       "| Passageiro &lt;int&gt; | Sobrevivente &lt;int&gt; | Classe &lt;int&gt; | Nome &lt;fct&gt; | Sexo &lt;fct&gt; | Idade &lt;dbl&gt; | Irmãos &lt;int&gt; | Pais &lt;int&gt; | Tarifa &lt;fct&gt; |\n",
       "|---|---|---|---|---|---|---|---|---|\n",
       "|  1 | 0 | 3 | Braund, Mr. Owen Harris                                   | masculino | 22 | 1 | 0 | 7,25    |\n",
       "|  2 | 1 | 1 | Cumings, Mrs. John Bradley (Florence Briggs Thayer)       | feminino  | 38 | 1 | 0 | 712.833 |\n",
       "|  3 | 1 | 3 | Heikkinen, Miss. Laina                                    | feminino  | 26 | 0 | 0 | 7.925   |\n",
       "|  4 | 1 | 1 | Futrelle, Mrs. Jacques Heath (Lily May Peel)              | feminino  | 35 | 1 | 0 | 53,1    |\n",
       "|  5 | 0 | 3 | Allen, Mr. William Henry                                  | masculino | 35 | 0 | 0 | 8,05    |\n",
       "|  7 | 0 | 1 | McCarthy, Mr. Timothy J                                   | masculino | 54 | 0 | 0 | 518.625 |\n",
       "|  8 | 0 | 3 | Palsson, Master. Gosta Leonard                            | masculino |  2 | 3 | 1 | 21.075  |\n",
       "|  9 | 1 | 3 | Johnson, Mrs. Oscar W (Elisabeth Vilhelmina Berg)         | feminino  | 27 | 0 | 2 | 111.333 |\n",
       "| 10 | 1 | 2 | Nasser, Mrs. Nicholas (Adele Achem)                       | feminino  | 14 | 1 | 0 | 300.708 |\n",
       "| 11 | 1 | 3 | Sandstrom, Miss. Marguerite Rut                           | feminino  |  4 | 1 | 1 | 16,7    |\n",
       "| 12 | 1 | 1 | Bonnell, Miss. Elizabeth                                  | feminino  | 58 | 0 | 0 | 26,55   |\n",
       "| 13 | 0 | 3 | Saundercock, Mr. William Henry                            | masculino | 20 | 0 | 0 | 8,05    |\n",
       "| 14 | 0 | 3 | Andersson, Mr. Anders Johan                               | masculino | 39 | 1 | 5 | 31.275  |\n",
       "| 15 | 0 | 3 | Vestrom, Miss. Hulda Amanda Adolfina                      | feminino  | 14 | 0 | 0 | 78.542  |\n",
       "| 16 | 1 | 2 | Hewlett, Mrs. (Mary D Kingcome)                           | feminino  | 55 | 0 | 0 | 16      |\n",
       "| 17 | 0 | 3 | Rice, Master. Eugene                                      | masculino |  2 | 4 | 1 | 29.125  |\n",
       "| 19 | 0 | 3 | Vander Planke, Mrs. Julius (Emelia Maria Vandemoortele)   | feminino  | 31 | 1 | 0 | 18      |\n",
       "| 21 | 0 | 2 | Fynney, Mr. Joseph J                                      | masculino | 35 | 0 | 0 | 26      |\n",
       "| 22 | 1 | 2 | Beesley, Mr. Lawrence                                     | masculino | 34 | 0 | 0 | 13      |\n",
       "| 23 | 1 | 3 | McGowan, Miss. Anna \"Annie\"                               | feminino  | 15 | 0 | 0 | 80.292  |\n",
       "| 24 | 1 | 1 | Sloper, Mr. William Thompson                              | masculino | 28 | 0 | 0 | 35,5    |\n",
       "| 25 | 0 | 3 | Palsson, Miss. Torborg Danira                             | feminino  |  8 | 3 | 1 | 21.075  |\n",
       "| 26 | 1 | 3 | Asplund, Mrs. Carl Oscar (Selma Augusta Emilia Johansson) | feminino  | 38 | 1 | 5 | 313.875 |\n",
       "| 28 | 0 | 1 | Fortune, Mr. Charles Alexander                            | masculino | 19 | 3 | 2 | 263     |\n",
       "| 31 | 0 | 1 | Uruchurtu, Don. Manuel E                                  | masculino | 40 | 0 | 0 | 277.208 |\n",
       "| 34 | 0 | 2 | Wheadon, Mr. Edward H                                     | masculino | 66 | 0 | 0 | 10,5    |\n",
       "| 35 | 0 | 1 | Meyer, Mr. Edgar Joseph                                   | masculino | 28 | 1 | 0 | 821.708 |\n",
       "| 36 | 0 | 1 | Holverson, Mr. Alexander Oskar                            | masculino | 42 | 1 | 0 | 52      |\n",
       "| 38 | 0 | 3 | Cann, Mr. Ernest Charles                                  | masculino | 21 | 0 | 0 | 8,05    |\n",
       "| 39 | 0 | 3 | Vander Planke, Miss. Augusta Maria                        | feminino  | 18 | 2 | 0 | 18      |\n",
       "| ... | ... | ... | ... | ... | ... | ... | ... | ... |\n",
       "| NA | NA | NA | <!----> | <!----> | NA | NA | NA | <!----> |\n",
       "| NA | NA | NA | <!----> | <!----> | NA | NA | NA | <!----> |\n",
       "| NA | NA | NA | <!----> | <!----> | NA | NA | NA | <!----> |\n",
       "| NA | NA | NA | <!----> | <!----> | NA | NA | NA | <!----> |\n",
       "| NA | NA | NA | <!----> | <!----> | NA | NA | NA | <!----> |\n",
       "| NA | NA | NA | <!----> | <!----> | NA | NA | NA | <!----> |\n",
       "| NA | NA | NA | <!----> | <!----> | NA | NA | NA | <!----> |\n",
       "| NA | NA | NA | <!----> | <!----> | NA | NA | NA | <!----> |\n",
       "| NA | NA | NA | <!----> | <!----> | NA | NA | NA | <!----> |\n",
       "| NA | NA | NA | <!----> | <!----> | NA | NA | NA | <!----> |\n",
       "| NA | NA | NA | <!----> | <!----> | NA | NA | NA | <!----> |\n",
       "| NA | NA | NA | <!----> | <!----> | NA | NA | NA | <!----> |\n",
       "| NA | NA | NA | <!----> | <!----> | NA | NA | NA | <!----> |\n",
       "| NA | NA | NA | <!----> | <!----> | NA | NA | NA | <!----> |\n",
       "| NA | NA | NA | <!----> | <!----> | NA | NA | NA | <!----> |\n",
       "| NA | NA | NA | <!----> | <!----> | NA | NA | NA | <!----> |\n",
       "| NA | NA | NA | <!----> | <!----> | NA | NA | NA | <!----> |\n",
       "| NA | NA | NA | <!----> | <!----> | NA | NA | NA | <!----> |\n",
       "| NA | NA | NA | <!----> | <!----> | NA | NA | NA | <!----> |\n",
       "| NA | NA | NA | <!----> | <!----> | NA | NA | NA | <!----> |\n",
       "| NA | NA | NA | <!----> | <!----> | NA | NA | NA | <!----> |\n",
       "| NA | NA | NA | <!----> | <!----> | NA | NA | NA | <!----> |\n",
       "| NA | NA | NA | <!----> | <!----> | NA | NA | NA | <!----> |\n",
       "| NA | NA | NA | <!----> | <!----> | NA | NA | NA | <!----> |\n",
       "| NA | NA | NA | <!----> | <!----> | NA | NA | NA | <!----> |\n",
       "| NA | NA | NA | <!----> | <!----> | NA | NA | NA | <!----> |\n",
       "| NA | NA | NA | <!----> | <!----> | NA | NA | NA | <!----> |\n",
       "| NA | NA | NA | <!----> | <!----> | NA | NA | NA | <!----> |\n",
       "| NA | NA | NA | <!----> | <!----> | NA | NA | NA | <!----> |\n",
       "| NA | NA | NA | <!----> | <!----> | NA | NA | NA | <!----> |\n",
       "\n"
      ],
      "text/plain": [
       "    Passageiro Sobrevivente Classe\n",
       "1    1         0            3     \n",
       "2    2         1            1     \n",
       "3    3         1            3     \n",
       "4    4         1            1     \n",
       "5    5         0            3     \n",
       "6    7         0            1     \n",
       "7    8         0            3     \n",
       "8    9         1            3     \n",
       "9   10         1            2     \n",
       "10  11         1            3     \n",
       "11  12         1            1     \n",
       "12  13         0            3     \n",
       "13  14         0            3     \n",
       "14  15         0            3     \n",
       "15  16         1            2     \n",
       "16  17         0            3     \n",
       "17  19         0            3     \n",
       "18  21         0            2     \n",
       "19  22         1            2     \n",
       "20  23         1            3     \n",
       "21  24         1            1     \n",
       "22  25         0            3     \n",
       "23  26         1            3     \n",
       "24  28         0            1     \n",
       "25  31         0            1     \n",
       "26  34         0            2     \n",
       "27  35         0            1     \n",
       "28  36         0            1     \n",
       "29  38         0            3     \n",
       "30  39         0            3     \n",
       "... ...        ...          ...   \n",
       "861 NA         NA           NA    \n",
       "862 NA         NA           NA    \n",
       "863 NA         NA           NA    \n",
       "864 NA         NA           NA    \n",
       "865 NA         NA           NA    \n",
       "866 NA         NA           NA    \n",
       "867 NA         NA           NA    \n",
       "868 NA         NA           NA    \n",
       "869 NA         NA           NA    \n",
       "870 NA         NA           NA    \n",
       "871 NA         NA           NA    \n",
       "872 NA         NA           NA    \n",
       "873 NA         NA           NA    \n",
       "874 NA         NA           NA    \n",
       "875 NA         NA           NA    \n",
       "876 NA         NA           NA    \n",
       "877 NA         NA           NA    \n",
       "878 NA         NA           NA    \n",
       "879 NA         NA           NA    \n",
       "880 NA         NA           NA    \n",
       "881 NA         NA           NA    \n",
       "882 NA         NA           NA    \n",
       "883 NA         NA           NA    \n",
       "884 NA         NA           NA    \n",
       "885 NA         NA           NA    \n",
       "886 NA         NA           NA    \n",
       "887 NA         NA           NA    \n",
       "888 NA         NA           NA    \n",
       "889 NA         NA           NA    \n",
       "890 NA         NA           NA    \n",
       "    Nome                                                      Sexo      Idade\n",
       "1   Braund, Mr. Owen Harris                                   masculino 22   \n",
       "2   Cumings, Mrs. John Bradley (Florence Briggs Thayer)       feminino  38   \n",
       "3   Heikkinen, Miss. Laina                                    feminino  26   \n",
       "4   Futrelle, Mrs. Jacques Heath (Lily May Peel)              feminino  35   \n",
       "5   Allen, Mr. William Henry                                  masculino 35   \n",
       "6   McCarthy, Mr. Timothy J                                   masculino 54   \n",
       "7   Palsson, Master. Gosta Leonard                            masculino  2   \n",
       "8   Johnson, Mrs. Oscar W (Elisabeth Vilhelmina Berg)         feminino  27   \n",
       "9   Nasser, Mrs. Nicholas (Adele Achem)                       feminino  14   \n",
       "10  Sandstrom, Miss. Marguerite Rut                           feminino   4   \n",
       "11  Bonnell, Miss. Elizabeth                                  feminino  58   \n",
       "12  Saundercock, Mr. William Henry                            masculino 20   \n",
       "13  Andersson, Mr. Anders Johan                               masculino 39   \n",
       "14  Vestrom, Miss. Hulda Amanda Adolfina                      feminino  14   \n",
       "15  Hewlett, Mrs. (Mary D Kingcome)                           feminino  55   \n",
       "16  Rice, Master. Eugene                                      masculino  2   \n",
       "17  Vander Planke, Mrs. Julius (Emelia Maria Vandemoortele)   feminino  31   \n",
       "18  Fynney, Mr. Joseph J                                      masculino 35   \n",
       "19  Beesley, Mr. Lawrence                                     masculino 34   \n",
       "20  McGowan, Miss. Anna \"Annie\"                               feminino  15   \n",
       "21  Sloper, Mr. William Thompson                              masculino 28   \n",
       "22  Palsson, Miss. Torborg Danira                             feminino   8   \n",
       "23  Asplund, Mrs. Carl Oscar (Selma Augusta Emilia Johansson) feminino  38   \n",
       "24  Fortune, Mr. Charles Alexander                            masculino 19   \n",
       "25  Uruchurtu, Don. Manuel E                                  masculino 40   \n",
       "26  Wheadon, Mr. Edward H                                     masculino 66   \n",
       "27  Meyer, Mr. Edgar Joseph                                   masculino 28   \n",
       "28  Holverson, Mr. Alexander Oskar                            masculino 42   \n",
       "29  Cann, Mr. Ernest Charles                                  masculino 21   \n",
       "30  Vander Planke, Miss. Augusta Maria                        feminino  18   \n",
       "... ...                                                       ...       ...  \n",
       "861                                                                     NA   \n",
       "862                                                                     NA   \n",
       "863                                                                     NA   \n",
       "864                                                                     NA   \n",
       "865                                                                     NA   \n",
       "866                                                                     NA   \n",
       "867                                                                     NA   \n",
       "868                                                                     NA   \n",
       "869                                                                     NA   \n",
       "870                                                                     NA   \n",
       "871                                                                     NA   \n",
       "872                                                                     NA   \n",
       "873                                                                     NA   \n",
       "874                                                                     NA   \n",
       "875                                                                     NA   \n",
       "876                                                                     NA   \n",
       "877                                                                     NA   \n",
       "878                                                                     NA   \n",
       "879                                                                     NA   \n",
       "880                                                                     NA   \n",
       "881                                                                     NA   \n",
       "882                                                                     NA   \n",
       "883                                                                     NA   \n",
       "884                                                                     NA   \n",
       "885                                                                     NA   \n",
       "886                                                                     NA   \n",
       "887                                                                     NA   \n",
       "888                                                                     NA   \n",
       "889                                                                     NA   \n",
       "890                                                                     NA   \n",
       "    Irmãos Pais Tarifa \n",
       "1   1      0    7,25   \n",
       "2   1      0    712.833\n",
       "3   0      0    7.925  \n",
       "4   1      0    53,1   \n",
       "5   0      0    8,05   \n",
       "6   0      0    518.625\n",
       "7   3      1    21.075 \n",
       "8   0      2    111.333\n",
       "9   1      0    300.708\n",
       "10  1      1    16,7   \n",
       "11  0      0    26,55  \n",
       "12  0      0    8,05   \n",
       "13  1      5    31.275 \n",
       "14  0      0    78.542 \n",
       "15  0      0    16     \n",
       "16  4      1    29.125 \n",
       "17  1      0    18     \n",
       "18  0      0    26     \n",
       "19  0      0    13     \n",
       "20  0      0    80.292 \n",
       "21  0      0    35,5   \n",
       "22  3      1    21.075 \n",
       "23  1      5    313.875\n",
       "24  3      2    263    \n",
       "25  0      0    277.208\n",
       "26  0      0    10,5   \n",
       "27  1      0    821.708\n",
       "28  1      0    52     \n",
       "29  0      0    8,05   \n",
       "30  2      0    18     \n",
       "... ...    ...  ...    \n",
       "861 NA     NA          \n",
       "862 NA     NA          \n",
       "863 NA     NA          \n",
       "864 NA     NA          \n",
       "865 NA     NA          \n",
       "866 NA     NA          \n",
       "867 NA     NA          \n",
       "868 NA     NA          \n",
       "869 NA     NA          \n",
       "870 NA     NA          \n",
       "871 NA     NA          \n",
       "872 NA     NA          \n",
       "873 NA     NA          \n",
       "874 NA     NA          \n",
       "875 NA     NA          \n",
       "876 NA     NA          \n",
       "877 NA     NA          \n",
       "878 NA     NA          \n",
       "879 NA     NA          \n",
       "880 NA     NA          \n",
       "881 NA     NA          \n",
       "882 NA     NA          \n",
       "883 NA     NA          \n",
       "884 NA     NA          \n",
       "885 NA     NA          \n",
       "886 NA     NA          \n",
       "887 NA     NA          \n",
       "888 NA     NA          \n",
       "889 NA     NA          \n",
       "890 NA     NA          "
      ]
     },
     "metadata": {},
     "output_type": "display_data"
    }
   ],
   "source": [
    "DataTitanic <- read.csv2(\"Data Titanic.csv\")\n",
    "DataTitanic"
   ]
  },
  {
   "cell_type": "markdown",
   "metadata": {},
   "source": [
    "`After, we'll get our logitic model with glm function.\n",
    "Let's check first whether your gender will influence on your survive odd (if you watched the movie, you already know the answer). As we are talking about a chance of success (survive) and failure (die), we are going to work with a binomial error distribution.`"
   ]
  },
  {
   "cell_type": "code",
   "execution_count": 20,
   "metadata": {},
   "outputs": [
    {
     "data": {
      "text/plain": [
       "\n",
       "Call:\n",
       "glm(formula = Sobrevivente ~ Sexo, family = binomial(link = \"logit\"))\n",
       "\n",
       "Deviance Residuals: \n",
       "    Min       1Q   Median       3Q      Max  \n",
       "-1.6767  -0.6779  -0.6779   0.7501   1.7795  \n",
       "\n",
       "Coefficients:\n",
       "              Estimate Std. Error z value Pr(>|z|)    \n",
       "(Intercept)     1.1243     0.1439   7.814 5.52e-15 ***\n",
       "Sexomasculino  -2.4778     0.1850 -13.392  < 2e-16 ***\n",
       "---\n",
       "Signif. codes:  0 '***' 0.001 '**' 0.01 '*' 0.05 '.' 0.1 ' ' 1\n",
       "\n",
       "(Dispersion parameter for binomial family taken to be 1)\n",
       "\n",
       "    Null deviance: 964.52  on 713  degrees of freedom\n",
       "Residual deviance: 750.70  on 712  degrees of freedom\n",
       "  (176 observations deleted due to missingness)\n",
       "AIC: 754.7\n",
       "\n",
       "Number of Fisher Scoring iterations: 4\n"
      ]
     },
     "metadata": {},
     "output_type": "display_data"
    }
   ],
   "source": [
    "model <- glm(Sobrevivente~Sexo, family = binomial(link=\"logit\"))\n",
    "summary(model)"
   ]
  },
  {
   "cell_type": "markdown",
   "metadata": {},
   "source": [
    "`We have some information now to analyze.`\n",
    "* On intercept, we see the Estimate Std ($\\beta_0 = 1.1243$).\n",
    "* Also, We have a male gender Estimate Std. ($\\beta_1 = -2.4778$). The value of $e^{\\beta_1} = 0.084 = 8.4\\%$ indicates how much the odds radio changes when we go from a category to other. (Whaaaat?)\n",
    "* In other words, when someone from the female group becomes male, they have $1 - 0.084 = 0.916 = 92\\%$ more chance of dying.\n",
    "* Notice that, with a negative $\\beta_1$, the chances of failure (not surviving) are greater with men than women.\n",
    "* We can also calculate: $1/e^{\\beta_1} = 11.91$. It means that the female group is 11 times more successful than the male group. In other words, you'd have 11 more chances to survive if you were a woman on Titanic.\n",
    "\n",
    "`We can also analyze whether our model is significant.`\n",
    "* We see that P-value ($Pr(>|z|)$) are very low for $\\beta_0$ and $\\beta_1$.\n",
    "* Usually, when P-value < 0.05, we say that the variable is significant.\n",
    "* Also, the stars next to the P-value mean their value range. Three stars ($***$) means a value between 0 and 0.1%."
   ]
  },
  {
   "cell_type": "markdown",
   "metadata": {},
   "source": [
    "`We can also analyze it based on age information.\n",
    "The question here is: \"if I'm older or younger, my chances to survive will increase?\"\n",
    "To answer this, we can create a model and check the variables.`"
   ]
  },
  {
   "cell_type": "code",
   "execution_count": 22,
   "metadata": {},
   "outputs": [
    {
     "data": {
      "text/plain": [
       "\n",
       "Call:\n",
       "glm(formula = Sobrevivente ~ Idade, family = binomial(link = \"logit\"))\n",
       "\n",
       "Deviance Residuals: \n",
       "    Min       1Q   Median       3Q      Max  \n",
       "-1.1488  -1.0361  -0.9544   1.3159   1.5908  \n",
       "\n",
       "Coefficients:\n",
       "            Estimate Std. Error z value Pr(>|z|)  \n",
       "(Intercept) -0.05672    0.17358  -0.327   0.7438  \n",
       "Idade       -0.01096    0.00533  -2.057   0.0397 *\n",
       "---\n",
       "Signif. codes:  0 '***' 0.001 '**' 0.01 '*' 0.05 '.' 0.1 ' ' 1\n",
       "\n",
       "(Dispersion parameter for binomial family taken to be 1)\n",
       "\n",
       "    Null deviance: 964.52  on 713  degrees of freedom\n",
       "Residual deviance: 960.23  on 712  degrees of freedom\n",
       "  (176 observations deleted due to missingness)\n",
       "AIC: 964.23\n",
       "\n",
       "Number of Fisher Scoring iterations: 4\n"
      ]
     },
     "metadata": {},
     "output_type": "display_data"
    }
   ],
   "source": [
    "model2 <- glm(Sobrevivente~Idade, family = binomial(link=\"logit\"))\n",
    "summary(model2)"
   ]
  },
  {
   "cell_type": "markdown",
   "metadata": {},
   "source": [
    "`First thing to notice is that $\\beta_1$ in this case is negative, meaning that when age increases, your chances of success decrease.`\n",
    "\n",
    "Calculating $e^{-0.01096} = 0.99$, we'll know that, for one year that you are older, your chance of failure will increase 0.99%.\n"
   ]
  },
  {
   "cell_type": "markdown",
   "metadata": {},
   "source": [
    "`Another analysis can be: \"What if I decide to go to a higher class? Will my odds to survive increase?\"\n",
    "Once again, if you watched the movie, you already know the answer...`"
   ]
  },
  {
   "cell_type": "code",
   "execution_count": 27,
   "metadata": {},
   "outputs": [
    {
     "data": {
      "text/plain": [
       "\n",
       "Call:\n",
       "glm(formula = Sobrevivente ~ Classe, family = binomial(link = \"logit\"))\n",
       "\n",
       "Deviance Residuals: \n",
       "    Min       1Q   Median       3Q      Max  \n",
       "-1.4892  -0.7530  -0.7530   0.8948   1.6727  \n",
       "\n",
       "Coefficients:\n",
       "            Estimate Std. Error z value Pr(>|z|)    \n",
       "(Intercept)  1.62053    0.22852   7.091 1.33e-12 ***\n",
       "Classe      -0.91199    0.09854  -9.255  < 2e-16 ***\n",
       "---\n",
       "Signif. codes:  0 '***' 0.001 '**' 0.01 '*' 0.05 '.' 0.1 ' ' 1\n",
       "\n",
       "(Dispersion parameter for binomial family taken to be 1)\n",
       "\n",
       "    Null deviance: 964.52  on 713  degrees of freedom\n",
       "Residual deviance: 870.73  on 712  degrees of freedom\n",
       "  (176 observations deleted due to missingness)\n",
       "AIC: 874.73\n",
       "\n",
       "Number of Fisher Scoring iterations: 4\n"
      ]
     },
     "metadata": {},
     "output_type": "display_data"
    }
   ],
   "source": [
    "model3 <- glm(Sobrevivente~Classe, family = binomial(link=\"logit\"));\n",
    "summary(model3)"
   ]
  },
  {
   "cell_type": "markdown",
   "metadata": {},
   "source": [
    "We see here that $\\beta_1 = -0.91199$. It means, when you increase your class, your odds to survive are *lower* in $e^{-0.912} = 0.4 = 40\\%$.\n",
    "What??\n",
    "\n",
    "Well, remember that increase your class means that the number representing it will decrease (1st class is higher than the 2nd, which is higher than the 3rd), but R doesn't know that yet. He thinks that class is only an integer."
   ]
  },
  {
   "cell_type": "code",
   "execution_count": 29,
   "metadata": {},
   "outputs": [
    {
     "data": {
      "text/html": [
       "'integer'"
      ],
      "text/latex": [
       "'integer'"
      ],
      "text/markdown": [
       "'integer'"
      ],
      "text/plain": [
       "[1] \"integer\""
      ]
     },
     "metadata": {},
     "output_type": "display_data"
    }
   ],
   "source": [
    "class(Classe)"
   ]
  },
  {
   "cell_type": "markdown",
   "metadata": {},
   "source": [
    "`One way to make it understand how people are divided on ocean liners based upon on how much they could pay for it is to convert the class information to a factor. To make our life easier, let's create a new variable called ClassCat and include it on our data base.`"
   ]
  },
  {
   "cell_type": "code",
   "execution_count": 40,
   "metadata": {},
   "outputs": [
    {
     "data": {
      "text/html": [
       "'factor'"
      ],
      "text/latex": [
       "'factor'"
      ],
      "text/markdown": [
       "'factor'"
      ],
      "text/plain": [
       "[1] \"factor\""
      ]
     },
     "metadata": {},
     "output_type": "display_data"
    }
   ],
   "source": [
    "DataTitanic$ClasseCat <- as.factor(Classe)\n",
    "class(DataTitanic$ClasseCat)"
   ]
  },
  {
   "cell_type": "code",
   "execution_count": 44,
   "metadata": {},
   "outputs": [
    {
     "data": {
      "text/plain": [
       "\n",
       "Call:\n",
       "glm(formula = Sobrevivente ~ DataTitanic$ClasseCat, family = binomial(link = \"logit\"))\n",
       "\n",
       "Deviance Residuals: \n",
       "    Min       1Q   Median       3Q      Max  \n",
       "-1.4607  -0.7399  -0.7399   0.9184   1.6908  \n",
       "\n",
       "Coefficients:\n",
       "                       Estimate Std. Error z value Pr(>|z|)    \n",
       "(Intercept)              0.6451     0.1543   4.180 2.92e-05 ***\n",
       "DataTitanic$ClasseCat2  -0.7261     0.2168  -3.350 0.000808 ***\n",
       "DataTitanic$ClasseCat3  -1.8009     0.1982  -9.086  < 2e-16 ***\n",
       "---\n",
       "Signif. codes:  0 '***' 0.001 '**' 0.01 '*' 0.05 '.' 0.1 ' ' 1\n",
       "\n",
       "(Dispersion parameter for binomial family taken to be 1)\n",
       "\n",
       "    Null deviance: 964.52  on 713  degrees of freedom\n",
       "Residual deviance: 869.81  on 711  degrees of freedom\n",
       "  (176 observations deleted due to missingness)\n",
       "AIC: 875.81\n",
       "\n",
       "Number of Fisher Scoring iterations: 4\n"
      ]
     },
     "metadata": {},
     "output_type": "display_data"
    }
   ],
   "source": [
    "model4 <- glm(Sobrevivente~DataTitanic$ClasseCat, family = binomial(link=\"logit\"))\n",
    "summary(model4)"
   ]
  },
  {
   "cell_type": "markdown",
   "metadata": {},
   "source": [
    "Now, we have a beta value for each class\n",
    "* classe1: exp (0.6451) = 1.906\n",
    "   * 1.9x more chances to survive compared to other classes\n",
    "* class2: exp (-0.7261) = 0.48\n",
    "   * 52% more likely to die on 2nd class compared to 1st class\n",
    "* class3: exp (-1.8009) = 0.165\n",
    "   * 83% more likely to die on 3rd class compared to 1st class"
   ]
  },
  {
   "cell_type": "markdown",
   "metadata": {},
   "source": [
    "`With this, let's create our full model with all important characterists.`"
   ]
  },
  {
   "cell_type": "code",
   "execution_count": 45,
   "metadata": {},
   "outputs": [
    {
     "data": {
      "text/plain": [
       "\n",
       "Call:\n",
       "glm(formula = Sobrevivente ~ Sexo + Idade + Irmãos + Pais + DataTitanic$ClasseCat, \n",
       "    family = binomial(link = \"logit\"))\n",
       "\n",
       "Deviance Residuals: \n",
       "    Min       1Q   Median       3Q      Max  \n",
       "-2.7723  -0.6353  -0.3869   0.6327   2.4513  \n",
       "\n",
       "Coefficients:\n",
       "                        Estimate Std. Error z value Pr(>|z|)    \n",
       "(Intercept)             4.356474   0.455990   9.554  < 2e-16 ***\n",
       "Sexomasculino          -2.642267   0.219749 -12.024  < 2e-16 ***\n",
       "Idade                  -0.044836   0.008229  -5.448 5.09e-08 ***\n",
       "Irmãos                 -0.368280   0.126827  -2.904  0.00369 ** \n",
       "Pais                   -0.038607   0.119601  -0.323  0.74685    \n",
       "DataTitanic$ClasseCat2 -1.415376   0.284712  -4.971 6.65e-07 ***\n",
       "DataTitanic$ClasseCat3 -2.650169   0.285724  -9.275  < 2e-16 ***\n",
       "---\n",
       "Signif. codes:  0 '***' 0.001 '**' 0.01 '*' 0.05 '.' 0.1 ' ' 1\n",
       "\n",
       "(Dispersion parameter for binomial family taken to be 1)\n",
       "\n",
       "    Null deviance: 964.52  on 713  degrees of freedom\n",
       "Residual deviance: 636.46  on 707  degrees of freedom\n",
       "  (176 observations deleted due to missingness)\n",
       "AIC: 650.46\n",
       "\n",
       "Number of Fisher Scoring iterations: 5\n"
      ]
     },
     "metadata": {},
     "output_type": "display_data"
    }
   ],
   "source": [
    "model5 <- glm(Sobrevivente~Sexo+Idade+Irmãos+Pais+DataTitanic$ClasseCat, family = binomial(link=\"logit\"))\n",
    "summary(model5)"
   ]
  },
  {
   "cell_type": "markdown",
   "metadata": {},
   "source": [
    "Quickly checking the asteristics we can know that the variable related to parents is not really important for all model.\n",
    "Let's remove this information from our final model."
   ]
  },
  {
   "cell_type": "code",
   "execution_count": 48,
   "metadata": {},
   "outputs": [
    {
     "data": {
      "text/plain": [
       "\n",
       "Call:\n",
       "glm(formula = Sobrevivente ~ Sexo + Idade + Irmãos + DataTitanic$ClasseCat, \n",
       "    family = binomial(link = \"logit\"))\n",
       "\n",
       "Deviance Residuals: \n",
       "    Min       1Q   Median       3Q      Max  \n",
       "-2.7876  -0.6417  -0.3864   0.6261   2.4539  \n",
       "\n",
       "Coefficients:\n",
       "                        Estimate Std. Error z value Pr(>|z|)    \n",
       "(Intercept)             4.334201   0.450700   9.617  < 2e-16 ***\n",
       "Sexomasculino          -2.627679   0.214771 -12.235  < 2e-16 ***\n",
       "Idade                  -0.044760   0.008225  -5.442 5.27e-08 ***\n",
       "Irmãos                 -0.380190   0.121516  -3.129  0.00176 ** \n",
       "DataTitanic$ClasseCat2 -1.414360   0.284727  -4.967 6.78e-07 ***\n",
       "DataTitanic$ClasseCat3 -2.652618   0.285832  -9.280  < 2e-16 ***\n",
       "---\n",
       "Signif. codes:  0 '***' 0.001 '**' 0.01 '*' 0.05 '.' 0.1 ' ' 1\n",
       "\n",
       "(Dispersion parameter for binomial family taken to be 1)\n",
       "\n",
       "    Null deviance: 964.52  on 713  degrees of freedom\n",
       "Residual deviance: 636.56  on 708  degrees of freedom\n",
       "  (176 observations deleted due to missingness)\n",
       "AIC: 648.56\n",
       "\n",
       "Number of Fisher Scoring iterations: 5\n"
      ]
     },
     "metadata": {},
     "output_type": "display_data"
    }
   ],
   "source": [
    "model6 <- glm(Sobrevivente~Sexo+Idade+Irmãos+DataTitanic$ClasseCat, family = binomial(link=\"logit\"))\n",
    "summary(model6)"
   ]
  },
  {
   "cell_type": "markdown",
   "metadata": {},
   "source": [
    "`Ok, so with this we can create our fuction to calculate your odds to survive on Titanic.`"
   ]
  },
  {
   "cell_type": "code",
   "execution_count": 65,
   "metadata": {},
   "outputs": [],
   "source": [
    "odds2survive <- function(gender, age, brothersister, class) {\n",
    "    beta <- 4.334201 -0.044760 * age + -0.380190 * brothersister\n",
    "    if (gender == 'M'){\n",
    "        beta <- beta - 2.627679\n",
    "    }\n",
    "    if (class == 2){\n",
    "        beta <- beta - 1.414360\n",
    "    }\n",
    "    if (class == 3){\n",
    "        beta <- beta - 2.652618\n",
    "    }\n",
    "    odds <- exp(beta)/(1 + exp(beta))\n",
    "    \n",
    "    cat(sprintf(\"Your odds to survive on Titanic are: %f\", odds))\n",
    "}"
   ]
  },
  {
   "cell_type": "markdown",
   "metadata": {},
   "source": [
    "`Let's check what's the odds for a 17 years-old Rose to survive:`"
   ]
  },
  {
   "cell_type": "code",
   "execution_count": 71,
   "metadata": {},
   "outputs": [
    {
     "name": "stdout",
     "output_type": "stream",
     "text": [
      "Your odds to survive on Titanic are: 0.972702"
     ]
    }
   ],
   "source": [
    "odds2survive('F', 17, 0, 1)"
   ]
  },
  {
   "cell_type": "markdown",
   "metadata": {},
   "source": [
    "`Now, let's check Jack's odds:`"
   ]
  },
  {
   "cell_type": "code",
   "execution_count": 72,
   "metadata": {},
   "outputs": [
    {
     "name": "stdout",
     "output_type": "stream",
     "text": [
      "Your odds to survive on Titanic are: 0.136898"
     ]
    }
   ],
   "source": [
    "odds2survive('M', 20, 0, 3)"
   ]
  },
  {
   "cell_type": "markdown",
   "metadata": {},
   "source": [
    "`Well, may the odds be ever in your favor!`"
   ]
  }
 ],
 "metadata": {
  "kernelspec": {
   "display_name": "R",
   "language": "R",
   "name": "ir"
  },
  "language_info": {
   "codemirror_mode": "r",
   "file_extension": ".r",
   "mimetype": "text/x-r-source",
   "name": "R",
   "pygments_lexer": "r",
   "version": "3.6.2"
  }
 },
 "nbformat": 4,
 "nbformat_minor": 4
}
