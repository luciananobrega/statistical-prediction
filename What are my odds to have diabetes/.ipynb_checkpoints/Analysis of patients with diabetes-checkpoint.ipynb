{
 "cells": [
  {
   "cell_type": "markdown",
   "metadata": {},
   "source": [
    "Now, it's time to know how to analyze data related to health. As Titanic case, we will use logistic regression for this, because we have two possibilities on the output: have or do not have diabetes.\n",
    "But... first things first.\n",
    "\n",
    "# Preparing the data for logistic regression\n",
    "First, let's check our data!"
   ]
  },
  {
   "cell_type": "code",
   "execution_count": 2,
   "metadata": {},
   "outputs": [
    {
     "data": {
      "text/html": [
       "<table>\n",
       "<caption>A data.frame: 403 × 24</caption>\n",
       "<thead>\n",
       "\t<tr><th scope=col>X</th><th scope=col>id</th><th scope=col>chol</th><th scope=col>stab.glu</th><th scope=col>hdl</th><th scope=col>ratio</th><th scope=col>glyhb</th><th scope=col>location</th><th scope=col>age</th><th scope=col>gender</th><th scope=col>...</th><th scope=col>bp.1d</th><th scope=col>bp.2s</th><th scope=col>bp.2d</th><th scope=col>waist</th><th scope=col>hip</th><th scope=col>time.ppn</th><th scope=col>insurance</th><th scope=col>fh</th><th scope=col>smoking</th><th scope=col>dm</th></tr>\n",
       "\t<tr><th scope=col>&lt;int&gt;</th><th scope=col>&lt;int&gt;</th><th scope=col>&lt;int&gt;</th><th scope=col>&lt;int&gt;</th><th scope=col>&lt;int&gt;</th><th scope=col>&lt;fct&gt;</th><th scope=col>&lt;fct&gt;</th><th scope=col>&lt;fct&gt;</th><th scope=col>&lt;int&gt;</th><th scope=col>&lt;fct&gt;</th><th scope=col>...</th><th scope=col>&lt;int&gt;</th><th scope=col>&lt;int&gt;</th><th scope=col>&lt;int&gt;</th><th scope=col>&lt;int&gt;</th><th scope=col>&lt;int&gt;</th><th scope=col>&lt;int&gt;</th><th scope=col>&lt;int&gt;</th><th scope=col>&lt;int&gt;</th><th scope=col>&lt;int&gt;</th><th scope=col>&lt;fct&gt;</th></tr>\n",
       "</thead>\n",
       "<tbody>\n",
       "\t<tr><td> 1</td><td>1000</td><td>203</td><td> 82</td><td>56</td><td>3.599999905</td><td>4.309999943</td><td>Buckingham</td><td>46</td><td>female</td><td>...</td><td> 59</td><td> NA</td><td> NA</td><td>29</td><td>38</td><td> 720</td><td>1</td><td>0</td><td>3</td><td>no </td></tr>\n",
       "\t<tr><td> 2</td><td>1001</td><td>165</td><td> 97</td><td>24</td><td>6.900000095</td><td>4.440000057</td><td>Buckingham</td><td>29</td><td>female</td><td>...</td><td> 68</td><td> NA</td><td> NA</td><td>46</td><td>48</td><td> 360</td><td>0</td><td>0</td><td>2</td><td>no </td></tr>\n",
       "\t<tr><td> 3</td><td>1002</td><td>228</td><td> 92</td><td>37</td><td>6.199999809</td><td>4.639999866</td><td>Buckingham</td><td>58</td><td>female</td><td>...</td><td> 92</td><td>185</td><td> 92</td><td>49</td><td>57</td><td> 180</td><td>2</td><td>0</td><td>2</td><td>no </td></tr>\n",
       "\t<tr><td> 4</td><td>1003</td><td> 78</td><td> 93</td><td>12</td><td>6.5        </td><td>4.630000114</td><td>Buckingham</td><td>67</td><td>male  </td><td>...</td><td> 50</td><td> NA</td><td> NA</td><td>33</td><td>38</td><td> 480</td><td>1</td><td>0</td><td>3</td><td>no </td></tr>\n",
       "\t<tr><td> 5</td><td>1005</td><td>249</td><td> 90</td><td>28</td><td>8.899999619</td><td>7.71999979 </td><td>Buckingham</td><td>64</td><td>male  </td><td>...</td><td> 80</td><td> NA</td><td> NA</td><td>44</td><td>41</td><td> 300</td><td>0</td><td>0</td><td>3</td><td>yes</td></tr>\n",
       "\t<tr><td> 6</td><td>1008</td><td>248</td><td> 94</td><td>69</td><td>3.599999905</td><td>4.809999943</td><td>Buckingham</td><td>34</td><td>male  </td><td>...</td><td> 86</td><td> NA</td><td> NA</td><td>36</td><td>42</td><td> 195</td><td>1</td><td>0</td><td>1</td><td>no </td></tr>\n",
       "\t<tr><td> 7</td><td>1011</td><td>195</td><td> 92</td><td>41</td><td>4.800000191</td><td>4.840000153</td><td>Buckingham</td><td>30</td><td>male  </td><td>...</td><td>112</td><td>161</td><td>112</td><td>46</td><td>49</td><td> 720</td><td>2</td><td>1</td><td>2</td><td>no </td></tr>\n",
       "\t<tr><td> 8</td><td>1015</td><td>227</td><td> 75</td><td>44</td><td>5.199999809</td><td>3.940000057</td><td>Buckingham</td><td>37</td><td>male  </td><td>...</td><td> NA</td><td> NA</td><td> NA</td><td>34</td><td>39</td><td>1020</td><td>0</td><td>0</td><td>2</td><td>no </td></tr>\n",
       "\t<tr><td> 9</td><td>1016</td><td>177</td><td> 87</td><td>49</td><td>3.599999905</td><td>4.840000153</td><td>Buckingham</td><td>45</td><td>male  </td><td>...</td><td> 80</td><td>128</td><td> 86</td><td>34</td><td>40</td><td> 300</td><td>2</td><td>1</td><td>1</td><td>no </td></tr>\n",
       "\t<tr><td>10</td><td>1022</td><td>263</td><td> 89</td><td>40</td><td>6.599999905</td><td>5.78000021 </td><td>Buckingham</td><td>55</td><td>female</td><td>...</td><td> 72</td><td> NA</td><td> NA</td><td>45</td><td>50</td><td> 240</td><td>2</td><td>0</td><td>2</td><td>no </td></tr>\n",
       "\t<tr><td>11</td><td>1024</td><td>242</td><td> 82</td><td>54</td><td>4.5        </td><td>4.769999981</td><td>Louisa    </td><td>60</td><td>female</td><td>...</td><td> 90</td><td>130</td><td> 90</td><td>39</td><td>45</td><td> 300</td><td>1</td><td>0</td><td>2</td><td>no </td></tr>\n",
       "\t<tr><td>12</td><td>1029</td><td>215</td><td>128</td><td>34</td><td>6.300000191</td><td>4.96999979 </td><td>Louisa    </td><td>38</td><td>female</td><td>...</td><td> 68</td><td> NA</td><td> NA</td><td>42</td><td>50</td><td>  90</td><td>0</td><td>0</td><td>2</td><td>no </td></tr>\n",
       "\t<tr><td>13</td><td>1030</td><td>238</td><td> 75</td><td>36</td><td>6.599999905</td><td>4.46999979 </td><td>Louisa    </td><td>27</td><td>female</td><td>...</td><td> 80</td><td> NA</td><td> NA</td><td>35</td><td>41</td><td> 720</td><td>0</td><td>0</td><td>1</td><td>no </td></tr>\n",
       "\t<tr><td>14</td><td>1031</td><td>183</td><td> 79</td><td>46</td><td>4          </td><td>4.590000153</td><td>Louisa    </td><td>40</td><td>female</td><td>...</td><td> NA</td><td> NA</td><td> NA</td><td>37</td><td>43</td><td>  60</td><td>2</td><td>0</td><td>1</td><td>no </td></tr>\n",
       "\t<tr><td>15</td><td>1035</td><td>191</td><td> 76</td><td>30</td><td>6.400000095</td><td>4.670000076</td><td>Louisa    </td><td>36</td><td>male  </td><td>...</td><td> 66</td><td> NA</td><td> NA</td><td>36</td><td>40</td><td> 225</td><td>0</td><td>0</td><td>1</td><td>no </td></tr>\n",
       "\t<tr><td>16</td><td>1036</td><td>213</td><td> 83</td><td>47</td><td>4.5        </td><td>3.410000086</td><td>Louisa    </td><td>33</td><td>female</td><td>...</td><td> 90</td><td>120</td><td> 96</td><td>37</td><td>41</td><td> 240</td><td>0</td><td>1</td><td>2</td><td>no </td></tr>\n",
       "\t<tr><td>17</td><td>1037</td><td>255</td><td> 78</td><td>38</td><td>6.699999809</td><td>4.329999924</td><td>Louisa    </td><td>50</td><td>female</td><td>...</td><td>100</td><td> NA</td><td> NA</td><td>37</td><td>43</td><td> 180</td><td>1</td><td>0</td><td>1</td><td>no </td></tr>\n",
       "\t<tr><td>18</td><td>1041</td><td>230</td><td>112</td><td>64</td><td>3.599999905</td><td>4.53000021 </td><td>Louisa    </td><td>20</td><td>male  </td><td>...</td><td> 90</td><td> NA</td><td> NA</td><td>31</td><td>39</td><td>1440</td><td>2</td><td>0</td><td>2</td><td>no </td></tr>\n",
       "\t<tr><td>19</td><td>1045</td><td>194</td><td> 81</td><td>36</td><td>5.400000095</td><td>5.28000021 </td><td>Louisa    </td><td>36</td><td>male  </td><td>...</td><td> 76</td><td> NA</td><td> NA</td><td>30</td><td>34</td><td> 120</td><td>1</td><td>0</td><td>1</td><td>no </td></tr>\n",
       "\t<tr><td>20</td><td>1250</td><td>196</td><td>206</td><td>41</td><td>4.800000191</td><td>11.23999977</td><td>Buckingham</td><td>62</td><td>female</td><td>...</td><td> 90</td><td> NA</td><td> NA</td><td>46</td><td>51</td><td> 540</td><td>0</td><td>0</td><td>2</td><td>yes</td></tr>\n",
       "\t<tr><td>21</td><td>1252</td><td>186</td><td> 97</td><td>50</td><td>3.700000048</td><td>6.489999771</td><td>Buckingham</td><td>70</td><td>male  </td><td>...</td><td> 88</td><td>148</td><td> 84</td><td>42</td><td>41</td><td>1020</td><td>2</td><td>0</td><td>2</td><td>no </td></tr>\n",
       "\t<tr><td>22</td><td>1253</td><td>234</td><td> 65</td><td>76</td><td>3.099999905</td><td>4.670000076</td><td>Buckingham</td><td>47</td><td>male  </td><td>...</td><td>100</td><td>149</td><td>110</td><td>45</td><td>46</td><td> 480</td><td>0</td><td>0</td><td>2</td><td>no </td></tr>\n",
       "\t<tr><td>23</td><td>1254</td><td>203</td><td>299</td><td>43</td><td>4.699999809</td><td>12.73999977</td><td>Buckingham</td><td>38</td><td>female</td><td>...</td><td> 83</td><td> NA</td><td> NA</td><td>48</td><td>55</td><td> 240</td><td>1</td><td>1</td><td>2</td><td>yes</td></tr>\n",
       "\t<tr><td>24</td><td>1256</td><td>281</td><td> 92</td><td>41</td><td>6.900000095</td><td>5.559999943</td><td>Buckingham</td><td>66</td><td>female</td><td>...</td><td> 88</td><td>160</td><td> 88</td><td>48</td><td>44</td><td> 285</td><td>1</td><td>0</td><td>1</td><td>no </td></tr>\n",
       "\t<tr><td>25</td><td>1271</td><td>228</td><td> 66</td><td>45</td><td>5.099999905</td><td>4.610000134</td><td>Buckingham</td><td>24</td><td>female</td><td>...</td><td> 70</td><td>110</td><td> 70</td><td>33</td><td>38</td><td> 210</td><td>2</td><td>0</td><td>1</td><td>no </td></tr>\n",
       "\t<tr><td>26</td><td>1277</td><td>179</td><td> 80</td><td>92</td><td>1.899999976</td><td>4.179999828</td><td>Buckingham</td><td>41</td><td>female</td><td>...</td><td>112</td><td> NA</td><td> NA</td><td>28</td><td>36</td><td> 780</td><td>1</td><td>0</td><td>2</td><td>no </td></tr>\n",
       "\t<tr><td>27</td><td>1280</td><td>232</td><td> 87</td><td>30</td><td>7.699999809</td><td>5.099999905</td><td>Buckingham</td><td>37</td><td>male  </td><td>...</td><td> 95</td><td> NA</td><td> NA</td><td>43</td><td>47</td><td> 420</td><td>1</td><td>1</td><td>2</td><td>no </td></tr>\n",
       "\t<tr><td>28</td><td>1281</td><td> NA</td><td> 74</td><td>NA</td><td>NA         </td><td>4.28000021 </td><td>Buckingham</td><td>48</td><td>male  </td><td>...</td><td> 85</td><td> NA</td><td> NA</td><td>27</td><td>33</td><td> 510</td><td>0</td><td>1</td><td>1</td><td>no </td></tr>\n",
       "\t<tr><td>29</td><td>1282</td><td>254</td><td> 84</td><td>52</td><td>4.900000095</td><td>4.519999981</td><td>Buckingham</td><td>43</td><td>female</td><td>...</td><td> 70</td><td> NA</td><td> NA</td><td>31</td><td>38</td><td> 720</td><td>2</td><td>0</td><td>3</td><td>no </td></tr>\n",
       "\t<tr><td>30</td><td>1285</td><td>215</td><td> 72</td><td>42</td><td>5.099999905</td><td>4.369999886</td><td>Louisa    </td><td>40</td><td>male  </td><td>...</td><td>122</td><td>170</td><td>112</td><td>37</td><td>39</td><td> 450</td><td>0</td><td>0</td><td>2</td><td>no </td></tr>\n",
       "\t<tr><td>...</td><td>...</td><td>...</td><td>...</td><td>...</td><td>...</td><td>...</td><td>...</td><td>...</td><td>...</td><td></td><td>...</td><td>...</td><td>...</td><td>...</td><td>...</td><td>...</td><td>...</td><td>...</td><td>...</td><td>...</td></tr>\n",
       "\t<tr><td>374</td><td>40804</td><td>179</td><td>105</td><td> 60</td><td>3          </td><td>4.679999828</td><td>Louisa</td><td>20</td><td>female</td><td>...</td><td>100</td><td>138</td><td> 82</td><td>34</td><td>46</td><td> 270</td><td>2</td><td>0</td><td>2</td><td>no </td></tr>\n",
       "\t<tr><td>375</td><td>40805</td><td>202</td><td> 84</td><td> 33</td><td>6.099999905</td><td>4.170000076</td><td>Louisa</td><td>44</td><td>male  </td><td>...</td><td> 80</td><td> NA</td><td> NA</td><td>33</td><td>37</td><td> 180</td><td>0</td><td>0</td><td>2</td><td>no </td></tr>\n",
       "\t<tr><td>376</td><td>41000</td><td>194</td><td> 87</td><td> 65</td><td>3          </td><td>4.139999866</td><td>Louisa</td><td>54</td><td>male  </td><td>...</td><td> 96</td><td>160</td><td> 94</td><td>30</td><td>37</td><td>  15</td><td>1</td><td>0</td><td>1</td><td>no </td></tr>\n",
       "\t<tr><td>377</td><td>41001</td><td>227</td><td> 85</td><td> 26</td><td>8.699999809</td><td>4.980000019</td><td>Louisa</td><td>58</td><td>male  </td><td>...</td><td> 82</td><td>144</td><td> 80</td><td>38</td><td>43</td><td> 480</td><td>2</td><td>0</td><td>2</td><td>no </td></tr>\n",
       "\t<tr><td>378</td><td>41003</td><td>337</td><td> 85</td><td> 62</td><td>5.400000095</td><td>4.659999847</td><td>Louisa</td><td>35</td><td>male  </td><td>...</td><td> 84</td><td> NA</td><td> NA</td><td>36</td><td>44</td><td> 240</td><td>0</td><td>0</td><td>1</td><td>no </td></tr>\n",
       "\t<tr><td>379</td><td>41004</td><td>255</td><td> 83</td><td> 90</td><td>2.799999952</td><td>4.289999962</td><td>Louisa</td><td>52</td><td>male  </td><td>...</td><td>110</td><td>166</td><td>108</td><td>30</td><td>33</td><td> 780</td><td>2</td><td>1</td><td>3</td><td>no </td></tr>\n",
       "\t<tr><td>380</td><td>41021</td><td>162</td><td> 90</td><td> 46</td><td>3.5        </td><td>5.559999943</td><td>Louisa</td><td>60</td><td>female</td><td>...</td><td> 64</td><td> NA</td><td> NA</td><td>32</td><td>34</td><td> 300</td><td>2</td><td>0</td><td>2</td><td>no </td></tr>\n",
       "\t<tr><td>381</td><td>41023</td><td>322</td><td> 87</td><td> 92</td><td>3.5        </td><td>4.449999809</td><td>Louisa</td><td>43</td><td>female</td><td>...</td><td> 98</td><td>122</td><td>100</td><td>32</td><td>41</td><td>  60</td><td>0</td><td>0</td><td>2</td><td>no </td></tr>\n",
       "\t<tr><td>382</td><td>41029</td><td>289</td><td>267</td><td> 38</td><td>7.599999905</td><td>11.40999985</td><td>Louisa</td><td>59</td><td>male  </td><td>...</td><td> 79</td><td> NA</td><td> NA</td><td>36</td><td>38</td><td> 900</td><td>0</td><td>0</td><td>3</td><td>yes</td></tr>\n",
       "\t<tr><td>383</td><td>41034</td><td>217</td><td> 87</td><td> 40</td><td>5.400000095</td><td>4.070000172</td><td>Louisa</td><td>33</td><td>female</td><td>...</td><td> 90</td><td>138</td><td> 84</td><td>42</td><td>46</td><td>  40</td><td>1</td><td>0</td><td>2</td><td>no </td></tr>\n",
       "\t<tr><td>384</td><td>41035</td><td>209</td><td> 91</td><td> 36</td><td>5.800000191</td><td>5.010000229</td><td>Louisa</td><td>37</td><td>male  </td><td>...</td><td> 94</td><td>130</td><td> 88</td><td>42</td><td>48</td><td> 450</td><td>1</td><td>0</td><td>3</td><td>no </td></tr>\n",
       "\t<tr><td>385</td><td>41036</td><td>214</td><td> 77</td><td> 48</td><td>4.5        </td><td>4.480000019</td><td>Louisa</td><td>40</td><td>male  </td><td>...</td><td> 84</td><td> NA</td><td> NA</td><td>40</td><td>44</td><td>1020</td><td>2</td><td>1</td><td>3</td><td>no </td></tr>\n",
       "\t<tr><td>386</td><td>41037</td><td>302</td><td> 81</td><td> 57</td><td>5.300000191</td><td>4.650000095</td><td>Louisa</td><td>38</td><td>female</td><td>...</td><td> 82</td><td> NA</td><td> NA</td><td>41</td><td>51</td><td> 210</td><td>2</td><td>0</td><td>2</td><td>no </td></tr>\n",
       "\t<tr><td>387</td><td>41039</td><td>179</td><td> 85</td><td> 52</td><td>3.400000095</td><td>4.050000191</td><td>Louisa</td><td>32</td><td>female</td><td>...</td><td> 96</td><td>148</td><td>100</td><td>37</td><td>47</td><td>  60</td><td>2</td><td>1</td><td>1</td><td>no </td></tr>\n",
       "\t<tr><td>388</td><td>41041</td><td>279</td><td>270</td><td> 40</td><td>7          </td><td>8.109999657</td><td>Louisa</td><td>60</td><td>female</td><td>...</td><td> 90</td><td>174</td><td> 84</td><td>48</td><td>50</td><td> 180</td><td>1</td><td>1</td><td>1</td><td>yes</td></tr>\n",
       "\t<tr><td>389</td><td>41055</td><td>144</td><td> 81</td><td> 28</td><td>5.099999905</td><td>4.130000114</td><td>Louisa</td><td>30</td><td>male  </td><td>...</td><td> 78</td><td> NA</td><td> NA</td><td>31</td><td>38</td><td> 180</td><td>2</td><td>1</td><td>1</td><td>no </td></tr>\n",
       "\t<tr><td>390</td><td>41063</td><td>270</td><td> 73</td><td> 40</td><td>6.800000191</td><td>3.579999924</td><td>Louisa</td><td>42</td><td>male  </td><td>...</td><td> 94</td><td>149</td><td> 94</td><td>39</td><td>41</td><td>  30</td><td>0</td><td>0</td><td>2</td><td>no </td></tr>\n",
       "\t<tr><td>391</td><td>41065</td><td>196</td><td>120</td><td> 67</td><td>2.900000095</td><td>9.369999886</td><td>Louisa</td><td>52</td><td>female</td><td>...</td><td> 94</td><td>142</td><td> 92</td><td>34</td><td>42</td><td> 480</td><td>2</td><td>0</td><td>1</td><td>yes</td></tr>\n",
       "\t<tr><td>392</td><td>41075</td><td>221</td><td>126</td><td> 48</td><td>4.599999905</td><td>5.53000021 </td><td>Louisa</td><td>59</td><td>female</td><td>...</td><td> 78</td><td> NA</td><td> NA</td><td>39</td><td>45</td><td>  60</td><td>2</td><td>0</td><td>1</td><td>no </td></tr>\n",
       "\t<tr><td>393</td><td>41078</td><td>210</td><td> 81</td><td> 81</td><td>2.599999905</td><td>4.960000038</td><td>Louisa</td><td>78</td><td>male  </td><td>...</td><td> 70</td><td> NA</td><td> NA</td><td>38</td><td>39</td><td> 540</td><td>1</td><td>1</td><td>2</td><td>no </td></tr>\n",
       "\t<tr><td>394</td><td>41253</td><td>192</td><td> 85</td><td> 69</td><td>2.799999952</td><td>4.380000114</td><td>Louisa</td><td>51</td><td>male  </td><td>...</td><td>110</td><td>170</td><td>118</td><td>NA</td><td>NA</td><td>  60</td><td>0</td><td>0</td><td>3</td><td>no </td></tr>\n",
       "\t<tr><td>395</td><td>41254</td><td>169</td><td>104</td><td> 58</td><td>2.900000095</td><td>4.820000172</td><td>Louisa</td><td>25</td><td>female</td><td>...</td><td> 95</td><td>130</td><td> 94</td><td>40</td><td>42</td><td>  60</td><td>0</td><td>0</td><td>2</td><td>no </td></tr>\n",
       "\t<tr><td>396</td><td>41500</td><td>179</td><td> 85</td><td> 50</td><td>3.599999905</td><td>4.989999771</td><td>Louisa</td><td>37</td><td>male  </td><td>...</td><td> 94</td><td>172</td><td>100</td><td>33</td><td>39</td><td> 480</td><td>0</td><td>0</td><td>2</td><td>no </td></tr>\n",
       "\t<tr><td>397</td><td>41501</td><td>216</td><td> 84</td><td> 64</td><td>3.400000095</td><td>NA         </td><td>Louisa</td><td>54</td><td>female</td><td>...</td><td> 90</td><td>126</td><td> 80</td><td>38</td><td>42</td><td> 330</td><td>2</td><td>0</td><td>1</td><td>NA </td></tr>\n",
       "\t<tr><td>398</td><td>41503</td><td>301</td><td> 90</td><td>118</td><td>2.599999905</td><td>4.28000021 </td><td>Louisa</td><td>89</td><td>female</td><td>...</td><td> 90</td><td>238</td><td> 90</td><td>31</td><td>41</td><td> 210</td><td>1</td><td>0</td><td>3</td><td>no </td></tr>\n",
       "\t<tr><td>399</td><td>41506</td><td>296</td><td>369</td><td> 46</td><td>6.400000095</td><td>16.11000061</td><td>Louisa</td><td>53</td><td>male  </td><td>...</td><td> 94</td><td>130</td><td> 94</td><td>35</td><td>39</td><td> 210</td><td>2</td><td>0</td><td>1</td><td>yes</td></tr>\n",
       "\t<tr><td>400</td><td>41507</td><td>284</td><td> 89</td><td> 54</td><td>5.300000191</td><td>4.389999866</td><td>Louisa</td><td>51</td><td>female</td><td>...</td><td>100</td><td>146</td><td>102</td><td>32</td><td>43</td><td> 180</td><td>2</td><td>0</td><td>3</td><td>no </td></tr>\n",
       "\t<tr><td>401</td><td>41510</td><td>194</td><td>269</td><td> 38</td><td>5.099999905</td><td>13.63000011</td><td>Louisa</td><td>29</td><td>female</td><td>...</td><td> 70</td><td> NA</td><td> NA</td><td>33</td><td>40</td><td>  20</td><td>0</td><td>1</td><td>2</td><td>yes</td></tr>\n",
       "\t<tr><td>402</td><td>41752</td><td>199</td><td> 76</td><td> 52</td><td>3.799999952</td><td>4.489999771</td><td>Louisa</td><td>41</td><td>female</td><td>...</td><td> 78</td><td> NA</td><td> NA</td><td>41</td><td>48</td><td> 255</td><td>2</td><td>0</td><td>2</td><td>no </td></tr>\n",
       "\t<tr><td>403</td><td>41756</td><td>159</td><td> 88</td><td> 79</td><td>2          </td><td>NA         </td><td>Louisa</td><td>68</td><td>female</td><td>...</td><td> 72</td><td> NA</td><td> NA</td><td>49</td><td>58</td><td> 900</td><td>0</td><td>0</td><td>1</td><td>NA </td></tr>\n",
       "</tbody>\n",
       "</table>\n"
      ],
      "text/latex": [
       "A data.frame: 403 × 24\n",
       "\\begin{tabular}{lllllllllllllllllllll}\n",
       " X & id & chol & stab.glu & hdl & ratio & glyhb & location & age & gender & ... & bp.1d & bp.2s & bp.2d & waist & hip & time.ppn & insurance & fh & smoking & dm\\\\\n",
       " <int> & <int> & <int> & <int> & <int> & <fct> & <fct> & <fct> & <int> & <fct> & ... & <int> & <int> & <int> & <int> & <int> & <int> & <int> & <int> & <int> & <fct>\\\\\n",
       "\\hline\n",
       "\t  1 & 1000 & 203 &  82 & 56 & 3.599999905 & 4.309999943 & Buckingham & 46 & female & ... &  59 &  NA &  NA & 29 & 38 &  720 & 1 & 0 & 3 & no \\\\\n",
       "\t  2 & 1001 & 165 &  97 & 24 & 6.900000095 & 4.440000057 & Buckingham & 29 & female & ... &  68 &  NA &  NA & 46 & 48 &  360 & 0 & 0 & 2 & no \\\\\n",
       "\t  3 & 1002 & 228 &  92 & 37 & 6.199999809 & 4.639999866 & Buckingham & 58 & female & ... &  92 & 185 &  92 & 49 & 57 &  180 & 2 & 0 & 2 & no \\\\\n",
       "\t  4 & 1003 &  78 &  93 & 12 & 6.5         & 4.630000114 & Buckingham & 67 & male   & ... &  50 &  NA &  NA & 33 & 38 &  480 & 1 & 0 & 3 & no \\\\\n",
       "\t  5 & 1005 & 249 &  90 & 28 & 8.899999619 & 7.71999979  & Buckingham & 64 & male   & ... &  80 &  NA &  NA & 44 & 41 &  300 & 0 & 0 & 3 & yes\\\\\n",
       "\t  6 & 1008 & 248 &  94 & 69 & 3.599999905 & 4.809999943 & Buckingham & 34 & male   & ... &  86 &  NA &  NA & 36 & 42 &  195 & 1 & 0 & 1 & no \\\\\n",
       "\t  7 & 1011 & 195 &  92 & 41 & 4.800000191 & 4.840000153 & Buckingham & 30 & male   & ... & 112 & 161 & 112 & 46 & 49 &  720 & 2 & 1 & 2 & no \\\\\n",
       "\t  8 & 1015 & 227 &  75 & 44 & 5.199999809 & 3.940000057 & Buckingham & 37 & male   & ... &  NA &  NA &  NA & 34 & 39 & 1020 & 0 & 0 & 2 & no \\\\\n",
       "\t  9 & 1016 & 177 &  87 & 49 & 3.599999905 & 4.840000153 & Buckingham & 45 & male   & ... &  80 & 128 &  86 & 34 & 40 &  300 & 2 & 1 & 1 & no \\\\\n",
       "\t 10 & 1022 & 263 &  89 & 40 & 6.599999905 & 5.78000021  & Buckingham & 55 & female & ... &  72 &  NA &  NA & 45 & 50 &  240 & 2 & 0 & 2 & no \\\\\n",
       "\t 11 & 1024 & 242 &  82 & 54 & 4.5         & 4.769999981 & Louisa     & 60 & female & ... &  90 & 130 &  90 & 39 & 45 &  300 & 1 & 0 & 2 & no \\\\\n",
       "\t 12 & 1029 & 215 & 128 & 34 & 6.300000191 & 4.96999979  & Louisa     & 38 & female & ... &  68 &  NA &  NA & 42 & 50 &   90 & 0 & 0 & 2 & no \\\\\n",
       "\t 13 & 1030 & 238 &  75 & 36 & 6.599999905 & 4.46999979  & Louisa     & 27 & female & ... &  80 &  NA &  NA & 35 & 41 &  720 & 0 & 0 & 1 & no \\\\\n",
       "\t 14 & 1031 & 183 &  79 & 46 & 4           & 4.590000153 & Louisa     & 40 & female & ... &  NA &  NA &  NA & 37 & 43 &   60 & 2 & 0 & 1 & no \\\\\n",
       "\t 15 & 1035 & 191 &  76 & 30 & 6.400000095 & 4.670000076 & Louisa     & 36 & male   & ... &  66 &  NA &  NA & 36 & 40 &  225 & 0 & 0 & 1 & no \\\\\n",
       "\t 16 & 1036 & 213 &  83 & 47 & 4.5         & 3.410000086 & Louisa     & 33 & female & ... &  90 & 120 &  96 & 37 & 41 &  240 & 0 & 1 & 2 & no \\\\\n",
       "\t 17 & 1037 & 255 &  78 & 38 & 6.699999809 & 4.329999924 & Louisa     & 50 & female & ... & 100 &  NA &  NA & 37 & 43 &  180 & 1 & 0 & 1 & no \\\\\n",
       "\t 18 & 1041 & 230 & 112 & 64 & 3.599999905 & 4.53000021  & Louisa     & 20 & male   & ... &  90 &  NA &  NA & 31 & 39 & 1440 & 2 & 0 & 2 & no \\\\\n",
       "\t 19 & 1045 & 194 &  81 & 36 & 5.400000095 & 5.28000021  & Louisa     & 36 & male   & ... &  76 &  NA &  NA & 30 & 34 &  120 & 1 & 0 & 1 & no \\\\\n",
       "\t 20 & 1250 & 196 & 206 & 41 & 4.800000191 & 11.23999977 & Buckingham & 62 & female & ... &  90 &  NA &  NA & 46 & 51 &  540 & 0 & 0 & 2 & yes\\\\\n",
       "\t 21 & 1252 & 186 &  97 & 50 & 3.700000048 & 6.489999771 & Buckingham & 70 & male   & ... &  88 & 148 &  84 & 42 & 41 & 1020 & 2 & 0 & 2 & no \\\\\n",
       "\t 22 & 1253 & 234 &  65 & 76 & 3.099999905 & 4.670000076 & Buckingham & 47 & male   & ... & 100 & 149 & 110 & 45 & 46 &  480 & 0 & 0 & 2 & no \\\\\n",
       "\t 23 & 1254 & 203 & 299 & 43 & 4.699999809 & 12.73999977 & Buckingham & 38 & female & ... &  83 &  NA &  NA & 48 & 55 &  240 & 1 & 1 & 2 & yes\\\\\n",
       "\t 24 & 1256 & 281 &  92 & 41 & 6.900000095 & 5.559999943 & Buckingham & 66 & female & ... &  88 & 160 &  88 & 48 & 44 &  285 & 1 & 0 & 1 & no \\\\\n",
       "\t 25 & 1271 & 228 &  66 & 45 & 5.099999905 & 4.610000134 & Buckingham & 24 & female & ... &  70 & 110 &  70 & 33 & 38 &  210 & 2 & 0 & 1 & no \\\\\n",
       "\t 26 & 1277 & 179 &  80 & 92 & 1.899999976 & 4.179999828 & Buckingham & 41 & female & ... & 112 &  NA &  NA & 28 & 36 &  780 & 1 & 0 & 2 & no \\\\\n",
       "\t 27 & 1280 & 232 &  87 & 30 & 7.699999809 & 5.099999905 & Buckingham & 37 & male   & ... &  95 &  NA &  NA & 43 & 47 &  420 & 1 & 1 & 2 & no \\\\\n",
       "\t 28 & 1281 &  NA &  74 & NA & NA          & 4.28000021  & Buckingham & 48 & male   & ... &  85 &  NA &  NA & 27 & 33 &  510 & 0 & 1 & 1 & no \\\\\n",
       "\t 29 & 1282 & 254 &  84 & 52 & 4.900000095 & 4.519999981 & Buckingham & 43 & female & ... &  70 &  NA &  NA & 31 & 38 &  720 & 2 & 0 & 3 & no \\\\\n",
       "\t 30 & 1285 & 215 &  72 & 42 & 5.099999905 & 4.369999886 & Louisa     & 40 & male   & ... & 122 & 170 & 112 & 37 & 39 &  450 & 0 & 0 & 2 & no \\\\\n",
       "\t ... & ... & ... & ... & ... & ... & ... & ... & ... & ... &  & ... & ... & ... & ... & ... & ... & ... & ... & ... & ...\\\\\n",
       "\t 374 & 40804 & 179 & 105 &  60 & 3           & 4.679999828 & Louisa & 20 & female & ... & 100 & 138 &  82 & 34 & 46 &  270 & 2 & 0 & 2 & no \\\\\n",
       "\t 375 & 40805 & 202 &  84 &  33 & 6.099999905 & 4.170000076 & Louisa & 44 & male   & ... &  80 &  NA &  NA & 33 & 37 &  180 & 0 & 0 & 2 & no \\\\\n",
       "\t 376 & 41000 & 194 &  87 &  65 & 3           & 4.139999866 & Louisa & 54 & male   & ... &  96 & 160 &  94 & 30 & 37 &   15 & 1 & 0 & 1 & no \\\\\n",
       "\t 377 & 41001 & 227 &  85 &  26 & 8.699999809 & 4.980000019 & Louisa & 58 & male   & ... &  82 & 144 &  80 & 38 & 43 &  480 & 2 & 0 & 2 & no \\\\\n",
       "\t 378 & 41003 & 337 &  85 &  62 & 5.400000095 & 4.659999847 & Louisa & 35 & male   & ... &  84 &  NA &  NA & 36 & 44 &  240 & 0 & 0 & 1 & no \\\\\n",
       "\t 379 & 41004 & 255 &  83 &  90 & 2.799999952 & 4.289999962 & Louisa & 52 & male   & ... & 110 & 166 & 108 & 30 & 33 &  780 & 2 & 1 & 3 & no \\\\\n",
       "\t 380 & 41021 & 162 &  90 &  46 & 3.5         & 5.559999943 & Louisa & 60 & female & ... &  64 &  NA &  NA & 32 & 34 &  300 & 2 & 0 & 2 & no \\\\\n",
       "\t 381 & 41023 & 322 &  87 &  92 & 3.5         & 4.449999809 & Louisa & 43 & female & ... &  98 & 122 & 100 & 32 & 41 &   60 & 0 & 0 & 2 & no \\\\\n",
       "\t 382 & 41029 & 289 & 267 &  38 & 7.599999905 & 11.40999985 & Louisa & 59 & male   & ... &  79 &  NA &  NA & 36 & 38 &  900 & 0 & 0 & 3 & yes\\\\\n",
       "\t 383 & 41034 & 217 &  87 &  40 & 5.400000095 & 4.070000172 & Louisa & 33 & female & ... &  90 & 138 &  84 & 42 & 46 &   40 & 1 & 0 & 2 & no \\\\\n",
       "\t 384 & 41035 & 209 &  91 &  36 & 5.800000191 & 5.010000229 & Louisa & 37 & male   & ... &  94 & 130 &  88 & 42 & 48 &  450 & 1 & 0 & 3 & no \\\\\n",
       "\t 385 & 41036 & 214 &  77 &  48 & 4.5         & 4.480000019 & Louisa & 40 & male   & ... &  84 &  NA &  NA & 40 & 44 & 1020 & 2 & 1 & 3 & no \\\\\n",
       "\t 386 & 41037 & 302 &  81 &  57 & 5.300000191 & 4.650000095 & Louisa & 38 & female & ... &  82 &  NA &  NA & 41 & 51 &  210 & 2 & 0 & 2 & no \\\\\n",
       "\t 387 & 41039 & 179 &  85 &  52 & 3.400000095 & 4.050000191 & Louisa & 32 & female & ... &  96 & 148 & 100 & 37 & 47 &   60 & 2 & 1 & 1 & no \\\\\n",
       "\t 388 & 41041 & 279 & 270 &  40 & 7           & 8.109999657 & Louisa & 60 & female & ... &  90 & 174 &  84 & 48 & 50 &  180 & 1 & 1 & 1 & yes\\\\\n",
       "\t 389 & 41055 & 144 &  81 &  28 & 5.099999905 & 4.130000114 & Louisa & 30 & male   & ... &  78 &  NA &  NA & 31 & 38 &  180 & 2 & 1 & 1 & no \\\\\n",
       "\t 390 & 41063 & 270 &  73 &  40 & 6.800000191 & 3.579999924 & Louisa & 42 & male   & ... &  94 & 149 &  94 & 39 & 41 &   30 & 0 & 0 & 2 & no \\\\\n",
       "\t 391 & 41065 & 196 & 120 &  67 & 2.900000095 & 9.369999886 & Louisa & 52 & female & ... &  94 & 142 &  92 & 34 & 42 &  480 & 2 & 0 & 1 & yes\\\\\n",
       "\t 392 & 41075 & 221 & 126 &  48 & 4.599999905 & 5.53000021  & Louisa & 59 & female & ... &  78 &  NA &  NA & 39 & 45 &   60 & 2 & 0 & 1 & no \\\\\n",
       "\t 393 & 41078 & 210 &  81 &  81 & 2.599999905 & 4.960000038 & Louisa & 78 & male   & ... &  70 &  NA &  NA & 38 & 39 &  540 & 1 & 1 & 2 & no \\\\\n",
       "\t 394 & 41253 & 192 &  85 &  69 & 2.799999952 & 4.380000114 & Louisa & 51 & male   & ... & 110 & 170 & 118 & NA & NA &   60 & 0 & 0 & 3 & no \\\\\n",
       "\t 395 & 41254 & 169 & 104 &  58 & 2.900000095 & 4.820000172 & Louisa & 25 & female & ... &  95 & 130 &  94 & 40 & 42 &   60 & 0 & 0 & 2 & no \\\\\n",
       "\t 396 & 41500 & 179 &  85 &  50 & 3.599999905 & 4.989999771 & Louisa & 37 & male   & ... &  94 & 172 & 100 & 33 & 39 &  480 & 0 & 0 & 2 & no \\\\\n",
       "\t 397 & 41501 & 216 &  84 &  64 & 3.400000095 & NA          & Louisa & 54 & female & ... &  90 & 126 &  80 & 38 & 42 &  330 & 2 & 0 & 1 & NA \\\\\n",
       "\t 398 & 41503 & 301 &  90 & 118 & 2.599999905 & 4.28000021  & Louisa & 89 & female & ... &  90 & 238 &  90 & 31 & 41 &  210 & 1 & 0 & 3 & no \\\\\n",
       "\t 399 & 41506 & 296 & 369 &  46 & 6.400000095 & 16.11000061 & Louisa & 53 & male   & ... &  94 & 130 &  94 & 35 & 39 &  210 & 2 & 0 & 1 & yes\\\\\n",
       "\t 400 & 41507 & 284 &  89 &  54 & 5.300000191 & 4.389999866 & Louisa & 51 & female & ... & 100 & 146 & 102 & 32 & 43 &  180 & 2 & 0 & 3 & no \\\\\n",
       "\t 401 & 41510 & 194 & 269 &  38 & 5.099999905 & 13.63000011 & Louisa & 29 & female & ... &  70 &  NA &  NA & 33 & 40 &   20 & 0 & 1 & 2 & yes\\\\\n",
       "\t 402 & 41752 & 199 &  76 &  52 & 3.799999952 & 4.489999771 & Louisa & 41 & female & ... &  78 &  NA &  NA & 41 & 48 &  255 & 2 & 0 & 2 & no \\\\\n",
       "\t 403 & 41756 & 159 &  88 &  79 & 2           & NA          & Louisa & 68 & female & ... &  72 &  NA &  NA & 49 & 58 &  900 & 0 & 0 & 1 & NA \\\\\n",
       "\\end{tabular}\n"
      ],
      "text/markdown": [
       "\n",
       "A data.frame: 403 × 24\n",
       "\n",
       "| X &lt;int&gt; | id &lt;int&gt; | chol &lt;int&gt; | stab.glu &lt;int&gt; | hdl &lt;int&gt; | ratio &lt;fct&gt; | glyhb &lt;fct&gt; | location &lt;fct&gt; | age &lt;int&gt; | gender &lt;fct&gt; | ... ... | bp.1d &lt;int&gt; | bp.2s &lt;int&gt; | bp.2d &lt;int&gt; | waist &lt;int&gt; | hip &lt;int&gt; | time.ppn &lt;int&gt; | insurance &lt;int&gt; | fh &lt;int&gt; | smoking &lt;int&gt; | dm &lt;fct&gt; |\n",
       "|---|---|---|---|---|---|---|---|---|---|---|---|---|---|---|---|---|---|---|---|---|\n",
       "|  1 | 1000 | 203 |  82 | 56 | 3.599999905 | 4.309999943 | Buckingham | 46 | female | ... |  59 |  NA |  NA | 29 | 38 |  720 | 1 | 0 | 3 | no  |\n",
       "|  2 | 1001 | 165 |  97 | 24 | 6.900000095 | 4.440000057 | Buckingham | 29 | female | ... |  68 |  NA |  NA | 46 | 48 |  360 | 0 | 0 | 2 | no  |\n",
       "|  3 | 1002 | 228 |  92 | 37 | 6.199999809 | 4.639999866 | Buckingham | 58 | female | ... |  92 | 185 |  92 | 49 | 57 |  180 | 2 | 0 | 2 | no  |\n",
       "|  4 | 1003 |  78 |  93 | 12 | 6.5         | 4.630000114 | Buckingham | 67 | male   | ... |  50 |  NA |  NA | 33 | 38 |  480 | 1 | 0 | 3 | no  |\n",
       "|  5 | 1005 | 249 |  90 | 28 | 8.899999619 | 7.71999979  | Buckingham | 64 | male   | ... |  80 |  NA |  NA | 44 | 41 |  300 | 0 | 0 | 3 | yes |\n",
       "|  6 | 1008 | 248 |  94 | 69 | 3.599999905 | 4.809999943 | Buckingham | 34 | male   | ... |  86 |  NA |  NA | 36 | 42 |  195 | 1 | 0 | 1 | no  |\n",
       "|  7 | 1011 | 195 |  92 | 41 | 4.800000191 | 4.840000153 | Buckingham | 30 | male   | ... | 112 | 161 | 112 | 46 | 49 |  720 | 2 | 1 | 2 | no  |\n",
       "|  8 | 1015 | 227 |  75 | 44 | 5.199999809 | 3.940000057 | Buckingham | 37 | male   | ... |  NA |  NA |  NA | 34 | 39 | 1020 | 0 | 0 | 2 | no  |\n",
       "|  9 | 1016 | 177 |  87 | 49 | 3.599999905 | 4.840000153 | Buckingham | 45 | male   | ... |  80 | 128 |  86 | 34 | 40 |  300 | 2 | 1 | 1 | no  |\n",
       "| 10 | 1022 | 263 |  89 | 40 | 6.599999905 | 5.78000021  | Buckingham | 55 | female | ... |  72 |  NA |  NA | 45 | 50 |  240 | 2 | 0 | 2 | no  |\n",
       "| 11 | 1024 | 242 |  82 | 54 | 4.5         | 4.769999981 | Louisa     | 60 | female | ... |  90 | 130 |  90 | 39 | 45 |  300 | 1 | 0 | 2 | no  |\n",
       "| 12 | 1029 | 215 | 128 | 34 | 6.300000191 | 4.96999979  | Louisa     | 38 | female | ... |  68 |  NA |  NA | 42 | 50 |   90 | 0 | 0 | 2 | no  |\n",
       "| 13 | 1030 | 238 |  75 | 36 | 6.599999905 | 4.46999979  | Louisa     | 27 | female | ... |  80 |  NA |  NA | 35 | 41 |  720 | 0 | 0 | 1 | no  |\n",
       "| 14 | 1031 | 183 |  79 | 46 | 4           | 4.590000153 | Louisa     | 40 | female | ... |  NA |  NA |  NA | 37 | 43 |   60 | 2 | 0 | 1 | no  |\n",
       "| 15 | 1035 | 191 |  76 | 30 | 6.400000095 | 4.670000076 | Louisa     | 36 | male   | ... |  66 |  NA |  NA | 36 | 40 |  225 | 0 | 0 | 1 | no  |\n",
       "| 16 | 1036 | 213 |  83 | 47 | 4.5         | 3.410000086 | Louisa     | 33 | female | ... |  90 | 120 |  96 | 37 | 41 |  240 | 0 | 1 | 2 | no  |\n",
       "| 17 | 1037 | 255 |  78 | 38 | 6.699999809 | 4.329999924 | Louisa     | 50 | female | ... | 100 |  NA |  NA | 37 | 43 |  180 | 1 | 0 | 1 | no  |\n",
       "| 18 | 1041 | 230 | 112 | 64 | 3.599999905 | 4.53000021  | Louisa     | 20 | male   | ... |  90 |  NA |  NA | 31 | 39 | 1440 | 2 | 0 | 2 | no  |\n",
       "| 19 | 1045 | 194 |  81 | 36 | 5.400000095 | 5.28000021  | Louisa     | 36 | male   | ... |  76 |  NA |  NA | 30 | 34 |  120 | 1 | 0 | 1 | no  |\n",
       "| 20 | 1250 | 196 | 206 | 41 | 4.800000191 | 11.23999977 | Buckingham | 62 | female | ... |  90 |  NA |  NA | 46 | 51 |  540 | 0 | 0 | 2 | yes |\n",
       "| 21 | 1252 | 186 |  97 | 50 | 3.700000048 | 6.489999771 | Buckingham | 70 | male   | ... |  88 | 148 |  84 | 42 | 41 | 1020 | 2 | 0 | 2 | no  |\n",
       "| 22 | 1253 | 234 |  65 | 76 | 3.099999905 | 4.670000076 | Buckingham | 47 | male   | ... | 100 | 149 | 110 | 45 | 46 |  480 | 0 | 0 | 2 | no  |\n",
       "| 23 | 1254 | 203 | 299 | 43 | 4.699999809 | 12.73999977 | Buckingham | 38 | female | ... |  83 |  NA |  NA | 48 | 55 |  240 | 1 | 1 | 2 | yes |\n",
       "| 24 | 1256 | 281 |  92 | 41 | 6.900000095 | 5.559999943 | Buckingham | 66 | female | ... |  88 | 160 |  88 | 48 | 44 |  285 | 1 | 0 | 1 | no  |\n",
       "| 25 | 1271 | 228 |  66 | 45 | 5.099999905 | 4.610000134 | Buckingham | 24 | female | ... |  70 | 110 |  70 | 33 | 38 |  210 | 2 | 0 | 1 | no  |\n",
       "| 26 | 1277 | 179 |  80 | 92 | 1.899999976 | 4.179999828 | Buckingham | 41 | female | ... | 112 |  NA |  NA | 28 | 36 |  780 | 1 | 0 | 2 | no  |\n",
       "| 27 | 1280 | 232 |  87 | 30 | 7.699999809 | 5.099999905 | Buckingham | 37 | male   | ... |  95 |  NA |  NA | 43 | 47 |  420 | 1 | 1 | 2 | no  |\n",
       "| 28 | 1281 |  NA |  74 | NA | NA          | 4.28000021  | Buckingham | 48 | male   | ... |  85 |  NA |  NA | 27 | 33 |  510 | 0 | 1 | 1 | no  |\n",
       "| 29 | 1282 | 254 |  84 | 52 | 4.900000095 | 4.519999981 | Buckingham | 43 | female | ... |  70 |  NA |  NA | 31 | 38 |  720 | 2 | 0 | 3 | no  |\n",
       "| 30 | 1285 | 215 |  72 | 42 | 5.099999905 | 4.369999886 | Louisa     | 40 | male   | ... | 122 | 170 | 112 | 37 | 39 |  450 | 0 | 0 | 2 | no  |\n",
       "| ... | ... | ... | ... | ... | ... | ... | ... | ... | ... | <!----> | ... | ... | ... | ... | ... | ... | ... | ... | ... | ... |\n",
       "| 374 | 40804 | 179 | 105 |  60 | 3           | 4.679999828 | Louisa | 20 | female | ... | 100 | 138 |  82 | 34 | 46 |  270 | 2 | 0 | 2 | no  |\n",
       "| 375 | 40805 | 202 |  84 |  33 | 6.099999905 | 4.170000076 | Louisa | 44 | male   | ... |  80 |  NA |  NA | 33 | 37 |  180 | 0 | 0 | 2 | no  |\n",
       "| 376 | 41000 | 194 |  87 |  65 | 3           | 4.139999866 | Louisa | 54 | male   | ... |  96 | 160 |  94 | 30 | 37 |   15 | 1 | 0 | 1 | no  |\n",
       "| 377 | 41001 | 227 |  85 |  26 | 8.699999809 | 4.980000019 | Louisa | 58 | male   | ... |  82 | 144 |  80 | 38 | 43 |  480 | 2 | 0 | 2 | no  |\n",
       "| 378 | 41003 | 337 |  85 |  62 | 5.400000095 | 4.659999847 | Louisa | 35 | male   | ... |  84 |  NA |  NA | 36 | 44 |  240 | 0 | 0 | 1 | no  |\n",
       "| 379 | 41004 | 255 |  83 |  90 | 2.799999952 | 4.289999962 | Louisa | 52 | male   | ... | 110 | 166 | 108 | 30 | 33 |  780 | 2 | 1 | 3 | no  |\n",
       "| 380 | 41021 | 162 |  90 |  46 | 3.5         | 5.559999943 | Louisa | 60 | female | ... |  64 |  NA |  NA | 32 | 34 |  300 | 2 | 0 | 2 | no  |\n",
       "| 381 | 41023 | 322 |  87 |  92 | 3.5         | 4.449999809 | Louisa | 43 | female | ... |  98 | 122 | 100 | 32 | 41 |   60 | 0 | 0 | 2 | no  |\n",
       "| 382 | 41029 | 289 | 267 |  38 | 7.599999905 | 11.40999985 | Louisa | 59 | male   | ... |  79 |  NA |  NA | 36 | 38 |  900 | 0 | 0 | 3 | yes |\n",
       "| 383 | 41034 | 217 |  87 |  40 | 5.400000095 | 4.070000172 | Louisa | 33 | female | ... |  90 | 138 |  84 | 42 | 46 |   40 | 1 | 0 | 2 | no  |\n",
       "| 384 | 41035 | 209 |  91 |  36 | 5.800000191 | 5.010000229 | Louisa | 37 | male   | ... |  94 | 130 |  88 | 42 | 48 |  450 | 1 | 0 | 3 | no  |\n",
       "| 385 | 41036 | 214 |  77 |  48 | 4.5         | 4.480000019 | Louisa | 40 | male   | ... |  84 |  NA |  NA | 40 | 44 | 1020 | 2 | 1 | 3 | no  |\n",
       "| 386 | 41037 | 302 |  81 |  57 | 5.300000191 | 4.650000095 | Louisa | 38 | female | ... |  82 |  NA |  NA | 41 | 51 |  210 | 2 | 0 | 2 | no  |\n",
       "| 387 | 41039 | 179 |  85 |  52 | 3.400000095 | 4.050000191 | Louisa | 32 | female | ... |  96 | 148 | 100 | 37 | 47 |   60 | 2 | 1 | 1 | no  |\n",
       "| 388 | 41041 | 279 | 270 |  40 | 7           | 8.109999657 | Louisa | 60 | female | ... |  90 | 174 |  84 | 48 | 50 |  180 | 1 | 1 | 1 | yes |\n",
       "| 389 | 41055 | 144 |  81 |  28 | 5.099999905 | 4.130000114 | Louisa | 30 | male   | ... |  78 |  NA |  NA | 31 | 38 |  180 | 2 | 1 | 1 | no  |\n",
       "| 390 | 41063 | 270 |  73 |  40 | 6.800000191 | 3.579999924 | Louisa | 42 | male   | ... |  94 | 149 |  94 | 39 | 41 |   30 | 0 | 0 | 2 | no  |\n",
       "| 391 | 41065 | 196 | 120 |  67 | 2.900000095 | 9.369999886 | Louisa | 52 | female | ... |  94 | 142 |  92 | 34 | 42 |  480 | 2 | 0 | 1 | yes |\n",
       "| 392 | 41075 | 221 | 126 |  48 | 4.599999905 | 5.53000021  | Louisa | 59 | female | ... |  78 |  NA |  NA | 39 | 45 |   60 | 2 | 0 | 1 | no  |\n",
       "| 393 | 41078 | 210 |  81 |  81 | 2.599999905 | 4.960000038 | Louisa | 78 | male   | ... |  70 |  NA |  NA | 38 | 39 |  540 | 1 | 1 | 2 | no  |\n",
       "| 394 | 41253 | 192 |  85 |  69 | 2.799999952 | 4.380000114 | Louisa | 51 | male   | ... | 110 | 170 | 118 | NA | NA |   60 | 0 | 0 | 3 | no  |\n",
       "| 395 | 41254 | 169 | 104 |  58 | 2.900000095 | 4.820000172 | Louisa | 25 | female | ... |  95 | 130 |  94 | 40 | 42 |   60 | 0 | 0 | 2 | no  |\n",
       "| 396 | 41500 | 179 |  85 |  50 | 3.599999905 | 4.989999771 | Louisa | 37 | male   | ... |  94 | 172 | 100 | 33 | 39 |  480 | 0 | 0 | 2 | no  |\n",
       "| 397 | 41501 | 216 |  84 |  64 | 3.400000095 | NA          | Louisa | 54 | female | ... |  90 | 126 |  80 | 38 | 42 |  330 | 2 | 0 | 1 | NA  |\n",
       "| 398 | 41503 | 301 |  90 | 118 | 2.599999905 | 4.28000021  | Louisa | 89 | female | ... |  90 | 238 |  90 | 31 | 41 |  210 | 1 | 0 | 3 | no  |\n",
       "| 399 | 41506 | 296 | 369 |  46 | 6.400000095 | 16.11000061 | Louisa | 53 | male   | ... |  94 | 130 |  94 | 35 | 39 |  210 | 2 | 0 | 1 | yes |\n",
       "| 400 | 41507 | 284 |  89 |  54 | 5.300000191 | 4.389999866 | Louisa | 51 | female | ... | 100 | 146 | 102 | 32 | 43 |  180 | 2 | 0 | 3 | no  |\n",
       "| 401 | 41510 | 194 | 269 |  38 | 5.099999905 | 13.63000011 | Louisa | 29 | female | ... |  70 |  NA |  NA | 33 | 40 |   20 | 0 | 1 | 2 | yes |\n",
       "| 402 | 41752 | 199 |  76 |  52 | 3.799999952 | 4.489999771 | Louisa | 41 | female | ... |  78 |  NA |  NA | 41 | 48 |  255 | 2 | 0 | 2 | no  |\n",
       "| 403 | 41756 | 159 |  88 |  79 | 2           | NA          | Louisa | 68 | female | ... |  72 |  NA |  NA | 49 | 58 |  900 | 0 | 0 | 1 | NA  |\n",
       "\n"
      ],
      "text/plain": [
       "    X   id    chol stab.glu hdl ratio       glyhb       location   age gender\n",
       "1    1  1000  203   82      56  3.599999905 4.309999943 Buckingham 46  female\n",
       "2    2  1001  165   97      24  6.900000095 4.440000057 Buckingham 29  female\n",
       "3    3  1002  228   92      37  6.199999809 4.639999866 Buckingham 58  female\n",
       "4    4  1003   78   93      12  6.5         4.630000114 Buckingham 67  male  \n",
       "5    5  1005  249   90      28  8.899999619 7.71999979  Buckingham 64  male  \n",
       "6    6  1008  248   94      69  3.599999905 4.809999943 Buckingham 34  male  \n",
       "7    7  1011  195   92      41  4.800000191 4.840000153 Buckingham 30  male  \n",
       "8    8  1015  227   75      44  5.199999809 3.940000057 Buckingham 37  male  \n",
       "9    9  1016  177   87      49  3.599999905 4.840000153 Buckingham 45  male  \n",
       "10  10  1022  263   89      40  6.599999905 5.78000021  Buckingham 55  female\n",
       "11  11  1024  242   82      54  4.5         4.769999981 Louisa     60  female\n",
       "12  12  1029  215  128      34  6.300000191 4.96999979  Louisa     38  female\n",
       "13  13  1030  238   75      36  6.599999905 4.46999979  Louisa     27  female\n",
       "14  14  1031  183   79      46  4           4.590000153 Louisa     40  female\n",
       "15  15  1035  191   76      30  6.400000095 4.670000076 Louisa     36  male  \n",
       "16  16  1036  213   83      47  4.5         3.410000086 Louisa     33  female\n",
       "17  17  1037  255   78      38  6.699999809 4.329999924 Louisa     50  female\n",
       "18  18  1041  230  112      64  3.599999905 4.53000021  Louisa     20  male  \n",
       "19  19  1045  194   81      36  5.400000095 5.28000021  Louisa     36  male  \n",
       "20  20  1250  196  206      41  4.800000191 11.23999977 Buckingham 62  female\n",
       "21  21  1252  186   97      50  3.700000048 6.489999771 Buckingham 70  male  \n",
       "22  22  1253  234   65      76  3.099999905 4.670000076 Buckingham 47  male  \n",
       "23  23  1254  203  299      43  4.699999809 12.73999977 Buckingham 38  female\n",
       "24  24  1256  281   92      41  6.900000095 5.559999943 Buckingham 66  female\n",
       "25  25  1271  228   66      45  5.099999905 4.610000134 Buckingham 24  female\n",
       "26  26  1277  179   80      92  1.899999976 4.179999828 Buckingham 41  female\n",
       "27  27  1280  232   87      30  7.699999809 5.099999905 Buckingham 37  male  \n",
       "28  28  1281   NA   74      NA  NA          4.28000021  Buckingham 48  male  \n",
       "29  29  1282  254   84      52  4.900000095 4.519999981 Buckingham 43  female\n",
       "30  30  1285  215   72      42  5.099999905 4.369999886 Louisa     40  male  \n",
       "... ... ...   ...  ...      ... ...         ...         ...        ... ...   \n",
       "374 374 40804 179  105       60 3           4.679999828 Louisa     20  female\n",
       "375 375 40805 202   84       33 6.099999905 4.170000076 Louisa     44  male  \n",
       "376 376 41000 194   87       65 3           4.139999866 Louisa     54  male  \n",
       "377 377 41001 227   85       26 8.699999809 4.980000019 Louisa     58  male  \n",
       "378 378 41003 337   85       62 5.400000095 4.659999847 Louisa     35  male  \n",
       "379 379 41004 255   83       90 2.799999952 4.289999962 Louisa     52  male  \n",
       "380 380 41021 162   90       46 3.5         5.559999943 Louisa     60  female\n",
       "381 381 41023 322   87       92 3.5         4.449999809 Louisa     43  female\n",
       "382 382 41029 289  267       38 7.599999905 11.40999985 Louisa     59  male  \n",
       "383 383 41034 217   87       40 5.400000095 4.070000172 Louisa     33  female\n",
       "384 384 41035 209   91       36 5.800000191 5.010000229 Louisa     37  male  \n",
       "385 385 41036 214   77       48 4.5         4.480000019 Louisa     40  male  \n",
       "386 386 41037 302   81       57 5.300000191 4.650000095 Louisa     38  female\n",
       "387 387 41039 179   85       52 3.400000095 4.050000191 Louisa     32  female\n",
       "388 388 41041 279  270       40 7           8.109999657 Louisa     60  female\n",
       "389 389 41055 144   81       28 5.099999905 4.130000114 Louisa     30  male  \n",
       "390 390 41063 270   73       40 6.800000191 3.579999924 Louisa     42  male  \n",
       "391 391 41065 196  120       67 2.900000095 9.369999886 Louisa     52  female\n",
       "392 392 41075 221  126       48 4.599999905 5.53000021  Louisa     59  female\n",
       "393 393 41078 210   81       81 2.599999905 4.960000038 Louisa     78  male  \n",
       "394 394 41253 192   85       69 2.799999952 4.380000114 Louisa     51  male  \n",
       "395 395 41254 169  104       58 2.900000095 4.820000172 Louisa     25  female\n",
       "396 396 41500 179   85       50 3.599999905 4.989999771 Louisa     37  male  \n",
       "397 397 41501 216   84       64 3.400000095 NA          Louisa     54  female\n",
       "398 398 41503 301   90      118 2.599999905 4.28000021  Louisa     89  female\n",
       "399 399 41506 296  369       46 6.400000095 16.11000061 Louisa     53  male  \n",
       "400 400 41507 284   89       54 5.300000191 4.389999866 Louisa     51  female\n",
       "401 401 41510 194  269       38 5.099999905 13.63000011 Louisa     29  female\n",
       "402 402 41752 199   76       52 3.799999952 4.489999771 Louisa     41  female\n",
       "403 403 41756 159   88       79 2           NA          Louisa     68  female\n",
       "    ... bp.1d bp.2s bp.2d waist hip time.ppn insurance fh  smoking dm \n",
       "1   ...  59    NA    NA   29    38   720     1         0   3       no \n",
       "2   ...  68    NA    NA   46    48   360     0         0   2       no \n",
       "3   ...  92   185    92   49    57   180     2         0   2       no \n",
       "4   ...  50    NA    NA   33    38   480     1         0   3       no \n",
       "5   ...  80    NA    NA   44    41   300     0         0   3       yes\n",
       "6   ...  86    NA    NA   36    42   195     1         0   1       no \n",
       "7   ... 112   161   112   46    49   720     2         1   2       no \n",
       "8   ...  NA    NA    NA   34    39  1020     0         0   2       no \n",
       "9   ...  80   128    86   34    40   300     2         1   1       no \n",
       "10  ...  72    NA    NA   45    50   240     2         0   2       no \n",
       "11  ...  90   130    90   39    45   300     1         0   2       no \n",
       "12  ...  68    NA    NA   42    50    90     0         0   2       no \n",
       "13  ...  80    NA    NA   35    41   720     0         0   1       no \n",
       "14  ...  NA    NA    NA   37    43    60     2         0   1       no \n",
       "15  ...  66    NA    NA   36    40   225     0         0   1       no \n",
       "16  ...  90   120    96   37    41   240     0         1   2       no \n",
       "17  ... 100    NA    NA   37    43   180     1         0   1       no \n",
       "18  ...  90    NA    NA   31    39  1440     2         0   2       no \n",
       "19  ...  76    NA    NA   30    34   120     1         0   1       no \n",
       "20  ...  90    NA    NA   46    51   540     0         0   2       yes\n",
       "21  ...  88   148    84   42    41  1020     2         0   2       no \n",
       "22  ... 100   149   110   45    46   480     0         0   2       no \n",
       "23  ...  83    NA    NA   48    55   240     1         1   2       yes\n",
       "24  ...  88   160    88   48    44   285     1         0   1       no \n",
       "25  ...  70   110    70   33    38   210     2         0   1       no \n",
       "26  ... 112    NA    NA   28    36   780     1         0   2       no \n",
       "27  ...  95    NA    NA   43    47   420     1         1   2       no \n",
       "28  ...  85    NA    NA   27    33   510     0         1   1       no \n",
       "29  ...  70    NA    NA   31    38   720     2         0   3       no \n",
       "30  ... 122   170   112   37    39   450     0         0   2       no \n",
       "...     ...   ...   ...   ...   ... ...      ...       ... ...     ...\n",
       "374 ... 100   138    82   34    46   270     2         0   2       no \n",
       "375 ...  80    NA    NA   33    37   180     0         0   2       no \n",
       "376 ...  96   160    94   30    37    15     1         0   1       no \n",
       "377 ...  82   144    80   38    43   480     2         0   2       no \n",
       "378 ...  84    NA    NA   36    44   240     0         0   1       no \n",
       "379 ... 110   166   108   30    33   780     2         1   3       no \n",
       "380 ...  64    NA    NA   32    34   300     2         0   2       no \n",
       "381 ...  98   122   100   32    41    60     0         0   2       no \n",
       "382 ...  79    NA    NA   36    38   900     0         0   3       yes\n",
       "383 ...  90   138    84   42    46    40     1         0   2       no \n",
       "384 ...  94   130    88   42    48   450     1         0   3       no \n",
       "385 ...  84    NA    NA   40    44  1020     2         1   3       no \n",
       "386 ...  82    NA    NA   41    51   210     2         0   2       no \n",
       "387 ...  96   148   100   37    47    60     2         1   1       no \n",
       "388 ...  90   174    84   48    50   180     1         1   1       yes\n",
       "389 ...  78    NA    NA   31    38   180     2         1   1       no \n",
       "390 ...  94   149    94   39    41    30     0         0   2       no \n",
       "391 ...  94   142    92   34    42   480     2         0   1       yes\n",
       "392 ...  78    NA    NA   39    45    60     2         0   1       no \n",
       "393 ...  70    NA    NA   38    39   540     1         1   2       no \n",
       "394 ... 110   170   118   NA    NA    60     0         0   3       no \n",
       "395 ...  95   130    94   40    42    60     0         0   2       no \n",
       "396 ...  94   172   100   33    39   480     0         0   2       no \n",
       "397 ...  90   126    80   38    42   330     2         0   1       NA \n",
       "398 ...  90   238    90   31    41   210     1         0   3       no \n",
       "399 ...  94   130    94   35    39   210     2         0   1       yes\n",
       "400 ... 100   146   102   32    43   180     2         0   3       no \n",
       "401 ...  70    NA    NA   33    40    20     0         1   2       yes\n",
       "402 ...  78    NA    NA   41    48   255     2         0   2       no \n",
       "403 ...  72    NA    NA   49    58   900     0         0   1       NA "
      ]
     },
     "metadata": {},
     "output_type": "display_data"
    }
   ],
   "source": [
    "DiabetesData <- read.csv2(\"diabetes_data.csv\", header = TRUE, sep=',')\n",
    "attach(DiabetesData)\n",
    "DiabetesData"
   ]
  },
  {
   "cell_type": "code",
   "execution_count": 25,
   "metadata": {},
   "outputs": [
    {
     "data": {
      "text/plain": [
       "gender\n",
       "female   male    Sum \n",
       "   234    169    403 "
      ]
     },
     "metadata": {},
     "output_type": "display_data"
    },
    {
     "data": {
      "text/plain": [
       "location\n",
       "Buckingham     Louisa        Sum \n",
       "       200        203        403 "
      ]
     },
     "metadata": {},
     "output_type": "display_data"
    }
   ],
   "source": [
    "# to check more information about a specific variable, just do a table on it\n",
    "# to know the sum, include a addmargins\n",
    "gen <- table(gender)\n",
    "loc <-table(location)\n",
    "addmargins(gen)\n",
    "addmargins(loc)"
   ]
  },
  {
   "cell_type": "code",
   "execution_count": 27,
   "metadata": {},
   "outputs": [
    {
     "data": {
      "text/plain": [
       "gender\n",
       "female   male \n",
       " 0.581  0.419 "
      ]
     },
     "metadata": {},
     "output_type": "display_data"
    },
    {
     "data": {
      "text/plain": [
       "location\n",
       "Buckingham     Louisa \n",
       "     0.496      0.504 "
      ]
     },
     "metadata": {},
     "output_type": "display_data"
    }
   ],
   "source": [
    "# We can also know the proportion\n",
    "round(prop.table(gen),digits=3)\n",
    "round(prop.table(loc),digits=3)"
   ]
  },
  {
   "cell_type": "code",
   "execution_count": 31,
   "metadata": {},
   "outputs": [
    {
     "data": {
      "text/plain": [
       "dm\n",
       " no yes \n",
       "330  60 "
      ]
     },
     "metadata": {},
     "output_type": "display_data"
    }
   ],
   "source": [
    "# However, table ignore N/A values\n",
    "table(dm)"
   ]
  },
  {
   "cell_type": "code",
   "execution_count": 32,
   "metadata": {},
   "outputs": [
    {
     "data": {
      "text/plain": [
       "dm2\n",
       "  no  yes <NA> \n",
       " 330   60   13 "
      ]
     },
     "metadata": {},
     "output_type": "display_data"
    }
   ],
   "source": [
    "# If you want to see it, just do:\n",
    "dm2 <- factor(dm, exclude=NULL)\n",
    "table(dm2)"
   ]
  },
  {
   "cell_type": "code",
   "execution_count": 35,
   "metadata": {},
   "outputs": [
    {
     "data": {
      "text/plain": [
       "   Min. 1st Qu.  Median    Mean 3rd Qu.    Max.    NA's \n",
       "   78.0   179.0   204.0   207.8   230.0   443.0       1 "
      ]
     },
     "metadata": {},
     "output_type": "display_data"
    },
    {
     "data": {
      "text/plain": [
       "   Min. 1st Qu.  Median    Mean 3rd Qu.    Max.    NA's \n",
       "  52.00   63.00   66.00   66.02   69.00   76.00       5 "
      ]
     },
     "metadata": {},
     "output_type": "display_data"
    },
    {
     "data": {
      "text/plain": [
       "   Min. 1st Qu.  Median    Mean 3rd Qu.    Max.    NA's \n",
       "   99.0   151.0   172.5   177.6   200.0   325.0       1 "
      ]
     },
     "metadata": {},
     "output_type": "display_data"
    }
   ],
   "source": [
    "# For continuous variables, though, use “summary”:\n",
    "summary(chol)\n",
    "summary(height)\n",
    "summary(weight)"
   ]
  },
  {
   "cell_type": "code",
   "execution_count": 37,
   "metadata": {},
   "outputs": [
    {
     "data": {
      "text/plain": [
       "   Min. 1st Qu.  Median    Mean 3rd Qu.    Max.    NA's \n",
       "  15.20   24.13   27.80   28.79   32.24   55.79       6 "
      ]
     },
     "metadata": {},
     "output_type": "display_data"
    }
   ],
   "source": [
    "# Calculate body mass index (BMI) from height and weight\n",
    "# We have values of weight and height in pounds and inches, so we need to convert to kg and m\n",
    "height.si <- height*0.0254\n",
    "weight.si <- weight*0.453592\n",
    "bmi <- weight.si/height.si^2\n",
    "summary(bmi)"
   ]
  },
  {
   "cell_type": "code",
   "execution_count": 64,
   "metadata": {},
   "outputs": [
    {
     "data": {
      "text/plain": [
       "               dm2\n",
       "bmi_categorised  no yes <NA>\n",
       "    normal      100   9    4\n",
       "    obese       118  29    5\n",
       "    overweight   99  20    4\n",
       "    underweight   9   0    0\n",
       "    <NA>          4   2    0"
      ]
     },
     "metadata": {},
     "output_type": "display_data"
    },
    {
     "data": {
      "text/plain": [
       "               dm2\n",
       "bmi_categorised   no  yes <NA>\n",
       "    normal      24.8  2.2  1.0\n",
       "    obese       29.3  7.2  1.2\n",
       "    overweight  24.6  5.0  1.0\n",
       "    underweight  2.2  0.0  0.0\n",
       "    <NA>         1.0  0.5  0.0"
      ]
     },
     "metadata": {},
     "output_type": "display_data"
    }
   ],
   "source": [
    "# How to make a categorical variable from a continuous one\n",
    "\n",
    "bmi_categorised <- ifelse(bmi < 18.5, \"underweight\", \n",
    "                          ifelse(bmi >= 18.5 & bmi <= 25, \"normal\", \n",
    "                                 ifelse(bmi > 25 & bmi <= 30, \"overweight\", \n",
    "                                        ifelse(bmi > 30, \"obese\", NA)))) \n",
    " \n",
    "# check that the bmi_categorised variable has worked  \n",
    "dm_by_bmi_category <- table(bmi_categorised, dm2, exclude = NULL)\n",
    "dm_by_bmi_category\n",
    "round(100 * prop.table(dm_by_bmi_category), digits = 1) "
   ]
  },
  {
   "cell_type": "code",
   "execution_count": 65,
   "metadata": {},
   "outputs": [
    {
     "data": {
      "text/plain": [
       "age_grouped\n",
       "   45 - 64    65 - 74 75 or over   under 45 \n",
       "       139         41         23        200 "
      ]
     },
     "metadata": {},
     "output_type": "display_data"
    },
    {
     "data": {
      "text/plain": [
       "               gender\n",
       "age_categorised female male\n",
       "       45-64        75   64\n",
       "       65-74        21   20\n",
       "       over 75      12   11\n",
       "       under 45    126   74"
      ]
     },
     "metadata": {},
     "output_type": "display_data"
    },
    {
     "data": {
      "text/plain": [
       "               gender\n",
       "age_categorised female male\n",
       "       45-64      18.6 15.9\n",
       "       65-74       5.2  5.0\n",
       "       over 75     3.0  2.7\n",
       "       under 45   31.3 18.4"
      ]
     },
     "metadata": {},
     "output_type": "display_data"
    },
    {
     "data": {
      "text/plain": [
       "            gender\n",
       "age_grouped  female male\n",
       "  45 - 64      32.1 37.9\n",
       "  65 - 74       9.0 11.8\n",
       "  75 or over    5.1  6.5\n",
       "  under 45     53.8 43.8"
      ]
     },
     "metadata": {},
     "output_type": "display_data"
    }
   ],
   "source": [
    "# Divide in four age groups: under 45, 45-64, 65-74 and 75 or over.\n",
    "age_categorised <- ifelse(age < 45, \"under 45\", \n",
    "                          ifelse(age >= 45 & age <= 64, \"45-64\", \n",
    "                                 ifelse(age > 64 & age <= 74, \"65-74\", \n",
    "                                        ifelse(age > 74, \"over 75\", NA))))\n",
    "table(age_grouped, exclude = NULL) \n",
    "\n",
    "# Then tabulate age group by itself, followed by a cross-tabulation with gender.\n",
    "gender_by_age_category <- table(age_categorised, gender, exclude = NULL)\n",
    "gender_by_age_category\n",
    "\n",
    "# add the overall percentages to this cross-tab.\n",
    "round(100 * prop.table(gender_by_age_category), digits = 1)\n",
    "\n",
    "# display the cross tabulation as proportion of sample separated by gender, converting to percentage and rounding to 1 decimal place\n",
    "round(100 * prop.table(age_group_by_gender, margin = 2), digits = 1)"
   ]
  },
  {
   "cell_type": "markdown",
   "metadata": {},
   "source": [
    "# Simple logistic regression: running our model"
   ]
  },
  {
   "cell_type": "code",
   "execution_count": 67,
   "metadata": {},
   "outputs": [
    {
     "data": {
      "text/plain": [
       "\n",
       "Call:\n",
       "glm(formula = dm ~ 1, family = binomial(link = logit))\n",
       "\n",
       "Deviance Residuals: \n",
       "   Min      1Q  Median      3Q     Max  \n",
       "-0.578  -0.578  -0.578  -0.578   1.935  \n",
       "\n",
       "Coefficients:\n",
       "            Estimate Std. Error z value Pr(>|z|)    \n",
       "(Intercept)  -1.7047     0.1403  -12.15   <2e-16 ***\n",
       "---\n",
       "Signif. codes:  0 '***' 0.001 '**' 0.01 '*' 0.05 '.' 0.1 ' ' 1\n",
       "\n",
       "(Dispersion parameter for binomial family taken to be 1)\n",
       "\n",
       "    Null deviance: 334.87  on 389  degrees of freedom\n",
       "Residual deviance: 334.87  on 389  degrees of freedom\n",
       "  (13 observations deleted due to missingness)\n",
       "AIC: 336.87\n",
       "\n",
       "Number of Fisher Scoring iterations: 3\n"
      ]
     },
     "metadata": {},
     "output_type": "display_data"
    }
   ],
   "source": [
    "m <- glm(dm ~ 1, family=binomial (link=logit)) # The “1” is just R’s way of saying that there’s only an intercept term in the model.\n",
    "summary(m)"
   ]
  },
  {
   "cell_type": "code",
   "execution_count": 69,
   "metadata": {},
   "outputs": [
    {
     "data": {
      "text/plain": [
       "\n",
       "  0   1 \n",
       "330  60 "
      ]
     },
     "metadata": {},
     "output_type": "display_data"
    }
   ],
   "source": [
    "# By the way, it’s worth checking how R has interpreted the binary outcome “dm”.\n",
    "# If you run this below, you see that there are 60 1s and 330 0s,\n",
    "# which is good because there were 60 yesses and 330 noes in the “dm” vector.\n",
    "# It’s important to know that R is modelling the log odds of dm=1 and not the log odds of dm=0!\n",
    "table(m$y)"
   ]
  },
  {
   "cell_type": "code",
   "execution_count": 70,
   "metadata": {},
   "outputs": [
    {
     "data": {
      "text/plain": [
       "\n",
       "Call:\n",
       "glm(formula = dm ~ gender, family = binomial(link = logit))\n",
       "\n",
       "Deviance Residuals: \n",
       "    Min       1Q   Median       3Q      Max  \n",
       "-0.5915  -0.5915  -0.5683  -0.5683   1.9509  \n",
       "\n",
       "Coefficients:\n",
       "            Estimate Std. Error z value Pr(>|z|)    \n",
       "(Intercept) -1.74150    0.18592  -9.367   <2e-16 ***\n",
       "gendermale   0.08694    0.28352   0.307    0.759    \n",
       "---\n",
       "Signif. codes:  0 '***' 0.001 '**' 0.01 '*' 0.05 '.' 0.1 ' ' 1\n",
       "\n",
       "(Dispersion parameter for binomial family taken to be 1)\n",
       "\n",
       "    Null deviance: 334.87  on 389  degrees of freedom\n",
       "Residual deviance: 334.78  on 388  degrees of freedom\n",
       "  (13 observations deleted due to missingness)\n",
       "AIC: 338.78\n",
       "\n",
       "Number of Fisher Scoring iterations: 4\n"
      ]
     },
     "metadata": {},
     "output_type": "display_data"
    }
   ],
   "source": [
    "# Checking the data according to gender\n",
    "m <- glm(dm ~ gender, family=binomial (link=logit))\n",
    "summary(m)"
   ]
  },
  {
   "cell_type": "code",
   "execution_count": 71,
   "metadata": {},
   "outputs": [
    {
     "data": {
      "text/plain": [
       "\n",
       "Call:\n",
       "glm(formula = dm ~ age, family = binomial(link = logit))\n",
       "\n",
       "Deviance Residuals: \n",
       "    Min       1Q   Median       3Q      Max  \n",
       "-1.3612  -0.5963  -0.4199  -0.3056   2.4848  \n",
       "\n",
       "Coefficients:\n",
       "             Estimate Std. Error z value Pr(>|z|)    \n",
       "(Intercept) -4.404530   0.542828  -8.114 4.90e-16 ***\n",
       "age          0.052465   0.009388   5.589 2.29e-08 ***\n",
       "---\n",
       "Signif. codes:  0 '***' 0.001 '**' 0.01 '*' 0.05 '.' 0.1 ' ' 1\n",
       "\n",
       "(Dispersion parameter for binomial family taken to be 1)\n",
       "\n",
       "    Null deviance: 334.87  on 389  degrees of freedom\n",
       "Residual deviance: 299.41  on 388  degrees of freedom\n",
       "  (13 observations deleted due to missingness)\n",
       "AIC: 303.41\n",
       "\n",
       "Number of Fisher Scoring iterations: 5\n"
      ]
     },
     "metadata": {},
     "output_type": "display_data"
    }
   ],
   "source": [
    "# ... and by age\n",
    "m <- glm(dm ~ age, family=binomial (link=logit))\n",
    "summary(m)"
   ]
  },
  {
   "cell_type": "code",
   "execution_count": 6,
   "metadata": {},
   "outputs": [
    {
     "data": {
      "image/png": "[encoded data removed]",
      "text/plain": [
       "plot without title"
      ]
     },
     "metadata": {
      "image/png": {
       "height": 420,
       "width": 420
      },
      "text/plain": {
       "height": 420,
       "width": 420
      }
     },
     "output_type": "display_data"
    }
   ],
   "source": [
    "# R assumes that the relation between age and the log odds of having diabetes is linear\n",
    "# To check if this is reasonable, the easiest way is just to plot one against the other.\n",
    "\n",
    "# create a cross tabulation of age and diabetes status  \n",
    "dm_by_age <- table(age, dm) \n",
    " \n",
    "# output the frequencies of diabetes status by age \n",
    "freq_table <- prop.table(dm_by_age, margin = 1) \n",
    " \n",
    "# calculate the odds of having diabetes \n",
    "odds <- freq_table[, \"yes\"]/freq_table[, \"no\"] \n",
    " \n",
    "# calculate the log odds \n",
    "logodds <- log(odds) \n",
    " \n",
    "# plot the ages found in the sample against the log odds of having diabetes \n",
    "plot(rownames(freq_table), logodds)\n",
    "\n",
    "# As we see, it seems to be linear"
   ]
  },
  {
   "cell_type": "code",
   "execution_count": 76,
   "metadata": {},
   "outputs": [
    {
     "data": {
      "text/html": [
       "<style>\n",
       ".dl-inline {width: auto; margin:0; padding: 0}\n",
       ".dl-inline>dt, .dl-inline>dd {float: none; width: auto; display: inline-block}\n",
       ".dl-inline>dt::after {content: \":\\0020\"; padding-right: .5ex}\n",
       ".dl-inline>dt:not(:first-of-type) {padding-left: .5ex}\n",
       "</style><dl class=dl-inline><dt>19</dt><dd>-Inf</dd><dt>20</dt><dd>-Inf</dd><dt>21</dt><dd>-Inf</dd><dt>22</dt><dd>-Inf</dd><dt>23</dt><dd>-Inf</dd><dt>24</dt><dd>-Inf</dd><dt>25</dt><dd>-Inf</dd><dt>26</dt><dd>-1.6094379124341</dd><dt>27</dt><dd>-Inf</dd><dt>28</dt><dd>-Inf</dd><dt>29</dt><dd>-1.79175946922805</dd><dt>30</dt><dd>-Inf</dd><dt>31</dt><dd>-2.07944154167984</dd><dt>32</dt><dd>-Inf</dd><dt>33</dt><dd>-Inf</dd><dt>34</dt><dd>-Inf</dd><dt>35</dt><dd>-Inf</dd><dt>36</dt><dd>-2.484906649788</dd><dt>37</dt><dd>-Inf</dd><dt>38</dt><dd>-2.30258509299405</dd><dt>39</dt><dd>-Inf</dd><dt>40</dt><dd>-2.70805020110221</dd><dt>41</dt><dd>-Inf</dd><dt>42</dt><dd>-Inf</dd><dt>43</dt><dd>-2.39789527279837</dd><dt>44</dt><dd>-1.6094379124341</dd><dt>45</dt><dd>-1.94591014905531</dd><dt>46</dt><dd>-Inf</dd><dt>47</dt><dd>-0.916290731874155</dd><dt>48</dt><dd>-Inf</dd><dt>49</dt><dd>0</dd><dt>50</dt><dd>-1.38629436111989</dd><dt>51</dt><dd>-0.510825623765991</dd><dt>52</dt><dd>-1.94591014905531</dd><dt>53</dt><dd>-0.693147180559945</dd><dt>54</dt><dd>-Inf</dd><dt>55</dt><dd>-1.79175946922805</dd><dt>56</dt><dd>0</dd><dt>57</dt><dd>-0.693147180559945</dd><dt>58</dt><dd>-1.6094379124341</dd><dt>59</dt><dd>0</dd><dt>60</dt><dd>-0.847297860387204</dd><dt>61</dt><dd>-0.916290731874155</dd><dt>62</dt><dd>-0.405465108108164</dd><dt>63</dt><dd>-0.980829253011726</dd><dt>64</dt><dd>0.405465108108164</dd><dt>65</dt><dd>-0.693147180559945</dd><dt>66</dt><dd>-0.916290731874155</dd><dt>67</dt><dd>-1.09861228866811</dd><dt>68</dt><dd>-Inf</dd><dt>69</dt><dd>-Inf</dd><dt>70</dt><dd>0</dd><dt>71</dt><dd>-1.09861228866811</dd><dt>72</dt><dd>-1.09861228866811</dd><dt>73</dt><dd>0</dd><dt>74</dt><dd>-0.693147180559945</dd><dt>75</dt><dd>0</dd><dt>76</dt><dd>-1.38629436111989</dd><dt>78</dt><dd>-Inf</dd><dt>79</dt><dd>0</dd><dt>80</dt><dd>0</dd><dt>81</dt><dd>-Inf</dd><dt>82</dt><dd>-Inf</dd><dt>83</dt><dd>-Inf</dd><dt>84</dt><dd>Inf</dd><dt>89</dt><dd>-Inf</dd><dt>91</dt><dd>Inf</dd><dt>92</dt><dd>-Inf</dd></dl>\n"
      ],
      "text/latex": [
       "\\begin{description*}\n",
       "\\item[19] -Inf\n",
       "\\item[20] -Inf\n",
       "\\item[21] -Inf\n",
       "\\item[22] -Inf\n",
       "\\item[23] -Inf\n",
       "\\item[24] -Inf\n",
       "\\item[25] -Inf\n",
       "\\item[26] -1.6094379124341\n",
       "\\item[27] -Inf\n",
       "\\item[28] -Inf\n",
       "\\item[29] -1.79175946922805\n",
       "\\item[30] -Inf\n",
       "\\item[31] -2.07944154167984\n",
       "\\item[32] -Inf\n",
       "\\item[33] -Inf\n",
       "\\item[34] -Inf\n",
       "\\item[35] -Inf\n",
       "\\item[36] -2.484906649788\n",
       "\\item[37] -Inf\n",
       "\\item[38] -2.30258509299405\n",
       "\\item[39] -Inf\n",
       "\\item[40] -2.70805020110221\n",
       "\\item[41] -Inf\n",
       "\\item[42] -Inf\n",
       "\\item[43] -2.39789527279837\n",
       "\\item[44] -1.6094379124341\n",
       "\\item[45] -1.94591014905531\n",
       "\\item[46] -Inf\n",
       "\\item[47] -0.916290731874155\n",
       "\\item[48] -Inf\n",
       "\\item[49] 0\n",
       "\\item[50] -1.38629436111989\n",
       "\\item[51] -0.510825623765991\n",
       "\\item[52] -1.94591014905531\n",
       "\\item[53] -0.693147180559945\n",
       "\\item[54] -Inf\n",
       "\\item[55] -1.79175946922805\n",
       "\\item[56] 0\n",
       "\\item[57] -0.693147180559945\n",
       "\\item[58] -1.6094379124341\n",
       "\\item[59] 0\n",
       "\\item[60] -0.847297860387204\n",
       "\\item[61] -0.916290731874155\n",
       "\\item[62] -0.405465108108164\n",
       "\\item[63] -0.980829253011726\n",
       "\\item[64] 0.405465108108164\n",
       "\\item[65] -0.693147180559945\n",
       "\\item[66] -0.916290731874155\n",
       "\\item[67] -1.09861228866811\n",
       "\\item[68] -Inf\n",
       "\\item[69] -Inf\n",
       "\\item[70] 0\n",
       "\\item[71] -1.09861228866811\n",
       "\\item[72] -1.09861228866811\n",
       "\\item[73] 0\n",
       "\\item[74] -0.693147180559945\n",
       "\\item[75] 0\n",
       "\\item[76] -1.38629436111989\n",
       "\\item[78] -Inf\n",
       "\\item[79] 0\n",
       "\\item[80] 0\n",
       "\\item[81] -Inf\n",
       "\\item[82] -Inf\n",
       "\\item[83] -Inf\n",
       "\\item[84] Inf\n",
       "\\item[89] -Inf\n",
       "\\item[91] Inf\n",
       "\\item[92] -Inf\n",
       "\\end{description*}\n"
      ],
      "text/markdown": [
       "19\n",
       ":   -Inf20\n",
       ":   -Inf21\n",
       ":   -Inf22\n",
       ":   -Inf23\n",
       ":   -Inf24\n",
       ":   -Inf25\n",
       ":   -Inf26\n",
       ":   -1.609437912434127\n",
       ":   -Inf28\n",
       ":   -Inf29\n",
       ":   -1.7917594692280530\n",
       ":   -Inf31\n",
       ":   -2.0794415416798432\n",
       ":   -Inf33\n",
       ":   -Inf34\n",
       ":   -Inf35\n",
       ":   -Inf36\n",
       ":   -2.48490664978837\n",
       ":   -Inf38\n",
       ":   -2.3025850929940539\n",
       ":   -Inf40\n",
       ":   -2.7080502011022141\n",
       ":   -Inf42\n",
       ":   -Inf43\n",
       ":   -2.3978952727983744\n",
       ":   -1.609437912434145\n",
       ":   -1.9459101490553146\n",
       ":   -Inf47\n",
       ":   -0.91629073187415548\n",
       ":   -Inf49\n",
       ":   050\n",
       ":   -1.3862943611198951\n",
       ":   -0.51082562376599152\n",
       ":   -1.9459101490553153\n",
       ":   -0.69314718055994554\n",
       ":   -Inf55\n",
       ":   -1.7917594692280556\n",
       ":   057\n",
       ":   -0.69314718055994558\n",
       ":   -1.609437912434159\n",
       ":   060\n",
       ":   -0.84729786038720461\n",
       ":   -0.91629073187415562\n",
       ":   -0.40546510810816463\n",
       ":   -0.98082925301172664\n",
       ":   0.40546510810816465\n",
       ":   -0.69314718055994566\n",
       ":   -0.91629073187415567\n",
       ":   -1.0986122886681168\n",
       ":   -Inf69\n",
       ":   -Inf70\n",
       ":   071\n",
       ":   -1.0986122886681172\n",
       ":   -1.0986122886681173\n",
       ":   074\n",
       ":   -0.69314718055994575\n",
       ":   076\n",
       ":   -1.3862943611198978\n",
       ":   -Inf79\n",
       ":   080\n",
       ":   081\n",
       ":   -Inf82\n",
       ":   -Inf83\n",
       ":   -Inf84\n",
       ":   Inf89\n",
       ":   -Inf91\n",
       ":   Inf92\n",
       ":   -Inf\n",
       "\n"
      ],
      "text/plain": [
       "        19         20         21         22         23         24         25 \n",
       "      -Inf       -Inf       -Inf       -Inf       -Inf       -Inf       -Inf \n",
       "        26         27         28         29         30         31         32 \n",
       "-1.6094379       -Inf       -Inf -1.7917595       -Inf -2.0794415       -Inf \n",
       "        33         34         35         36         37         38         39 \n",
       "      -Inf       -Inf       -Inf -2.4849066       -Inf -2.3025851       -Inf \n",
       "        40         41         42         43         44         45         46 \n",
       "-2.7080502       -Inf       -Inf -2.3978953 -1.6094379 -1.9459101       -Inf \n",
       "        47         48         49         50         51         52         53 \n",
       "-0.9162907       -Inf  0.0000000 -1.3862944 -0.5108256 -1.9459101 -0.6931472 \n",
       "        54         55         56         57         58         59         60 \n",
       "      -Inf -1.7917595  0.0000000 -0.6931472 -1.6094379  0.0000000 -0.8472979 \n",
       "        61         62         63         64         65         66         67 \n",
       "-0.9162907 -0.4054651 -0.9808293  0.4054651 -0.6931472 -0.9162907 -1.0986123 \n",
       "        68         69         70         71         72         73         74 \n",
       "      -Inf       -Inf  0.0000000 -1.0986123 -1.0986123  0.0000000 -0.6931472 \n",
       "        75         76         78         79         80         81         82 \n",
       " 0.0000000 -1.3862944       -Inf  0.0000000  0.0000000       -Inf       -Inf \n",
       "        83         84         89         91         92 \n",
       "      -Inf        Inf       -Inf        Inf       -Inf "
      ]
     },
     "metadata": {},
     "output_type": "display_data"
    }
   ],
   "source": [
    "logodds"
   ]
  },
  {
   "cell_type": "code",
   "execution_count": 7,
   "metadata": {},
   "outputs": [
    {
     "data": {
      "text/plain": [
       "\n",
       "Call:\n",
       "glm(formula = dm ~ age, family = binomial(link = logit))\n",
       "\n",
       "Deviance Residuals: \n",
       "    Min       1Q   Median       3Q      Max  \n",
       "-1.3612  -0.5963  -0.4199  -0.3056   2.4848  \n",
       "\n",
       "Coefficients:\n",
       "             Estimate Std. Error z value Pr(>|z|)    \n",
       "(Intercept) -4.404530   0.542828  -8.114 4.90e-16 ***\n",
       "age          0.052465   0.009388   5.589 2.29e-08 ***\n",
       "---\n",
       "Signif. codes:  0 '***' 0.001 '**' 0.01 '*' 0.05 '.' 0.1 ' ' 1\n",
       "\n",
       "(Dispersion parameter for binomial family taken to be 1)\n",
       "\n",
       "    Null deviance: 334.87  on 389  degrees of freedom\n",
       "Residual deviance: 299.41  on 388  degrees of freedom\n",
       "  (13 observations deleted due to missingness)\n",
       "AIC: 303.41\n",
       "\n",
       "Number of Fisher Scoring iterations: 5\n"
      ]
     },
     "metadata": {},
     "output_type": "display_data"
    }
   ],
   "source": [
    "# Let's continue the analysis with age and diabetes\n",
    "model <- glm(dm ~ age, family=binomial (link=logit)) \n",
    "summary(model) "
   ]
  },
  {
   "cell_type": "markdown",
   "metadata": {},
   "source": [
    "Some important things to notice:\n",
    "* 13 observations deleted due to missingness: For 13 of our patients, we don’t know whether they had diabetes, so they’ve been excluded.\n",
    "* We can interpretate the coefficients as: Log odds of having diabetes = intercept + (coefficient for age) * age in years = -4.4045 + 0.0525 * age in years\n",
    "    * If age in years is zero, then we only have the intercept left.\n",
    "    * At birth, the model is saying that the log odds of having diabetes is -4.4045, which is exp(-4.4084) = 0.012\n",
    "    * We can convert this to give us 0.012/1.012 = 0.012 (to three decimal places) or 1.2%, which is pretty much the same as the odds.\n",
    "* The p value for age (Pr(>|z|)) has three asterisks, meaning close to zero, so it’s not compatible with a chance result. Age is a statistically significant predictor."
   ]
  },
  {
   "cell_type": "code",
   "execution_count": 9,
   "metadata": {},
   "outputs": [
    {
     "data": {
      "text/plain": [
       "\n",
       "Call:\n",
       "glm(formula = dm ~ gender, family = binomial(link = logit))\n",
       "\n",
       "Deviance Residuals: \n",
       "    Min       1Q   Median       3Q      Max  \n",
       "-0.5915  -0.5915  -0.5683  -0.5683   1.9509  \n",
       "\n",
       "Coefficients:\n",
       "            Estimate Std. Error z value Pr(>|z|)    \n",
       "(Intercept) -1.74150    0.18592  -9.367   <2e-16 ***\n",
       "gendermale   0.08694    0.28352   0.307    0.759    \n",
       "---\n",
       "Signif. codes:  0 '***' 0.001 '**' 0.01 '*' 0.05 '.' 0.1 ' ' 1\n",
       "\n",
       "(Dispersion parameter for binomial family taken to be 1)\n",
       "\n",
       "    Null deviance: 334.87  on 389  degrees of freedom\n",
       "Residual deviance: 334.78  on 388  degrees of freedom\n",
       "  (13 observations deleted due to missingness)\n",
       "AIC: 338.78\n",
       "\n",
       "Number of Fisher Scoring iterations: 4\n"
      ]
     },
     "metadata": {},
     "output_type": "display_data"
    }
   ],
   "source": [
    "# Let's check it for gender\n",
    "model2 <- glm(dm ~ gender, family=binomial (link=logit)) \n",
    "summary(model2) "
   ]
  },
  {
   "cell_type": "markdown",
   "metadata": {},
   "source": [
    "* Here, the log odds for having diabetes for males is 0.0869 higher than that for females.\n",
    "* This is also the log odds ratio for males compared with females.\n",
    "* Again, if we exponentiate 0.0869, we get the odds ratio for males compared with females, which is 1.09 (to two decimal places). That implies higher odds for males\n",
    "* But we also need to inspect the p value, which is 0.759. That’s pretty high and well above the conventional threshold of 0.05, so chance is a likely explanation for the result and we can conclude that we don’t have any good evidence of a gender difference in diabetes odds in this sample."
   ]
  },
  {
   "cell_type": "code",
   "execution_count": 12,
   "metadata": {},
   "outputs": [
    {
     "data": {
      "text/html": [
       "<table>\n",
       "<caption>A matrix: 2 × 1 of type dbl</caption>\n",
       "<thead>\n",
       "\t<tr><th></th><th scope=col>male</th></tr>\n",
       "</thead>\n",
       "<tbody>\n",
       "\t<tr><th scope=row>female</th><td>0</td></tr>\n",
       "\t<tr><th scope=row>male</th><td>1</td></tr>\n",
       "</tbody>\n",
       "</table>\n"
      ],
      "text/latex": [
       "A matrix: 2 × 1 of type dbl\n",
       "\\begin{tabular}{r|l}\n",
       "  & male\\\\\n",
       "\\hline\n",
       "\tfemale & 0\\\\\n",
       "\tmale & 1\\\\\n",
       "\\end{tabular}\n"
      ],
      "text/markdown": [
       "\n",
       "A matrix: 2 × 1 of type dbl\n",
       "\n",
       "| <!--/--> | male |\n",
       "|---|---|\n",
       "| female | 0 |\n",
       "| male | 1 |\n",
       "\n"
      ],
      "text/plain": [
       "       male\n",
       "female 0   \n",
       "male   1   "
      ]
     },
     "metadata": {},
     "output_type": "display_data"
    }
   ],
   "source": [
    "# While in this data set, gender is nicely labelled, it’s a good idea in general to check how R has entered gender into the model. Do this by typing:\n",
    "contrasts(gender)\n",
    "# This confirms that the coefficient given in the output refers to males because males have a 1 next to them in the above output and females have a zero. The log odds for females are incorporated into the intercept."
   ]
  },
  {
   "cell_type": "code",
   "execution_count": 14,
   "metadata": {},
   "outputs": [
    {
     "data": {
      "text/html": [
       "<table>\n",
       "<caption>A matrix: 2 × 1 of type dbl</caption>\n",
       "<thead>\n",
       "\t<tr><th></th><th scope=col>female</th></tr>\n",
       "</thead>\n",
       "<tbody>\n",
       "\t<tr><th scope=row>male</th><td>0</td></tr>\n",
       "\t<tr><th scope=row>female</th><td>1</td></tr>\n",
       "</tbody>\n",
       "</table>\n"
      ],
      "text/latex": [
       "A matrix: 2 × 1 of type dbl\n",
       "\\begin{tabular}{r|l}\n",
       "  & female\\\\\n",
       "\\hline\n",
       "\tmale & 0\\\\\n",
       "\tfemale & 1\\\\\n",
       "\\end{tabular}\n"
      ],
      "text/markdown": [
       "\n",
       "A matrix: 2 × 1 of type dbl\n",
       "\n",
       "| <!--/--> | female |\n",
       "|---|---|\n",
       "| male | 0 |\n",
       "| female | 1 |\n",
       "\n"
      ],
      "text/plain": [
       "       female\n",
       "male   0     \n",
       "female 1     "
      ]
     },
     "metadata": {},
     "output_type": "display_data"
    }
   ],
   "source": [
    "#  To redefine the reference group\n",
    "gender <- relevel(gender, ref = \"male\") \n",
    "contrasts(gender) "
   ]
  },
  {
   "cell_type": "code",
   "execution_count": 18,
   "metadata": {},
   "outputs": [
    {
     "data": {
      "text/html": [
       "<style>\n",
       ".dl-inline {width: auto; margin:0; padding: 0}\n",
       ".dl-inline>dt, .dl-inline>dd {float: none; width: auto; display: inline-block}\n",
       ".dl-inline>dt::after {content: \":\\0020\"; padding-right: .5ex}\n",
       ".dl-inline>dt:not(:first-of-type) {padding-left: .5ex}\n",
       "</style><dl class=dl-inline><dt>(Intercept)</dt><dd>-1.74149763444715</dd><dt>gendermale</dt><dd>0.0869392867325929</dd></dl>\n"
      ],
      "text/latex": [
       "\\begin{description*}\n",
       "\\item[(Intercept)] -1.74149763444715\n",
       "\\item[gendermale] 0.0869392867325929\n",
       "\\end{description*}\n"
      ],
      "text/markdown": [
       "(Intercept)\n",
       ":   -1.74149763444715gendermale\n",
       ":   0.0869392867325929\n",
       "\n"
      ],
      "text/plain": [
       "(Intercept)  gendermale \n",
       "-1.74149763  0.08693929 "
      ]
     },
     "metadata": {},
     "output_type": "display_data"
    },
    {
     "data": {
      "text/html": [
       "<style>\n",
       ".dl-inline {width: auto; margin:0; padding: 0}\n",
       ".dl-inline>dt, .dl-inline>dd {float: none; width: auto; display: inline-block}\n",
       ".dl-inline>dt::after {content: \":\\0020\"; padding-right: .5ex}\n",
       ".dl-inline>dt:not(:first-of-type) {padding-left: .5ex}\n",
       "</style><dl class=dl-inline><dt>(Intercept)</dt><dd>0.0122218439017275</dd><dt>age</dt><dd>1.05386580461754</dd></dl>\n"
      ],
      "text/latex": [
       "\\begin{description*}\n",
       "\\item[(Intercept)] 0.0122218439017275\n",
       "\\item[age] 1.05386580461754\n",
       "\\end{description*}\n"
      ],
      "text/markdown": [
       "(Intercept)\n",
       ":   0.0122218439017275age\n",
       ":   1.05386580461754\n",
       "\n"
      ],
      "text/plain": [
       "(Intercept)         age \n",
       " 0.01222184  1.05386580 "
      ]
     },
     "metadata": {},
     "output_type": "display_data"
    }
   ],
   "source": [
    "# to access the coefficients, just do a:\n",
    "model2$coefficients\n",
    "# and to have it exponential\n",
    "exp(model$coefficients)"
   ]
  },
  {
   "cell_type": "code",
   "execution_count": null,
   "metadata": {},
   "outputs": [],
   "source": []
  }
 ],
 "metadata": {
  "kernelspec": {
   "display_name": "R",
   "language": "R",
   "name": "ir"
  },
  "language_info": {
   "codemirror_mode": "r",
   "file_extension": ".r",
   "mimetype": "text/x-r-source",
   "name": "R",
   "pygments_lexer": "r",
   "version": "3.6.2"
  }
 },
 "nbformat": 4,
 "nbformat_minor": 4
}
