{
 "cells": [
  {
   "cell_type": "markdown",
   "metadata": {},
   "source": [
    "I got this example on [Logistic Regression in R for Public Health](https://www.coursera.org/learn/logistic-regression-r-public-health/home/welcome) offered by Imperial College London, on Coursera.\n",
    "\n",
    "`Now, it's time to know how to analyze data related to health. As Titanic case, we will use logistic regression for this, because we have two possibilities on the output: have or do not have diabetes.`\n",
    "`But... first things first.`\n",
    "\n",
    "# Part I: Preparing the data for logistic regression\n",
    "`First, let's check our data!`"
   ]
  },
  {
   "cell_type": "code",
   "execution_count": 94,
   "metadata": {},
   "outputs": [
    {
     "name": "stderr",
     "output_type": "stream",
     "text": [
      "The following objects are masked from DiabetesData (pos = 3):\n",
      "\n",
      "    age, bp.1d, bp.1s, bp.2d, bp.2s, chol, dm, fh, frame, gender,\n",
      "    glyhb, hdl, height, hip, id, insurance, location, ratio, smoking,\n",
      "    stab.glu, time.ppn, waist, weight, X\n",
      "\n",
      "\n"
     ]
    },
    {
     "data": {
      "text/html": [
       "<table>\n",
       "<caption>A data.frame: 403 × 24</caption>\n",
       "<thead>\n",
       "\t<tr><th scope=col>X</th><th scope=col>id</th><th scope=col>chol</th><th scope=col>stab.glu</th><th scope=col>hdl</th><th scope=col>ratio</th><th scope=col>glyhb</th><th scope=col>location</th><th scope=col>age</th><th scope=col>gender</th><th scope=col>...</th><th scope=col>bp.1d</th><th scope=col>bp.2s</th><th scope=col>bp.2d</th><th scope=col>waist</th><th scope=col>hip</th><th scope=col>time.ppn</th><th scope=col>insurance</th><th scope=col>fh</th><th scope=col>smoking</th><th scope=col>dm</th></tr>\n",
       "\t<tr><th scope=col>&lt;int&gt;</th><th scope=col>&lt;int&gt;</th><th scope=col>&lt;int&gt;</th><th scope=col>&lt;int&gt;</th><th scope=col>&lt;int&gt;</th><th scope=col>&lt;fct&gt;</th><th scope=col>&lt;fct&gt;</th><th scope=col>&lt;fct&gt;</th><th scope=col>&lt;int&gt;</th><th scope=col>&lt;fct&gt;</th><th scope=col>...</th><th scope=col>&lt;int&gt;</th><th scope=col>&lt;int&gt;</th><th scope=col>&lt;int&gt;</th><th scope=col>&lt;int&gt;</th><th scope=col>&lt;int&gt;</th><th scope=col>&lt;int&gt;</th><th scope=col>&lt;int&gt;</th><th scope=col>&lt;int&gt;</th><th scope=col>&lt;int&gt;</th><th scope=col>&lt;fct&gt;</th></tr>\n",
       "</thead>\n",
       "<tbody>\n",
       "\t<tr><td> 1</td><td>1000</td><td>203</td><td> 82</td><td>56</td><td>3.599999905</td><td>4.309999943</td><td>Buckingham</td><td>46</td><td>female</td><td>...</td><td> 59</td><td> NA</td><td> NA</td><td>29</td><td>38</td><td> 720</td><td>1</td><td>0</td><td>3</td><td>no </td></tr>\n",
       "\t<tr><td> 2</td><td>1001</td><td>165</td><td> 97</td><td>24</td><td>6.900000095</td><td>4.440000057</td><td>Buckingham</td><td>29</td><td>female</td><td>...</td><td> 68</td><td> NA</td><td> NA</td><td>46</td><td>48</td><td> 360</td><td>0</td><td>0</td><td>2</td><td>no </td></tr>\n",
       "\t<tr><td> 3</td><td>1002</td><td>228</td><td> 92</td><td>37</td><td>6.199999809</td><td>4.639999866</td><td>Buckingham</td><td>58</td><td>female</td><td>...</td><td> 92</td><td>185</td><td> 92</td><td>49</td><td>57</td><td> 180</td><td>2</td><td>0</td><td>2</td><td>no </td></tr>\n",
       "\t<tr><td> 4</td><td>1003</td><td> 78</td><td> 93</td><td>12</td><td>6.5        </td><td>4.630000114</td><td>Buckingham</td><td>67</td><td>male  </td><td>...</td><td> 50</td><td> NA</td><td> NA</td><td>33</td><td>38</td><td> 480</td><td>1</td><td>0</td><td>3</td><td>no </td></tr>\n",
       "\t<tr><td> 5</td><td>1005</td><td>249</td><td> 90</td><td>28</td><td>8.899999619</td><td>7.71999979 </td><td>Buckingham</td><td>64</td><td>male  </td><td>...</td><td> 80</td><td> NA</td><td> NA</td><td>44</td><td>41</td><td> 300</td><td>0</td><td>0</td><td>3</td><td>yes</td></tr>\n",
       "\t<tr><td> 6</td><td>1008</td><td>248</td><td> 94</td><td>69</td><td>3.599999905</td><td>4.809999943</td><td>Buckingham</td><td>34</td><td>male  </td><td>...</td><td> 86</td><td> NA</td><td> NA</td><td>36</td><td>42</td><td> 195</td><td>1</td><td>0</td><td>1</td><td>no </td></tr>\n",
       "\t<tr><td> 7</td><td>1011</td><td>195</td><td> 92</td><td>41</td><td>4.800000191</td><td>4.840000153</td><td>Buckingham</td><td>30</td><td>male  </td><td>...</td><td>112</td><td>161</td><td>112</td><td>46</td><td>49</td><td> 720</td><td>2</td><td>1</td><td>2</td><td>no </td></tr>\n",
       "\t<tr><td> 8</td><td>1015</td><td>227</td><td> 75</td><td>44</td><td>5.199999809</td><td>3.940000057</td><td>Buckingham</td><td>37</td><td>male  </td><td>...</td><td> NA</td><td> NA</td><td> NA</td><td>34</td><td>39</td><td>1020</td><td>0</td><td>0</td><td>2</td><td>no </td></tr>\n",
       "\t<tr><td> 9</td><td>1016</td><td>177</td><td> 87</td><td>49</td><td>3.599999905</td><td>4.840000153</td><td>Buckingham</td><td>45</td><td>male  </td><td>...</td><td> 80</td><td>128</td><td> 86</td><td>34</td><td>40</td><td> 300</td><td>2</td><td>1</td><td>1</td><td>no </td></tr>\n",
       "\t<tr><td>10</td><td>1022</td><td>263</td><td> 89</td><td>40</td><td>6.599999905</td><td>5.78000021 </td><td>Buckingham</td><td>55</td><td>female</td><td>...</td><td> 72</td><td> NA</td><td> NA</td><td>45</td><td>50</td><td> 240</td><td>2</td><td>0</td><td>2</td><td>no </td></tr>\n",
       "\t<tr><td>11</td><td>1024</td><td>242</td><td> 82</td><td>54</td><td>4.5        </td><td>4.769999981</td><td>Louisa    </td><td>60</td><td>female</td><td>...</td><td> 90</td><td>130</td><td> 90</td><td>39</td><td>45</td><td> 300</td><td>1</td><td>0</td><td>2</td><td>no </td></tr>\n",
       "\t<tr><td>12</td><td>1029</td><td>215</td><td>128</td><td>34</td><td>6.300000191</td><td>4.96999979 </td><td>Louisa    </td><td>38</td><td>female</td><td>...</td><td> 68</td><td> NA</td><td> NA</td><td>42</td><td>50</td><td>  90</td><td>0</td><td>0</td><td>2</td><td>no </td></tr>\n",
       "\t<tr><td>13</td><td>1030</td><td>238</td><td> 75</td><td>36</td><td>6.599999905</td><td>4.46999979 </td><td>Louisa    </td><td>27</td><td>female</td><td>...</td><td> 80</td><td> NA</td><td> NA</td><td>35</td><td>41</td><td> 720</td><td>0</td><td>0</td><td>1</td><td>no </td></tr>\n",
       "\t<tr><td>14</td><td>1031</td><td>183</td><td> 79</td><td>46</td><td>4          </td><td>4.590000153</td><td>Louisa    </td><td>40</td><td>female</td><td>...</td><td> NA</td><td> NA</td><td> NA</td><td>37</td><td>43</td><td>  60</td><td>2</td><td>0</td><td>1</td><td>no </td></tr>\n",
       "\t<tr><td>15</td><td>1035</td><td>191</td><td> 76</td><td>30</td><td>6.400000095</td><td>4.670000076</td><td>Louisa    </td><td>36</td><td>male  </td><td>...</td><td> 66</td><td> NA</td><td> NA</td><td>36</td><td>40</td><td> 225</td><td>0</td><td>0</td><td>1</td><td>no </td></tr>\n",
       "\t<tr><td>16</td><td>1036</td><td>213</td><td> 83</td><td>47</td><td>4.5        </td><td>3.410000086</td><td>Louisa    </td><td>33</td><td>female</td><td>...</td><td> 90</td><td>120</td><td> 96</td><td>37</td><td>41</td><td> 240</td><td>0</td><td>1</td><td>2</td><td>no </td></tr>\n",
       "\t<tr><td>17</td><td>1037</td><td>255</td><td> 78</td><td>38</td><td>6.699999809</td><td>4.329999924</td><td>Louisa    </td><td>50</td><td>female</td><td>...</td><td>100</td><td> NA</td><td> NA</td><td>37</td><td>43</td><td> 180</td><td>1</td><td>0</td><td>1</td><td>no </td></tr>\n",
       "\t<tr><td>18</td><td>1041</td><td>230</td><td>112</td><td>64</td><td>3.599999905</td><td>4.53000021 </td><td>Louisa    </td><td>20</td><td>male  </td><td>...</td><td> 90</td><td> NA</td><td> NA</td><td>31</td><td>39</td><td>1440</td><td>2</td><td>0</td><td>2</td><td>no </td></tr>\n",
       "\t<tr><td>19</td><td>1045</td><td>194</td><td> 81</td><td>36</td><td>5.400000095</td><td>5.28000021 </td><td>Louisa    </td><td>36</td><td>male  </td><td>...</td><td> 76</td><td> NA</td><td> NA</td><td>30</td><td>34</td><td> 120</td><td>1</td><td>0</td><td>1</td><td>no </td></tr>\n",
       "\t<tr><td>20</td><td>1250</td><td>196</td><td>206</td><td>41</td><td>4.800000191</td><td>11.23999977</td><td>Buckingham</td><td>62</td><td>female</td><td>...</td><td> 90</td><td> NA</td><td> NA</td><td>46</td><td>51</td><td> 540</td><td>0</td><td>0</td><td>2</td><td>yes</td></tr>\n",
       "\t<tr><td>21</td><td>1252</td><td>186</td><td> 97</td><td>50</td><td>3.700000048</td><td>6.489999771</td><td>Buckingham</td><td>70</td><td>male  </td><td>...</td><td> 88</td><td>148</td><td> 84</td><td>42</td><td>41</td><td>1020</td><td>2</td><td>0</td><td>2</td><td>no </td></tr>\n",
       "\t<tr><td>22</td><td>1253</td><td>234</td><td> 65</td><td>76</td><td>3.099999905</td><td>4.670000076</td><td>Buckingham</td><td>47</td><td>male  </td><td>...</td><td>100</td><td>149</td><td>110</td><td>45</td><td>46</td><td> 480</td><td>0</td><td>0</td><td>2</td><td>no </td></tr>\n",
       "\t<tr><td>23</td><td>1254</td><td>203</td><td>299</td><td>43</td><td>4.699999809</td><td>12.73999977</td><td>Buckingham</td><td>38</td><td>female</td><td>...</td><td> 83</td><td> NA</td><td> NA</td><td>48</td><td>55</td><td> 240</td><td>1</td><td>1</td><td>2</td><td>yes</td></tr>\n",
       "\t<tr><td>24</td><td>1256</td><td>281</td><td> 92</td><td>41</td><td>6.900000095</td><td>5.559999943</td><td>Buckingham</td><td>66</td><td>female</td><td>...</td><td> 88</td><td>160</td><td> 88</td><td>48</td><td>44</td><td> 285</td><td>1</td><td>0</td><td>1</td><td>no </td></tr>\n",
       "\t<tr><td>25</td><td>1271</td><td>228</td><td> 66</td><td>45</td><td>5.099999905</td><td>4.610000134</td><td>Buckingham</td><td>24</td><td>female</td><td>...</td><td> 70</td><td>110</td><td> 70</td><td>33</td><td>38</td><td> 210</td><td>2</td><td>0</td><td>1</td><td>no </td></tr>\n",
       "\t<tr><td>26</td><td>1277</td><td>179</td><td> 80</td><td>92</td><td>1.899999976</td><td>4.179999828</td><td>Buckingham</td><td>41</td><td>female</td><td>...</td><td>112</td><td> NA</td><td> NA</td><td>28</td><td>36</td><td> 780</td><td>1</td><td>0</td><td>2</td><td>no </td></tr>\n",
       "\t<tr><td>27</td><td>1280</td><td>232</td><td> 87</td><td>30</td><td>7.699999809</td><td>5.099999905</td><td>Buckingham</td><td>37</td><td>male  </td><td>...</td><td> 95</td><td> NA</td><td> NA</td><td>43</td><td>47</td><td> 420</td><td>1</td><td>1</td><td>2</td><td>no </td></tr>\n",
       "\t<tr><td>28</td><td>1281</td><td> NA</td><td> 74</td><td>NA</td><td>NA         </td><td>4.28000021 </td><td>Buckingham</td><td>48</td><td>male  </td><td>...</td><td> 85</td><td> NA</td><td> NA</td><td>27</td><td>33</td><td> 510</td><td>0</td><td>1</td><td>1</td><td>no </td></tr>\n",
       "\t<tr><td>29</td><td>1282</td><td>254</td><td> 84</td><td>52</td><td>4.900000095</td><td>4.519999981</td><td>Buckingham</td><td>43</td><td>female</td><td>...</td><td> 70</td><td> NA</td><td> NA</td><td>31</td><td>38</td><td> 720</td><td>2</td><td>0</td><td>3</td><td>no </td></tr>\n",
       "\t<tr><td>30</td><td>1285</td><td>215</td><td> 72</td><td>42</td><td>5.099999905</td><td>4.369999886</td><td>Louisa    </td><td>40</td><td>male  </td><td>...</td><td>122</td><td>170</td><td>112</td><td>37</td><td>39</td><td> 450</td><td>0</td><td>0</td><td>2</td><td>no </td></tr>\n",
       "\t<tr><td>...</td><td>...</td><td>...</td><td>...</td><td>...</td><td>...</td><td>...</td><td>...</td><td>...</td><td>...</td><td></td><td>...</td><td>...</td><td>...</td><td>...</td><td>...</td><td>...</td><td>...</td><td>...</td><td>...</td><td>...</td></tr>\n",
       "\t<tr><td>374</td><td>40804</td><td>179</td><td>105</td><td> 60</td><td>3          </td><td>4.679999828</td><td>Louisa</td><td>20</td><td>female</td><td>...</td><td>100</td><td>138</td><td> 82</td><td>34</td><td>46</td><td> 270</td><td>2</td><td>0</td><td>2</td><td>no </td></tr>\n",
       "\t<tr><td>375</td><td>40805</td><td>202</td><td> 84</td><td> 33</td><td>6.099999905</td><td>4.170000076</td><td>Louisa</td><td>44</td><td>male  </td><td>...</td><td> 80</td><td> NA</td><td> NA</td><td>33</td><td>37</td><td> 180</td><td>0</td><td>0</td><td>2</td><td>no </td></tr>\n",
       "\t<tr><td>376</td><td>41000</td><td>194</td><td> 87</td><td> 65</td><td>3          </td><td>4.139999866</td><td>Louisa</td><td>54</td><td>male  </td><td>...</td><td> 96</td><td>160</td><td> 94</td><td>30</td><td>37</td><td>  15</td><td>1</td><td>0</td><td>1</td><td>no </td></tr>\n",
       "\t<tr><td>377</td><td>41001</td><td>227</td><td> 85</td><td> 26</td><td>8.699999809</td><td>4.980000019</td><td>Louisa</td><td>58</td><td>male  </td><td>...</td><td> 82</td><td>144</td><td> 80</td><td>38</td><td>43</td><td> 480</td><td>2</td><td>0</td><td>2</td><td>no </td></tr>\n",
       "\t<tr><td>378</td><td>41003</td><td>337</td><td> 85</td><td> 62</td><td>5.400000095</td><td>4.659999847</td><td>Louisa</td><td>35</td><td>male  </td><td>...</td><td> 84</td><td> NA</td><td> NA</td><td>36</td><td>44</td><td> 240</td><td>0</td><td>0</td><td>1</td><td>no </td></tr>\n",
       "\t<tr><td>379</td><td>41004</td><td>255</td><td> 83</td><td> 90</td><td>2.799999952</td><td>4.289999962</td><td>Louisa</td><td>52</td><td>male  </td><td>...</td><td>110</td><td>166</td><td>108</td><td>30</td><td>33</td><td> 780</td><td>2</td><td>1</td><td>3</td><td>no </td></tr>\n",
       "\t<tr><td>380</td><td>41021</td><td>162</td><td> 90</td><td> 46</td><td>3.5        </td><td>5.559999943</td><td>Louisa</td><td>60</td><td>female</td><td>...</td><td> 64</td><td> NA</td><td> NA</td><td>32</td><td>34</td><td> 300</td><td>2</td><td>0</td><td>2</td><td>no </td></tr>\n",
       "\t<tr><td>381</td><td>41023</td><td>322</td><td> 87</td><td> 92</td><td>3.5        </td><td>4.449999809</td><td>Louisa</td><td>43</td><td>female</td><td>...</td><td> 98</td><td>122</td><td>100</td><td>32</td><td>41</td><td>  60</td><td>0</td><td>0</td><td>2</td><td>no </td></tr>\n",
       "\t<tr><td>382</td><td>41029</td><td>289</td><td>267</td><td> 38</td><td>7.599999905</td><td>11.40999985</td><td>Louisa</td><td>59</td><td>male  </td><td>...</td><td> 79</td><td> NA</td><td> NA</td><td>36</td><td>38</td><td> 900</td><td>0</td><td>0</td><td>3</td><td>yes</td></tr>\n",
       "\t<tr><td>383</td><td>41034</td><td>217</td><td> 87</td><td> 40</td><td>5.400000095</td><td>4.070000172</td><td>Louisa</td><td>33</td><td>female</td><td>...</td><td> 90</td><td>138</td><td> 84</td><td>42</td><td>46</td><td>  40</td><td>1</td><td>0</td><td>2</td><td>no </td></tr>\n",
       "\t<tr><td>384</td><td>41035</td><td>209</td><td> 91</td><td> 36</td><td>5.800000191</td><td>5.010000229</td><td>Louisa</td><td>37</td><td>male  </td><td>...</td><td> 94</td><td>130</td><td> 88</td><td>42</td><td>48</td><td> 450</td><td>1</td><td>0</td><td>3</td><td>no </td></tr>\n",
       "\t<tr><td>385</td><td>41036</td><td>214</td><td> 77</td><td> 48</td><td>4.5        </td><td>4.480000019</td><td>Louisa</td><td>40</td><td>male  </td><td>...</td><td> 84</td><td> NA</td><td> NA</td><td>40</td><td>44</td><td>1020</td><td>2</td><td>1</td><td>3</td><td>no </td></tr>\n",
       "\t<tr><td>386</td><td>41037</td><td>302</td><td> 81</td><td> 57</td><td>5.300000191</td><td>4.650000095</td><td>Louisa</td><td>38</td><td>female</td><td>...</td><td> 82</td><td> NA</td><td> NA</td><td>41</td><td>51</td><td> 210</td><td>2</td><td>0</td><td>2</td><td>no </td></tr>\n",
       "\t<tr><td>387</td><td>41039</td><td>179</td><td> 85</td><td> 52</td><td>3.400000095</td><td>4.050000191</td><td>Louisa</td><td>32</td><td>female</td><td>...</td><td> 96</td><td>148</td><td>100</td><td>37</td><td>47</td><td>  60</td><td>2</td><td>1</td><td>1</td><td>no </td></tr>\n",
       "\t<tr><td>388</td><td>41041</td><td>279</td><td>270</td><td> 40</td><td>7          </td><td>8.109999657</td><td>Louisa</td><td>60</td><td>female</td><td>...</td><td> 90</td><td>174</td><td> 84</td><td>48</td><td>50</td><td> 180</td><td>1</td><td>1</td><td>1</td><td>yes</td></tr>\n",
       "\t<tr><td>389</td><td>41055</td><td>144</td><td> 81</td><td> 28</td><td>5.099999905</td><td>4.130000114</td><td>Louisa</td><td>30</td><td>male  </td><td>...</td><td> 78</td><td> NA</td><td> NA</td><td>31</td><td>38</td><td> 180</td><td>2</td><td>1</td><td>1</td><td>no </td></tr>\n",
       "\t<tr><td>390</td><td>41063</td><td>270</td><td> 73</td><td> 40</td><td>6.800000191</td><td>3.579999924</td><td>Louisa</td><td>42</td><td>male  </td><td>...</td><td> 94</td><td>149</td><td> 94</td><td>39</td><td>41</td><td>  30</td><td>0</td><td>0</td><td>2</td><td>no </td></tr>\n",
       "\t<tr><td>391</td><td>41065</td><td>196</td><td>120</td><td> 67</td><td>2.900000095</td><td>9.369999886</td><td>Louisa</td><td>52</td><td>female</td><td>...</td><td> 94</td><td>142</td><td> 92</td><td>34</td><td>42</td><td> 480</td><td>2</td><td>0</td><td>1</td><td>yes</td></tr>\n",
       "\t<tr><td>392</td><td>41075</td><td>221</td><td>126</td><td> 48</td><td>4.599999905</td><td>5.53000021 </td><td>Louisa</td><td>59</td><td>female</td><td>...</td><td> 78</td><td> NA</td><td> NA</td><td>39</td><td>45</td><td>  60</td><td>2</td><td>0</td><td>1</td><td>no </td></tr>\n",
       "\t<tr><td>393</td><td>41078</td><td>210</td><td> 81</td><td> 81</td><td>2.599999905</td><td>4.960000038</td><td>Louisa</td><td>78</td><td>male  </td><td>...</td><td> 70</td><td> NA</td><td> NA</td><td>38</td><td>39</td><td> 540</td><td>1</td><td>1</td><td>2</td><td>no </td></tr>\n",
       "\t<tr><td>394</td><td>41253</td><td>192</td><td> 85</td><td> 69</td><td>2.799999952</td><td>4.380000114</td><td>Louisa</td><td>51</td><td>male  </td><td>...</td><td>110</td><td>170</td><td>118</td><td>NA</td><td>NA</td><td>  60</td><td>0</td><td>0</td><td>3</td><td>no </td></tr>\n",
       "\t<tr><td>395</td><td>41254</td><td>169</td><td>104</td><td> 58</td><td>2.900000095</td><td>4.820000172</td><td>Louisa</td><td>25</td><td>female</td><td>...</td><td> 95</td><td>130</td><td> 94</td><td>40</td><td>42</td><td>  60</td><td>0</td><td>0</td><td>2</td><td>no </td></tr>\n",
       "\t<tr><td>396</td><td>41500</td><td>179</td><td> 85</td><td> 50</td><td>3.599999905</td><td>4.989999771</td><td>Louisa</td><td>37</td><td>male  </td><td>...</td><td> 94</td><td>172</td><td>100</td><td>33</td><td>39</td><td> 480</td><td>0</td><td>0</td><td>2</td><td>no </td></tr>\n",
       "\t<tr><td>397</td><td>41501</td><td>216</td><td> 84</td><td> 64</td><td>3.400000095</td><td>NA         </td><td>Louisa</td><td>54</td><td>female</td><td>...</td><td> 90</td><td>126</td><td> 80</td><td>38</td><td>42</td><td> 330</td><td>2</td><td>0</td><td>1</td><td>NA </td></tr>\n",
       "\t<tr><td>398</td><td>41503</td><td>301</td><td> 90</td><td>118</td><td>2.599999905</td><td>4.28000021 </td><td>Louisa</td><td>89</td><td>female</td><td>...</td><td> 90</td><td>238</td><td> 90</td><td>31</td><td>41</td><td> 210</td><td>1</td><td>0</td><td>3</td><td>no </td></tr>\n",
       "\t<tr><td>399</td><td>41506</td><td>296</td><td>369</td><td> 46</td><td>6.400000095</td><td>16.11000061</td><td>Louisa</td><td>53</td><td>male  </td><td>...</td><td> 94</td><td>130</td><td> 94</td><td>35</td><td>39</td><td> 210</td><td>2</td><td>0</td><td>1</td><td>yes</td></tr>\n",
       "\t<tr><td>400</td><td>41507</td><td>284</td><td> 89</td><td> 54</td><td>5.300000191</td><td>4.389999866</td><td>Louisa</td><td>51</td><td>female</td><td>...</td><td>100</td><td>146</td><td>102</td><td>32</td><td>43</td><td> 180</td><td>2</td><td>0</td><td>3</td><td>no </td></tr>\n",
       "\t<tr><td>401</td><td>41510</td><td>194</td><td>269</td><td> 38</td><td>5.099999905</td><td>13.63000011</td><td>Louisa</td><td>29</td><td>female</td><td>...</td><td> 70</td><td> NA</td><td> NA</td><td>33</td><td>40</td><td>  20</td><td>0</td><td>1</td><td>2</td><td>yes</td></tr>\n",
       "\t<tr><td>402</td><td>41752</td><td>199</td><td> 76</td><td> 52</td><td>3.799999952</td><td>4.489999771</td><td>Louisa</td><td>41</td><td>female</td><td>...</td><td> 78</td><td> NA</td><td> NA</td><td>41</td><td>48</td><td> 255</td><td>2</td><td>0</td><td>2</td><td>no </td></tr>\n",
       "\t<tr><td>403</td><td>41756</td><td>159</td><td> 88</td><td> 79</td><td>2          </td><td>NA         </td><td>Louisa</td><td>68</td><td>female</td><td>...</td><td> 72</td><td> NA</td><td> NA</td><td>49</td><td>58</td><td> 900</td><td>0</td><td>0</td><td>1</td><td>NA </td></tr>\n",
       "</tbody>\n",
       "</table>\n"
      ],
      "text/latex": [
       "A data.frame: 403 × 24\n",
       "\\begin{tabular}{lllllllllllllllllllll}\n",
       " X & id & chol & stab.glu & hdl & ratio & glyhb & location & age & gender & ... & bp.1d & bp.2s & bp.2d & waist & hip & time.ppn & insurance & fh & smoking & dm\\\\\n",
       " <int> & <int> & <int> & <int> & <int> & <fct> & <fct> & <fct> & <int> & <fct> & ... & <int> & <int> & <int> & <int> & <int> & <int> & <int> & <int> & <int> & <fct>\\\\\n",
       "\\hline\n",
       "\t  1 & 1000 & 203 &  82 & 56 & 3.599999905 & 4.309999943 & Buckingham & 46 & female & ... &  59 &  NA &  NA & 29 & 38 &  720 & 1 & 0 & 3 & no \\\\\n",
       "\t  2 & 1001 & 165 &  97 & 24 & 6.900000095 & 4.440000057 & Buckingham & 29 & female & ... &  68 &  NA &  NA & 46 & 48 &  360 & 0 & 0 & 2 & no \\\\\n",
       "\t  3 & 1002 & 228 &  92 & 37 & 6.199999809 & 4.639999866 & Buckingham & 58 & female & ... &  92 & 185 &  92 & 49 & 57 &  180 & 2 & 0 & 2 & no \\\\\n",
       "\t  4 & 1003 &  78 &  93 & 12 & 6.5         & 4.630000114 & Buckingham & 67 & male   & ... &  50 &  NA &  NA & 33 & 38 &  480 & 1 & 0 & 3 & no \\\\\n",
       "\t  5 & 1005 & 249 &  90 & 28 & 8.899999619 & 7.71999979  & Buckingham & 64 & male   & ... &  80 &  NA &  NA & 44 & 41 &  300 & 0 & 0 & 3 & yes\\\\\n",
       "\t  6 & 1008 & 248 &  94 & 69 & 3.599999905 & 4.809999943 & Buckingham & 34 & male   & ... &  86 &  NA &  NA & 36 & 42 &  195 & 1 & 0 & 1 & no \\\\\n",
       "\t  7 & 1011 & 195 &  92 & 41 & 4.800000191 & 4.840000153 & Buckingham & 30 & male   & ... & 112 & 161 & 112 & 46 & 49 &  720 & 2 & 1 & 2 & no \\\\\n",
       "\t  8 & 1015 & 227 &  75 & 44 & 5.199999809 & 3.940000057 & Buckingham & 37 & male   & ... &  NA &  NA &  NA & 34 & 39 & 1020 & 0 & 0 & 2 & no \\\\\n",
       "\t  9 & 1016 & 177 &  87 & 49 & 3.599999905 & 4.840000153 & Buckingham & 45 & male   & ... &  80 & 128 &  86 & 34 & 40 &  300 & 2 & 1 & 1 & no \\\\\n",
       "\t 10 & 1022 & 263 &  89 & 40 & 6.599999905 & 5.78000021  & Buckingham & 55 & female & ... &  72 &  NA &  NA & 45 & 50 &  240 & 2 & 0 & 2 & no \\\\\n",
       "\t 11 & 1024 & 242 &  82 & 54 & 4.5         & 4.769999981 & Louisa     & 60 & female & ... &  90 & 130 &  90 & 39 & 45 &  300 & 1 & 0 & 2 & no \\\\\n",
       "\t 12 & 1029 & 215 & 128 & 34 & 6.300000191 & 4.96999979  & Louisa     & 38 & female & ... &  68 &  NA &  NA & 42 & 50 &   90 & 0 & 0 & 2 & no \\\\\n",
       "\t 13 & 1030 & 238 &  75 & 36 & 6.599999905 & 4.46999979  & Louisa     & 27 & female & ... &  80 &  NA &  NA & 35 & 41 &  720 & 0 & 0 & 1 & no \\\\\n",
       "\t 14 & 1031 & 183 &  79 & 46 & 4           & 4.590000153 & Louisa     & 40 & female & ... &  NA &  NA &  NA & 37 & 43 &   60 & 2 & 0 & 1 & no \\\\\n",
       "\t 15 & 1035 & 191 &  76 & 30 & 6.400000095 & 4.670000076 & Louisa     & 36 & male   & ... &  66 &  NA &  NA & 36 & 40 &  225 & 0 & 0 & 1 & no \\\\\n",
       "\t 16 & 1036 & 213 &  83 & 47 & 4.5         & 3.410000086 & Louisa     & 33 & female & ... &  90 & 120 &  96 & 37 & 41 &  240 & 0 & 1 & 2 & no \\\\\n",
       "\t 17 & 1037 & 255 &  78 & 38 & 6.699999809 & 4.329999924 & Louisa     & 50 & female & ... & 100 &  NA &  NA & 37 & 43 &  180 & 1 & 0 & 1 & no \\\\\n",
       "\t 18 & 1041 & 230 & 112 & 64 & 3.599999905 & 4.53000021  & Louisa     & 20 & male   & ... &  90 &  NA &  NA & 31 & 39 & 1440 & 2 & 0 & 2 & no \\\\\n",
       "\t 19 & 1045 & 194 &  81 & 36 & 5.400000095 & 5.28000021  & Louisa     & 36 & male   & ... &  76 &  NA &  NA & 30 & 34 &  120 & 1 & 0 & 1 & no \\\\\n",
       "\t 20 & 1250 & 196 & 206 & 41 & 4.800000191 & 11.23999977 & Buckingham & 62 & female & ... &  90 &  NA &  NA & 46 & 51 &  540 & 0 & 0 & 2 & yes\\\\\n",
       "\t 21 & 1252 & 186 &  97 & 50 & 3.700000048 & 6.489999771 & Buckingham & 70 & male   & ... &  88 & 148 &  84 & 42 & 41 & 1020 & 2 & 0 & 2 & no \\\\\n",
       "\t 22 & 1253 & 234 &  65 & 76 & 3.099999905 & 4.670000076 & Buckingham & 47 & male   & ... & 100 & 149 & 110 & 45 & 46 &  480 & 0 & 0 & 2 & no \\\\\n",
       "\t 23 & 1254 & 203 & 299 & 43 & 4.699999809 & 12.73999977 & Buckingham & 38 & female & ... &  83 &  NA &  NA & 48 & 55 &  240 & 1 & 1 & 2 & yes\\\\\n",
       "\t 24 & 1256 & 281 &  92 & 41 & 6.900000095 & 5.559999943 & Buckingham & 66 & female & ... &  88 & 160 &  88 & 48 & 44 &  285 & 1 & 0 & 1 & no \\\\\n",
       "\t 25 & 1271 & 228 &  66 & 45 & 5.099999905 & 4.610000134 & Buckingham & 24 & female & ... &  70 & 110 &  70 & 33 & 38 &  210 & 2 & 0 & 1 & no \\\\\n",
       "\t 26 & 1277 & 179 &  80 & 92 & 1.899999976 & 4.179999828 & Buckingham & 41 & female & ... & 112 &  NA &  NA & 28 & 36 &  780 & 1 & 0 & 2 & no \\\\\n",
       "\t 27 & 1280 & 232 &  87 & 30 & 7.699999809 & 5.099999905 & Buckingham & 37 & male   & ... &  95 &  NA &  NA & 43 & 47 &  420 & 1 & 1 & 2 & no \\\\\n",
       "\t 28 & 1281 &  NA &  74 & NA & NA          & 4.28000021  & Buckingham & 48 & male   & ... &  85 &  NA &  NA & 27 & 33 &  510 & 0 & 1 & 1 & no \\\\\n",
       "\t 29 & 1282 & 254 &  84 & 52 & 4.900000095 & 4.519999981 & Buckingham & 43 & female & ... &  70 &  NA &  NA & 31 & 38 &  720 & 2 & 0 & 3 & no \\\\\n",
       "\t 30 & 1285 & 215 &  72 & 42 & 5.099999905 & 4.369999886 & Louisa     & 40 & male   & ... & 122 & 170 & 112 & 37 & 39 &  450 & 0 & 0 & 2 & no \\\\\n",
       "\t ... & ... & ... & ... & ... & ... & ... & ... & ... & ... &  & ... & ... & ... & ... & ... & ... & ... & ... & ... & ...\\\\\n",
       "\t 374 & 40804 & 179 & 105 &  60 & 3           & 4.679999828 & Louisa & 20 & female & ... & 100 & 138 &  82 & 34 & 46 &  270 & 2 & 0 & 2 & no \\\\\n",
       "\t 375 & 40805 & 202 &  84 &  33 & 6.099999905 & 4.170000076 & Louisa & 44 & male   & ... &  80 &  NA &  NA & 33 & 37 &  180 & 0 & 0 & 2 & no \\\\\n",
       "\t 376 & 41000 & 194 &  87 &  65 & 3           & 4.139999866 & Louisa & 54 & male   & ... &  96 & 160 &  94 & 30 & 37 &   15 & 1 & 0 & 1 & no \\\\\n",
       "\t 377 & 41001 & 227 &  85 &  26 & 8.699999809 & 4.980000019 & Louisa & 58 & male   & ... &  82 & 144 &  80 & 38 & 43 &  480 & 2 & 0 & 2 & no \\\\\n",
       "\t 378 & 41003 & 337 &  85 &  62 & 5.400000095 & 4.659999847 & Louisa & 35 & male   & ... &  84 &  NA &  NA & 36 & 44 &  240 & 0 & 0 & 1 & no \\\\\n",
       "\t 379 & 41004 & 255 &  83 &  90 & 2.799999952 & 4.289999962 & Louisa & 52 & male   & ... & 110 & 166 & 108 & 30 & 33 &  780 & 2 & 1 & 3 & no \\\\\n",
       "\t 380 & 41021 & 162 &  90 &  46 & 3.5         & 5.559999943 & Louisa & 60 & female & ... &  64 &  NA &  NA & 32 & 34 &  300 & 2 & 0 & 2 & no \\\\\n",
       "\t 381 & 41023 & 322 &  87 &  92 & 3.5         & 4.449999809 & Louisa & 43 & female & ... &  98 & 122 & 100 & 32 & 41 &   60 & 0 & 0 & 2 & no \\\\\n",
       "\t 382 & 41029 & 289 & 267 &  38 & 7.599999905 & 11.40999985 & Louisa & 59 & male   & ... &  79 &  NA &  NA & 36 & 38 &  900 & 0 & 0 & 3 & yes\\\\\n",
       "\t 383 & 41034 & 217 &  87 &  40 & 5.400000095 & 4.070000172 & Louisa & 33 & female & ... &  90 & 138 &  84 & 42 & 46 &   40 & 1 & 0 & 2 & no \\\\\n",
       "\t 384 & 41035 & 209 &  91 &  36 & 5.800000191 & 5.010000229 & Louisa & 37 & male   & ... &  94 & 130 &  88 & 42 & 48 &  450 & 1 & 0 & 3 & no \\\\\n",
       "\t 385 & 41036 & 214 &  77 &  48 & 4.5         & 4.480000019 & Louisa & 40 & male   & ... &  84 &  NA &  NA & 40 & 44 & 1020 & 2 & 1 & 3 & no \\\\\n",
       "\t 386 & 41037 & 302 &  81 &  57 & 5.300000191 & 4.650000095 & Louisa & 38 & female & ... &  82 &  NA &  NA & 41 & 51 &  210 & 2 & 0 & 2 & no \\\\\n",
       "\t 387 & 41039 & 179 &  85 &  52 & 3.400000095 & 4.050000191 & Louisa & 32 & female & ... &  96 & 148 & 100 & 37 & 47 &   60 & 2 & 1 & 1 & no \\\\\n",
       "\t 388 & 41041 & 279 & 270 &  40 & 7           & 8.109999657 & Louisa & 60 & female & ... &  90 & 174 &  84 & 48 & 50 &  180 & 1 & 1 & 1 & yes\\\\\n",
       "\t 389 & 41055 & 144 &  81 &  28 & 5.099999905 & 4.130000114 & Louisa & 30 & male   & ... &  78 &  NA &  NA & 31 & 38 &  180 & 2 & 1 & 1 & no \\\\\n",
       "\t 390 & 41063 & 270 &  73 &  40 & 6.800000191 & 3.579999924 & Louisa & 42 & male   & ... &  94 & 149 &  94 & 39 & 41 &   30 & 0 & 0 & 2 & no \\\\\n",
       "\t 391 & 41065 & 196 & 120 &  67 & 2.900000095 & 9.369999886 & Louisa & 52 & female & ... &  94 & 142 &  92 & 34 & 42 &  480 & 2 & 0 & 1 & yes\\\\\n",
       "\t 392 & 41075 & 221 & 126 &  48 & 4.599999905 & 5.53000021  & Louisa & 59 & female & ... &  78 &  NA &  NA & 39 & 45 &   60 & 2 & 0 & 1 & no \\\\\n",
       "\t 393 & 41078 & 210 &  81 &  81 & 2.599999905 & 4.960000038 & Louisa & 78 & male   & ... &  70 &  NA &  NA & 38 & 39 &  540 & 1 & 1 & 2 & no \\\\\n",
       "\t 394 & 41253 & 192 &  85 &  69 & 2.799999952 & 4.380000114 & Louisa & 51 & male   & ... & 110 & 170 & 118 & NA & NA &   60 & 0 & 0 & 3 & no \\\\\n",
       "\t 395 & 41254 & 169 & 104 &  58 & 2.900000095 & 4.820000172 & Louisa & 25 & female & ... &  95 & 130 &  94 & 40 & 42 &   60 & 0 & 0 & 2 & no \\\\\n",
       "\t 396 & 41500 & 179 &  85 &  50 & 3.599999905 & 4.989999771 & Louisa & 37 & male   & ... &  94 & 172 & 100 & 33 & 39 &  480 & 0 & 0 & 2 & no \\\\\n",
       "\t 397 & 41501 & 216 &  84 &  64 & 3.400000095 & NA          & Louisa & 54 & female & ... &  90 & 126 &  80 & 38 & 42 &  330 & 2 & 0 & 1 & NA \\\\\n",
       "\t 398 & 41503 & 301 &  90 & 118 & 2.599999905 & 4.28000021  & Louisa & 89 & female & ... &  90 & 238 &  90 & 31 & 41 &  210 & 1 & 0 & 3 & no \\\\\n",
       "\t 399 & 41506 & 296 & 369 &  46 & 6.400000095 & 16.11000061 & Louisa & 53 & male   & ... &  94 & 130 &  94 & 35 & 39 &  210 & 2 & 0 & 1 & yes\\\\\n",
       "\t 400 & 41507 & 284 &  89 &  54 & 5.300000191 & 4.389999866 & Louisa & 51 & female & ... & 100 & 146 & 102 & 32 & 43 &  180 & 2 & 0 & 3 & no \\\\\n",
       "\t 401 & 41510 & 194 & 269 &  38 & 5.099999905 & 13.63000011 & Louisa & 29 & female & ... &  70 &  NA &  NA & 33 & 40 &   20 & 0 & 1 & 2 & yes\\\\\n",
       "\t 402 & 41752 & 199 &  76 &  52 & 3.799999952 & 4.489999771 & Louisa & 41 & female & ... &  78 &  NA &  NA & 41 & 48 &  255 & 2 & 0 & 2 & no \\\\\n",
       "\t 403 & 41756 & 159 &  88 &  79 & 2           & NA          & Louisa & 68 & female & ... &  72 &  NA &  NA & 49 & 58 &  900 & 0 & 0 & 1 & NA \\\\\n",
       "\\end{tabular}\n"
      ],
      "text/markdown": [
       "\n",
       "A data.frame: 403 × 24\n",
       "\n",
       "| X &lt;int&gt; | id &lt;int&gt; | chol &lt;int&gt; | stab.glu &lt;int&gt; | hdl &lt;int&gt; | ratio &lt;fct&gt; | glyhb &lt;fct&gt; | location &lt;fct&gt; | age &lt;int&gt; | gender &lt;fct&gt; | ... ... | bp.1d &lt;int&gt; | bp.2s &lt;int&gt; | bp.2d &lt;int&gt; | waist &lt;int&gt; | hip &lt;int&gt; | time.ppn &lt;int&gt; | insurance &lt;int&gt; | fh &lt;int&gt; | smoking &lt;int&gt; | dm &lt;fct&gt; |\n",
       "|---|---|---|---|---|---|---|---|---|---|---|---|---|---|---|---|---|---|---|---|---|\n",
       "|  1 | 1000 | 203 |  82 | 56 | 3.599999905 | 4.309999943 | Buckingham | 46 | female | ... |  59 |  NA |  NA | 29 | 38 |  720 | 1 | 0 | 3 | no  |\n",
       "|  2 | 1001 | 165 |  97 | 24 | 6.900000095 | 4.440000057 | Buckingham | 29 | female | ... |  68 |  NA |  NA | 46 | 48 |  360 | 0 | 0 | 2 | no  |\n",
       "|  3 | 1002 | 228 |  92 | 37 | 6.199999809 | 4.639999866 | Buckingham | 58 | female | ... |  92 | 185 |  92 | 49 | 57 |  180 | 2 | 0 | 2 | no  |\n",
       "|  4 | 1003 |  78 |  93 | 12 | 6.5         | 4.630000114 | Buckingham | 67 | male   | ... |  50 |  NA |  NA | 33 | 38 |  480 | 1 | 0 | 3 | no  |\n",
       "|  5 | 1005 | 249 |  90 | 28 | 8.899999619 | 7.71999979  | Buckingham | 64 | male   | ... |  80 |  NA |  NA | 44 | 41 |  300 | 0 | 0 | 3 | yes |\n",
       "|  6 | 1008 | 248 |  94 | 69 | 3.599999905 | 4.809999943 | Buckingham | 34 | male   | ... |  86 |  NA |  NA | 36 | 42 |  195 | 1 | 0 | 1 | no  |\n",
       "|  7 | 1011 | 195 |  92 | 41 | 4.800000191 | 4.840000153 | Buckingham | 30 | male   | ... | 112 | 161 | 112 | 46 | 49 |  720 | 2 | 1 | 2 | no  |\n",
       "|  8 | 1015 | 227 |  75 | 44 | 5.199999809 | 3.940000057 | Buckingham | 37 | male   | ... |  NA |  NA |  NA | 34 | 39 | 1020 | 0 | 0 | 2 | no  |\n",
       "|  9 | 1016 | 177 |  87 | 49 | 3.599999905 | 4.840000153 | Buckingham | 45 | male   | ... |  80 | 128 |  86 | 34 | 40 |  300 | 2 | 1 | 1 | no  |\n",
       "| 10 | 1022 | 263 |  89 | 40 | 6.599999905 | 5.78000021  | Buckingham | 55 | female | ... |  72 |  NA |  NA | 45 | 50 |  240 | 2 | 0 | 2 | no  |\n",
       "| 11 | 1024 | 242 |  82 | 54 | 4.5         | 4.769999981 | Louisa     | 60 | female | ... |  90 | 130 |  90 | 39 | 45 |  300 | 1 | 0 | 2 | no  |\n",
       "| 12 | 1029 | 215 | 128 | 34 | 6.300000191 | 4.96999979  | Louisa     | 38 | female | ... |  68 |  NA |  NA | 42 | 50 |   90 | 0 | 0 | 2 | no  |\n",
       "| 13 | 1030 | 238 |  75 | 36 | 6.599999905 | 4.46999979  | Louisa     | 27 | female | ... |  80 |  NA |  NA | 35 | 41 |  720 | 0 | 0 | 1 | no  |\n",
       "| 14 | 1031 | 183 |  79 | 46 | 4           | 4.590000153 | Louisa     | 40 | female | ... |  NA |  NA |  NA | 37 | 43 |   60 | 2 | 0 | 1 | no  |\n",
       "| 15 | 1035 | 191 |  76 | 30 | 6.400000095 | 4.670000076 | Louisa     | 36 | male   | ... |  66 |  NA |  NA | 36 | 40 |  225 | 0 | 0 | 1 | no  |\n",
       "| 16 | 1036 | 213 |  83 | 47 | 4.5         | 3.410000086 | Louisa     | 33 | female | ... |  90 | 120 |  96 | 37 | 41 |  240 | 0 | 1 | 2 | no  |\n",
       "| 17 | 1037 | 255 |  78 | 38 | 6.699999809 | 4.329999924 | Louisa     | 50 | female | ... | 100 |  NA |  NA | 37 | 43 |  180 | 1 | 0 | 1 | no  |\n",
       "| 18 | 1041 | 230 | 112 | 64 | 3.599999905 | 4.53000021  | Louisa     | 20 | male   | ... |  90 |  NA |  NA | 31 | 39 | 1440 | 2 | 0 | 2 | no  |\n",
       "| 19 | 1045 | 194 |  81 | 36 | 5.400000095 | 5.28000021  | Louisa     | 36 | male   | ... |  76 |  NA |  NA | 30 | 34 |  120 | 1 | 0 | 1 | no  |\n",
       "| 20 | 1250 | 196 | 206 | 41 | 4.800000191 | 11.23999977 | Buckingham | 62 | female | ... |  90 |  NA |  NA | 46 | 51 |  540 | 0 | 0 | 2 | yes |\n",
       "| 21 | 1252 | 186 |  97 | 50 | 3.700000048 | 6.489999771 | Buckingham | 70 | male   | ... |  88 | 148 |  84 | 42 | 41 | 1020 | 2 | 0 | 2 | no  |\n",
       "| 22 | 1253 | 234 |  65 | 76 | 3.099999905 | 4.670000076 | Buckingham | 47 | male   | ... | 100 | 149 | 110 | 45 | 46 |  480 | 0 | 0 | 2 | no  |\n",
       "| 23 | 1254 | 203 | 299 | 43 | 4.699999809 | 12.73999977 | Buckingham | 38 | female | ... |  83 |  NA |  NA | 48 | 55 |  240 | 1 | 1 | 2 | yes |\n",
       "| 24 | 1256 | 281 |  92 | 41 | 6.900000095 | 5.559999943 | Buckingham | 66 | female | ... |  88 | 160 |  88 | 48 | 44 |  285 | 1 | 0 | 1 | no  |\n",
       "| 25 | 1271 | 228 |  66 | 45 | 5.099999905 | 4.610000134 | Buckingham | 24 | female | ... |  70 | 110 |  70 | 33 | 38 |  210 | 2 | 0 | 1 | no  |\n",
       "| 26 | 1277 | 179 |  80 | 92 | 1.899999976 | 4.179999828 | Buckingham | 41 | female | ... | 112 |  NA |  NA | 28 | 36 |  780 | 1 | 0 | 2 | no  |\n",
       "| 27 | 1280 | 232 |  87 | 30 | 7.699999809 | 5.099999905 | Buckingham | 37 | male   | ... |  95 |  NA |  NA | 43 | 47 |  420 | 1 | 1 | 2 | no  |\n",
       "| 28 | 1281 |  NA |  74 | NA | NA          | 4.28000021  | Buckingham | 48 | male   | ... |  85 |  NA |  NA | 27 | 33 |  510 | 0 | 1 | 1 | no  |\n",
       "| 29 | 1282 | 254 |  84 | 52 | 4.900000095 | 4.519999981 | Buckingham | 43 | female | ... |  70 |  NA |  NA | 31 | 38 |  720 | 2 | 0 | 3 | no  |\n",
       "| 30 | 1285 | 215 |  72 | 42 | 5.099999905 | 4.369999886 | Louisa     | 40 | male   | ... | 122 | 170 | 112 | 37 | 39 |  450 | 0 | 0 | 2 | no  |\n",
       "| ... | ... | ... | ... | ... | ... | ... | ... | ... | ... | <!----> | ... | ... | ... | ... | ... | ... | ... | ... | ... | ... |\n",
       "| 374 | 40804 | 179 | 105 |  60 | 3           | 4.679999828 | Louisa | 20 | female | ... | 100 | 138 |  82 | 34 | 46 |  270 | 2 | 0 | 2 | no  |\n",
       "| 375 | 40805 | 202 |  84 |  33 | 6.099999905 | 4.170000076 | Louisa | 44 | male   | ... |  80 |  NA |  NA | 33 | 37 |  180 | 0 | 0 | 2 | no  |\n",
       "| 376 | 41000 | 194 |  87 |  65 | 3           | 4.139999866 | Louisa | 54 | male   | ... |  96 | 160 |  94 | 30 | 37 |   15 | 1 | 0 | 1 | no  |\n",
       "| 377 | 41001 | 227 |  85 |  26 | 8.699999809 | 4.980000019 | Louisa | 58 | male   | ... |  82 | 144 |  80 | 38 | 43 |  480 | 2 | 0 | 2 | no  |\n",
       "| 378 | 41003 | 337 |  85 |  62 | 5.400000095 | 4.659999847 | Louisa | 35 | male   | ... |  84 |  NA |  NA | 36 | 44 |  240 | 0 | 0 | 1 | no  |\n",
       "| 379 | 41004 | 255 |  83 |  90 | 2.799999952 | 4.289999962 | Louisa | 52 | male   | ... | 110 | 166 | 108 | 30 | 33 |  780 | 2 | 1 | 3 | no  |\n",
       "| 380 | 41021 | 162 |  90 |  46 | 3.5         | 5.559999943 | Louisa | 60 | female | ... |  64 |  NA |  NA | 32 | 34 |  300 | 2 | 0 | 2 | no  |\n",
       "| 381 | 41023 | 322 |  87 |  92 | 3.5         | 4.449999809 | Louisa | 43 | female | ... |  98 | 122 | 100 | 32 | 41 |   60 | 0 | 0 | 2 | no  |\n",
       "| 382 | 41029 | 289 | 267 |  38 | 7.599999905 | 11.40999985 | Louisa | 59 | male   | ... |  79 |  NA |  NA | 36 | 38 |  900 | 0 | 0 | 3 | yes |\n",
       "| 383 | 41034 | 217 |  87 |  40 | 5.400000095 | 4.070000172 | Louisa | 33 | female | ... |  90 | 138 |  84 | 42 | 46 |   40 | 1 | 0 | 2 | no  |\n",
       "| 384 | 41035 | 209 |  91 |  36 | 5.800000191 | 5.010000229 | Louisa | 37 | male   | ... |  94 | 130 |  88 | 42 | 48 |  450 | 1 | 0 | 3 | no  |\n",
       "| 385 | 41036 | 214 |  77 |  48 | 4.5         | 4.480000019 | Louisa | 40 | male   | ... |  84 |  NA |  NA | 40 | 44 | 1020 | 2 | 1 | 3 | no  |\n",
       "| 386 | 41037 | 302 |  81 |  57 | 5.300000191 | 4.650000095 | Louisa | 38 | female | ... |  82 |  NA |  NA | 41 | 51 |  210 | 2 | 0 | 2 | no  |\n",
       "| 387 | 41039 | 179 |  85 |  52 | 3.400000095 | 4.050000191 | Louisa | 32 | female | ... |  96 | 148 | 100 | 37 | 47 |   60 | 2 | 1 | 1 | no  |\n",
       "| 388 | 41041 | 279 | 270 |  40 | 7           | 8.109999657 | Louisa | 60 | female | ... |  90 | 174 |  84 | 48 | 50 |  180 | 1 | 1 | 1 | yes |\n",
       "| 389 | 41055 | 144 |  81 |  28 | 5.099999905 | 4.130000114 | Louisa | 30 | male   | ... |  78 |  NA |  NA | 31 | 38 |  180 | 2 | 1 | 1 | no  |\n",
       "| 390 | 41063 | 270 |  73 |  40 | 6.800000191 | 3.579999924 | Louisa | 42 | male   | ... |  94 | 149 |  94 | 39 | 41 |   30 | 0 | 0 | 2 | no  |\n",
       "| 391 | 41065 | 196 | 120 |  67 | 2.900000095 | 9.369999886 | Louisa | 52 | female | ... |  94 | 142 |  92 | 34 | 42 |  480 | 2 | 0 | 1 | yes |\n",
       "| 392 | 41075 | 221 | 126 |  48 | 4.599999905 | 5.53000021  | Louisa | 59 | female | ... |  78 |  NA |  NA | 39 | 45 |   60 | 2 | 0 | 1 | no  |\n",
       "| 393 | 41078 | 210 |  81 |  81 | 2.599999905 | 4.960000038 | Louisa | 78 | male   | ... |  70 |  NA |  NA | 38 | 39 |  540 | 1 | 1 | 2 | no  |\n",
       "| 394 | 41253 | 192 |  85 |  69 | 2.799999952 | 4.380000114 | Louisa | 51 | male   | ... | 110 | 170 | 118 | NA | NA |   60 | 0 | 0 | 3 | no  |\n",
       "| 395 | 41254 | 169 | 104 |  58 | 2.900000095 | 4.820000172 | Louisa | 25 | female | ... |  95 | 130 |  94 | 40 | 42 |   60 | 0 | 0 | 2 | no  |\n",
       "| 396 | 41500 | 179 |  85 |  50 | 3.599999905 | 4.989999771 | Louisa | 37 | male   | ... |  94 | 172 | 100 | 33 | 39 |  480 | 0 | 0 | 2 | no  |\n",
       "| 397 | 41501 | 216 |  84 |  64 | 3.400000095 | NA          | Louisa | 54 | female | ... |  90 | 126 |  80 | 38 | 42 |  330 | 2 | 0 | 1 | NA  |\n",
       "| 398 | 41503 | 301 |  90 | 118 | 2.599999905 | 4.28000021  | Louisa | 89 | female | ... |  90 | 238 |  90 | 31 | 41 |  210 | 1 | 0 | 3 | no  |\n",
       "| 399 | 41506 | 296 | 369 |  46 | 6.400000095 | 16.11000061 | Louisa | 53 | male   | ... |  94 | 130 |  94 | 35 | 39 |  210 | 2 | 0 | 1 | yes |\n",
       "| 400 | 41507 | 284 |  89 |  54 | 5.300000191 | 4.389999866 | Louisa | 51 | female | ... | 100 | 146 | 102 | 32 | 43 |  180 | 2 | 0 | 3 | no  |\n",
       "| 401 | 41510 | 194 | 269 |  38 | 5.099999905 | 13.63000011 | Louisa | 29 | female | ... |  70 |  NA |  NA | 33 | 40 |   20 | 0 | 1 | 2 | yes |\n",
       "| 402 | 41752 | 199 |  76 |  52 | 3.799999952 | 4.489999771 | Louisa | 41 | female | ... |  78 |  NA |  NA | 41 | 48 |  255 | 2 | 0 | 2 | no  |\n",
       "| 403 | 41756 | 159 |  88 |  79 | 2           | NA          | Louisa | 68 | female | ... |  72 |  NA |  NA | 49 | 58 |  900 | 0 | 0 | 1 | NA  |\n",
       "\n"
      ],
      "text/plain": [
       "    X   id    chol stab.glu hdl ratio       glyhb       location   age gender\n",
       "1    1  1000  203   82      56  3.599999905 4.309999943 Buckingham 46  female\n",
       "2    2  1001  165   97      24  6.900000095 4.440000057 Buckingham 29  female\n",
       "3    3  1002  228   92      37  6.199999809 4.639999866 Buckingham 58  female\n",
       "4    4  1003   78   93      12  6.5         4.630000114 Buckingham 67  male  \n",
       "5    5  1005  249   90      28  8.899999619 7.71999979  Buckingham 64  male  \n",
       "6    6  1008  248   94      69  3.599999905 4.809999943 Buckingham 34  male  \n",
       "7    7  1011  195   92      41  4.800000191 4.840000153 Buckingham 30  male  \n",
       "8    8  1015  227   75      44  5.199999809 3.940000057 Buckingham 37  male  \n",
       "9    9  1016  177   87      49  3.599999905 4.840000153 Buckingham 45  male  \n",
       "10  10  1022  263   89      40  6.599999905 5.78000021  Buckingham 55  female\n",
       "11  11  1024  242   82      54  4.5         4.769999981 Louisa     60  female\n",
       "12  12  1029  215  128      34  6.300000191 4.96999979  Louisa     38  female\n",
       "13  13  1030  238   75      36  6.599999905 4.46999979  Louisa     27  female\n",
       "14  14  1031  183   79      46  4           4.590000153 Louisa     40  female\n",
       "15  15  1035  191   76      30  6.400000095 4.670000076 Louisa     36  male  \n",
       "16  16  1036  213   83      47  4.5         3.410000086 Louisa     33  female\n",
       "17  17  1037  255   78      38  6.699999809 4.329999924 Louisa     50  female\n",
       "18  18  1041  230  112      64  3.599999905 4.53000021  Louisa     20  male  \n",
       "19  19  1045  194   81      36  5.400000095 5.28000021  Louisa     36  male  \n",
       "20  20  1250  196  206      41  4.800000191 11.23999977 Buckingham 62  female\n",
       "21  21  1252  186   97      50  3.700000048 6.489999771 Buckingham 70  male  \n",
       "22  22  1253  234   65      76  3.099999905 4.670000076 Buckingham 47  male  \n",
       "23  23  1254  203  299      43  4.699999809 12.73999977 Buckingham 38  female\n",
       "24  24  1256  281   92      41  6.900000095 5.559999943 Buckingham 66  female\n",
       "25  25  1271  228   66      45  5.099999905 4.610000134 Buckingham 24  female\n",
       "26  26  1277  179   80      92  1.899999976 4.179999828 Buckingham 41  female\n",
       "27  27  1280  232   87      30  7.699999809 5.099999905 Buckingham 37  male  \n",
       "28  28  1281   NA   74      NA  NA          4.28000021  Buckingham 48  male  \n",
       "29  29  1282  254   84      52  4.900000095 4.519999981 Buckingham 43  female\n",
       "30  30  1285  215   72      42  5.099999905 4.369999886 Louisa     40  male  \n",
       "... ... ...   ...  ...      ... ...         ...         ...        ... ...   \n",
       "374 374 40804 179  105       60 3           4.679999828 Louisa     20  female\n",
       "375 375 40805 202   84       33 6.099999905 4.170000076 Louisa     44  male  \n",
       "376 376 41000 194   87       65 3           4.139999866 Louisa     54  male  \n",
       "377 377 41001 227   85       26 8.699999809 4.980000019 Louisa     58  male  \n",
       "378 378 41003 337   85       62 5.400000095 4.659999847 Louisa     35  male  \n",
       "379 379 41004 255   83       90 2.799999952 4.289999962 Louisa     52  male  \n",
       "380 380 41021 162   90       46 3.5         5.559999943 Louisa     60  female\n",
       "381 381 41023 322   87       92 3.5         4.449999809 Louisa     43  female\n",
       "382 382 41029 289  267       38 7.599999905 11.40999985 Louisa     59  male  \n",
       "383 383 41034 217   87       40 5.400000095 4.070000172 Louisa     33  female\n",
       "384 384 41035 209   91       36 5.800000191 5.010000229 Louisa     37  male  \n",
       "385 385 41036 214   77       48 4.5         4.480000019 Louisa     40  male  \n",
       "386 386 41037 302   81       57 5.300000191 4.650000095 Louisa     38  female\n",
       "387 387 41039 179   85       52 3.400000095 4.050000191 Louisa     32  female\n",
       "388 388 41041 279  270       40 7           8.109999657 Louisa     60  female\n",
       "389 389 41055 144   81       28 5.099999905 4.130000114 Louisa     30  male  \n",
       "390 390 41063 270   73       40 6.800000191 3.579999924 Louisa     42  male  \n",
       "391 391 41065 196  120       67 2.900000095 9.369999886 Louisa     52  female\n",
       "392 392 41075 221  126       48 4.599999905 5.53000021  Louisa     59  female\n",
       "393 393 41078 210   81       81 2.599999905 4.960000038 Louisa     78  male  \n",
       "394 394 41253 192   85       69 2.799999952 4.380000114 Louisa     51  male  \n",
       "395 395 41254 169  104       58 2.900000095 4.820000172 Louisa     25  female\n",
       "396 396 41500 179   85       50 3.599999905 4.989999771 Louisa     37  male  \n",
       "397 397 41501 216   84       64 3.400000095 NA          Louisa     54  female\n",
       "398 398 41503 301   90      118 2.599999905 4.28000021  Louisa     89  female\n",
       "399 399 41506 296  369       46 6.400000095 16.11000061 Louisa     53  male  \n",
       "400 400 41507 284   89       54 5.300000191 4.389999866 Louisa     51  female\n",
       "401 401 41510 194  269       38 5.099999905 13.63000011 Louisa     29  female\n",
       "402 402 41752 199   76       52 3.799999952 4.489999771 Louisa     41  female\n",
       "403 403 41756 159   88       79 2           NA          Louisa     68  female\n",
       "    ... bp.1d bp.2s bp.2d waist hip time.ppn insurance fh  smoking dm \n",
       "1   ...  59    NA    NA   29    38   720     1         0   3       no \n",
       "2   ...  68    NA    NA   46    48   360     0         0   2       no \n",
       "3   ...  92   185    92   49    57   180     2         0   2       no \n",
       "4   ...  50    NA    NA   33    38   480     1         0   3       no \n",
       "5   ...  80    NA    NA   44    41   300     0         0   3       yes\n",
       "6   ...  86    NA    NA   36    42   195     1         0   1       no \n",
       "7   ... 112   161   112   46    49   720     2         1   2       no \n",
       "8   ...  NA    NA    NA   34    39  1020     0         0   2       no \n",
       "9   ...  80   128    86   34    40   300     2         1   1       no \n",
       "10  ...  72    NA    NA   45    50   240     2         0   2       no \n",
       "11  ...  90   130    90   39    45   300     1         0   2       no \n",
       "12  ...  68    NA    NA   42    50    90     0         0   2       no \n",
       "13  ...  80    NA    NA   35    41   720     0         0   1       no \n",
       "14  ...  NA    NA    NA   37    43    60     2         0   1       no \n",
       "15  ...  66    NA    NA   36    40   225     0         0   1       no \n",
       "16  ...  90   120    96   37    41   240     0         1   2       no \n",
       "17  ... 100    NA    NA   37    43   180     1         0   1       no \n",
       "18  ...  90    NA    NA   31    39  1440     2         0   2       no \n",
       "19  ...  76    NA    NA   30    34   120     1         0   1       no \n",
       "20  ...  90    NA    NA   46    51   540     0         0   2       yes\n",
       "21  ...  88   148    84   42    41  1020     2         0   2       no \n",
       "22  ... 100   149   110   45    46   480     0         0   2       no \n",
       "23  ...  83    NA    NA   48    55   240     1         1   2       yes\n",
       "24  ...  88   160    88   48    44   285     1         0   1       no \n",
       "25  ...  70   110    70   33    38   210     2         0   1       no \n",
       "26  ... 112    NA    NA   28    36   780     1         0   2       no \n",
       "27  ...  95    NA    NA   43    47   420     1         1   2       no \n",
       "28  ...  85    NA    NA   27    33   510     0         1   1       no \n",
       "29  ...  70    NA    NA   31    38   720     2         0   3       no \n",
       "30  ... 122   170   112   37    39   450     0         0   2       no \n",
       "...     ...   ...   ...   ...   ... ...      ...       ... ...     ...\n",
       "374 ... 100   138    82   34    46   270     2         0   2       no \n",
       "375 ...  80    NA    NA   33    37   180     0         0   2       no \n",
       "376 ...  96   160    94   30    37    15     1         0   1       no \n",
       "377 ...  82   144    80   38    43   480     2         0   2       no \n",
       "378 ...  84    NA    NA   36    44   240     0         0   1       no \n",
       "379 ... 110   166   108   30    33   780     2         1   3       no \n",
       "380 ...  64    NA    NA   32    34   300     2         0   2       no \n",
       "381 ...  98   122   100   32    41    60     0         0   2       no \n",
       "382 ...  79    NA    NA   36    38   900     0         0   3       yes\n",
       "383 ...  90   138    84   42    46    40     1         0   2       no \n",
       "384 ...  94   130    88   42    48   450     1         0   3       no \n",
       "385 ...  84    NA    NA   40    44  1020     2         1   3       no \n",
       "386 ...  82    NA    NA   41    51   210     2         0   2       no \n",
       "387 ...  96   148   100   37    47    60     2         1   1       no \n",
       "388 ...  90   174    84   48    50   180     1         1   1       yes\n",
       "389 ...  78    NA    NA   31    38   180     2         1   1       no \n",
       "390 ...  94   149    94   39    41    30     0         0   2       no \n",
       "391 ...  94   142    92   34    42   480     2         0   1       yes\n",
       "392 ...  78    NA    NA   39    45    60     2         0   1       no \n",
       "393 ...  70    NA    NA   38    39   540     1         1   2       no \n",
       "394 ... 110   170   118   NA    NA    60     0         0   3       no \n",
       "395 ...  95   130    94   40    42    60     0         0   2       no \n",
       "396 ...  94   172   100   33    39   480     0         0   2       no \n",
       "397 ...  90   126    80   38    42   330     2         0   1       NA \n",
       "398 ...  90   238    90   31    41   210     1         0   3       no \n",
       "399 ...  94   130    94   35    39   210     2         0   1       yes\n",
       "400 ... 100   146   102   32    43   180     2         0   3       no \n",
       "401 ...  70    NA    NA   33    40    20     0         1   2       yes\n",
       "402 ...  78    NA    NA   41    48   255     2         0   2       no \n",
       "403 ...  72    NA    NA   49    58   900     0         0   1       NA "
      ]
     },
     "metadata": {},
     "output_type": "display_data"
    }
   ],
   "source": [
    "DiabetesData <- read.csv2(\"diabetes_data.csv\", header = TRUE, sep=',')\n",
    "attach(DiabetesData)\n",
    "DiabetesData"
   ]
  },
  {
   "cell_type": "markdown",
   "metadata": {},
   "source": [
    "`To check more information about a specific variable, just use a table function on it.`\n",
    "\n",
    "`To know how many values there are, include an addmargins.`"
   ]
  },
  {
   "cell_type": "code",
   "execution_count": 2,
   "metadata": {},
   "outputs": [
    {
     "data": {
      "text/plain": [
       "gender\n",
       "female   male    Sum \n",
       "   234    169    403 "
      ]
     },
     "metadata": {},
     "output_type": "display_data"
    },
    {
     "data": {
      "text/plain": [
       "location\n",
       "Buckingham     Louisa        Sum \n",
       "       200        203        403 "
      ]
     },
     "metadata": {},
     "output_type": "display_data"
    }
   ],
   "source": [
    "gen <- table(gender)\n",
    "loc <- table(location)\n",
    "\n",
    "addmargins(gen)\n",
    "addmargins(loc)"
   ]
  },
  {
   "cell_type": "markdown",
   "metadata": {},
   "source": [
    "`We can also get to better know our data checking the proportion of it. In this case, of gender and of location.`\n",
    "\n",
    "`On our data, we have, then, 58.1% of man and 41.9% of women. 49.6% are from Buckingham, 50.4% are from Louisa.`"
   ]
  },
  {
   "cell_type": "code",
   "execution_count": 3,
   "metadata": {},
   "outputs": [
    {
     "data": {
      "text/plain": [
       "gender\n",
       "female   male \n",
       " 0.581  0.419 "
      ]
     },
     "metadata": {},
     "output_type": "display_data"
    },
    {
     "data": {
      "text/plain": [
       "location\n",
       "Buckingham     Louisa \n",
       "     0.496      0.504 "
      ]
     },
     "metadata": {},
     "output_type": "display_data"
    }
   ],
   "source": [
    "round(prop.table(gen),digits=3)\n",
    "round(prop.table(loc),digits=3)"
   ]
  },
  {
   "cell_type": "code",
   "execution_count": 5,
   "metadata": {},
   "outputs": [
    {
     "data": {
      "text/plain": [
       "dm\n",
       " no yes \n",
       "330  60 "
      ]
     },
     "metadata": {},
     "output_type": "display_data"
    }
   ],
   "source": [
    "# With table, we can ignore N/A values\n",
    "table(dm)"
   ]
  },
  {
   "cell_type": "code",
   "execution_count": 6,
   "metadata": {},
   "outputs": [
    {
     "data": {
      "text/plain": [
       "dm2\n",
       "  no  yes <NA> \n",
       " 330   60   13 "
      ]
     },
     "metadata": {},
     "output_type": "display_data"
    }
   ],
   "source": [
    "# If you want to see the N/A values, just do:\n",
    "dm2 <- factor(dm, exclude=NULL)\n",
    "table(dm2)"
   ]
  },
  {
   "cell_type": "code",
   "execution_count": 7,
   "metadata": {},
   "outputs": [
    {
     "data": {
      "text/plain": [
       "   Min. 1st Qu.  Median    Mean 3rd Qu.    Max.    NA's \n",
       "   78.0   179.0   204.0   207.8   230.0   443.0       1 "
      ]
     },
     "metadata": {},
     "output_type": "display_data"
    },
    {
     "data": {
      "text/plain": [
       "   Min. 1st Qu.  Median    Mean 3rd Qu.    Max.    NA's \n",
       "  52.00   63.00   66.00   66.02   69.00   76.00       5 "
      ]
     },
     "metadata": {},
     "output_type": "display_data"
    },
    {
     "data": {
      "text/plain": [
       "   Min. 1st Qu.  Median    Mean 3rd Qu.    Max.    NA's \n",
       "   99.0   151.0   172.5   177.6   200.0   325.0       1 "
      ]
     },
     "metadata": {},
     "output_type": "display_data"
    }
   ],
   "source": [
    "# Let's check some important statistics for some continuous variables (cholesterol, height and weight) with “summary”:\n",
    "summary(chol)\n",
    "summary(height)\n",
    "summary(weight)"
   ]
  },
  {
   "cell_type": "markdown",
   "metadata": {},
   "source": [
    "## Checking the importance of some variables \n",
    "\n",
    "### Checking the importance of BMI\n",
    "`It is interesting to check whether BMI (Body Mass Index) is related to having diabetes.`\n",
    "\n",
    "`Basically, we are going to make a categorical variable (BMI, separated by classes - underweight, normal, overweight and obese) from two continuous variables (height and weight, which are necessary to calculate BMI).`\n",
    "\n",
    "`Usually, BMI ranges are:`\n",
    "* `underweight (under 18.5 kg/m2)`\n",
    "* `normal weight (18.5 to 25)`\n",
    "* `overweight (25 to 30)`\n",
    "* `obese (over 30)`"
   ]
  },
  {
   "cell_type": "markdown",
   "metadata": {},
   "source": [
    "#### Calculate body mass index (BMI) from height and weight\n",
    "`I considered BMI as an important factor on our analysis. It is a very well known way to check the proportion between height and mass of a person. With it, we can know if a person is underweight, normal, overweight or obese.`\n",
    "`We can calculate it with:`\n",
    "\n",
    "$$BMI = weight_{(m)}/height_{(kg)}^2$$"
   ]
  },
  {
   "cell_type": "code",
   "execution_count": 48,
   "metadata": {},
   "outputs": [
    {
     "data": {
      "text/plain": [
       "   Min. 1st Qu.  Median    Mean 3rd Qu.    Max.    NA's \n",
       "  15.20   24.13   27.80   28.79   32.24   55.79       6 "
      ]
     },
     "metadata": {},
     "output_type": "display_data"
    }
   ],
   "source": [
    "# We have values of weight and height in pounds and inches, so we need to convert to kg and m\n",
    "height.si <- height * 0.0254\n",
    "weight.si <- weight * 0.453592\n",
    "\n",
    "# Calculating BMI\n",
    "bmi <- weight.si/height.si^2\n",
    "summary(bmi)"
   ]
  },
  {
   "cell_type": "markdown",
   "metadata": {},
   "source": [
    "#### Relation between BMI and having diabetes"
   ]
  },
  {
   "cell_type": "code",
   "execution_count": 49,
   "metadata": {},
   "outputs": [
    {
     "data": {
      "text/plain": [
       "               dm2\n",
       "bmi_categorised    no   yes  <NA>\n",
       "    normal       88.5   8.0   3.5\n",
       "    obese        77.6  19.1   3.3\n",
       "    overweight   80.5  16.3   3.3\n",
       "    underweight 100.0   0.0   0.0\n",
       "    <NA>         66.7  33.3   0.0"
      ]
     },
     "metadata": {},
     "output_type": "display_data"
    }
   ],
   "source": [
    "bmi_categorised <- ifelse(bmi < 18.5, \"underweight\", \n",
    "                          ifelse(bmi >= 18.5 & bmi <= 25, \"normal\", \n",
    "                                 ifelse(bmi > 25 & bmi <= 30, \"overweight\", \n",
    "                                        ifelse(bmi > 30, \"obese\", NA)))) \n",
    " \n",
    "\n",
    "# notice that we used dm2, so we're going to use N/A values too\n",
    "dm_by_bmi_category <- table(bmi_categorised, dm2, exclude = NULL)\n",
    "\n",
    "# calculating the proportion of each BMI group on having or not having diabetes.\n",
    "# using margin = 1, we'll separate BMI groups into yes (having diabetes), no (not having diabetes) and NA (not informed) and calculating the proportions of it\n",
    "round(100 * prop.table(dm_by_bmi_category, margin = 1), digits = 1) "
   ]
  },
  {
   "cell_type": "markdown",
   "metadata": {},
   "source": [
    "`With it, we can know that:`\n",
    "* `For people with BMI considered as normal: 88.5% don't have diabetes, 8% has it and 3.5% is not informed`\n",
    "* `For people with BMI considered as obese: 77.6% don't have diabetes, 19.1% has it and 3.3% is not informed`\n",
    "* `For people with BMI considered as overweight: 80.5% don't have diabetes, 16.3% has it and 3.3% is not informed`\n",
    "* `For people with BMI considered as underweight: 100% don't have diabetes`\n",
    "\n",
    "`We can say that it seems to have some relation between being overweight or obese and having diabetes.`\n",
    "\n",
    "\n",
    "## Checking the importance of age\n",
    "`Now, let's check if age is a relevant factor on having or not having diabetes.`\n",
    "\n",
    "`Let's do something similar we did before for BMI. Getting the age information from our data, we will divide into groups (under 45, between 45 and 64, between 65 and 74 and over 75.`"
   ]
  },
  {
   "cell_type": "code",
   "execution_count": 22,
   "metadata": {},
   "outputs": [
    {
     "data": {
      "text/plain": [
       "age_categorised\n",
       "   45-64    65-74  over 75 under 45 \n",
       "     139       41       23      200 "
      ]
     },
     "metadata": {},
     "output_type": "display_data"
    },
    {
     "data": {
      "text/plain": [
       "               gender\n",
       "age_categorised female male\n",
       "       45-64      18.6 15.9\n",
       "       65-74       5.2  5.0\n",
       "       over 75     3.0  2.7\n",
       "       under 45   31.3 18.4"
      ]
     },
     "metadata": {},
     "output_type": "display_data"
    },
    {
     "data": {
      "text/plain": [
       "               gender\n",
       "age_categorised female male\n",
       "       45-64      32.1 37.9\n",
       "       65-74       9.0 11.8\n",
       "       over 75     5.1  6.5\n",
       "       under 45   53.8 43.8"
      ]
     },
     "metadata": {},
     "output_type": "display_data"
    },
    {
     "data": {
      "text/plain": [
       "               dm2\n",
       "age_categorised   no  yes <NA>\n",
       "       45-64    70.5 25.2  4.3\n",
       "       65-74    68.3 26.8  4.9\n",
       "       over 75  73.9 26.1  0.0\n",
       "       under 45 93.5  4.0  2.5"
      ]
     },
     "metadata": {},
     "output_type": "display_data"
    }
   ],
   "source": [
    "# Divide in four age groups: under 45, 45-64, 65-74 and 75 or over.\n",
    "age_categorised <- ifelse(age < 45, \"under 45\", \n",
    "                          ifelse(age >= 45 & age <= 64, \"45-64\", \n",
    "                                 ifelse(age > 64 & age <= 74, \"65-74\", \n",
    "                                        ifelse(age > 74, \"over 75\", NA))))\n",
    "table(age_categorised, exclude = NULL) \n",
    "\n",
    "# Then tabulate age group by itself, followed by a cross-tabulation with gender.\n",
    "gender_by_age_category <- table(age_categorised, gender, exclude = NULL)\n",
    "# add the overall percentages to this cross-tab.\n",
    "round(100 * prop.table(gender_by_age_category), digits = 1)\n",
    "\n",
    "# display the cross tabulation as proportion of sample separated by gender\n",
    "round(100 * prop.table(gender_by_age_category, margin = 2), digits = 1)\n",
    "\n",
    "# calculating the proportion of each age group on having or not having diabetes.\n",
    "dm_by_age_category <- table(age_categorised, dm2, exclude = NULL)\n",
    "round(100 * prop.table(dm_by_age_category, margin = 1), digits = 1) "
   ]
  },
  {
   "cell_type": "markdown",
   "metadata": {},
   "source": [
    "`Something interesting to notice here is that on the group of people under 45 years old, only 4% have diabetes, but for the other groups, the proportion is similar. We have reasons to believe that the group of risk starts at 45.`"
   ]
  },
  {
   "cell_type": "markdown",
   "metadata": {},
   "source": [
    "# Part II: Simple logistic regression - running our model\n",
    "`Now that we know some important things about our data, we can start to run our model. We are going to use glm function to fit.`"
   ]
  },
  {
   "cell_type": "code",
   "execution_count": 47,
   "metadata": {},
   "outputs": [
    {
     "data": {
      "text/plain": [
       "\n",
       "Call:\n",
       "glm(formula = dm ~ 1, family = binomial(link = logit))\n",
       "\n",
       "Deviance Residuals: \n",
       "   Min      1Q  Median      3Q     Max  \n",
       "-0.578  -0.578  -0.578  -0.578   1.935  \n",
       "\n",
       "Coefficients:\n",
       "            Estimate Std. Error z value Pr(>|z|)    \n",
       "(Intercept)  -1.7047     0.1403  -12.15   <2e-16 ***\n",
       "---\n",
       "Signif. codes:  0 '***' 0.001 '**' 0.01 '*' 0.05 '.' 0.1 ' ' 1\n",
       "\n",
       "(Dispersion parameter for binomial family taken to be 1)\n",
       "\n",
       "    Null deviance: 334.87  on 389  degrees of freedom\n",
       "Residual deviance: 334.87  on 389  degrees of freedom\n",
       "  (13 observations deleted due to missingness)\n",
       "AIC: 336.87\n",
       "\n",
       "Number of Fisher Scoring iterations: 3\n"
      ]
     },
     "metadata": {},
     "output_type": "display_data"
    }
   ],
   "source": [
    "m <- glm(dm ~ 1, family=binomial (link=logit)) # The “1” is just R’s way of saying that there’s only an intercept term in the model.\n",
    "summary(m)"
   ]
  },
  {
   "cell_type": "markdown",
   "metadata": {},
   "source": [
    "`There are some important things here to notice (don't worry to interpret everything now):`\n",
    "* `13 observations were deleted due to missingness: for 13 people, we don’t know whether they had diabetes, so they’ve been excluded.That’s not a large proportion of our sample, so we can just note that down and move on to look at the coefficients.`\n",
    "* `There is only coefficient: the intercept`\n",
    "    * `This values means that the log odds of having diabetes is -1.7047 and that it’s the same for every patient.`\n",
    "    * `To understand this value, we do a:` "
   ]
  },
  {
   "cell_type": "code",
   "execution_count": 45,
   "metadata": {},
   "outputs": [
    {
     "data": {
      "text/html": [
       "<strong>(Intercept):</strong> 0.181818183280924"
      ],
      "text/latex": [
       "\\textbf{(Intercept):} 0.181818183280924"
      ],
      "text/markdown": [
       "**(Intercept):** 0.181818183280924"
      ],
      "text/plain": [
       "(Intercept) \n",
       "  0.1818182 "
      ]
     },
     "metadata": {},
     "output_type": "display_data"
    }
   ],
   "source": [
    "exp(m$coefficients)"
   ]
  },
  {
   "cell_type": "markdown",
   "metadata": {},
   "source": [
    "`We'll get 0.182. These are the odds of having diabetes.`\n",
    "\n",
    "`We can calculate the probability by dividing the odds by 1 plus the odds, to give 0.182/1.182 = 0.15, or 15%.`\n",
    "\n",
    "`Checking the values from dm, below, we see that there are 330 noes (don't have diabetes) and 60 yesses (have diabetes). Which is 60/330 = 0.182!`"
   ]
  },
  {
   "cell_type": "code",
   "execution_count": 27,
   "metadata": {},
   "outputs": [
    {
     "data": {
      "text/plain": [
       "dm\n",
       " no yes \n",
       "330  60 "
      ]
     },
     "metadata": {},
     "output_type": "display_data"
    }
   ],
   "source": [
    "table(dm)"
   ]
  },
  {
   "cell_type": "markdown",
   "metadata": {},
   "source": [
    "`By the way, it’s worth checking how R has interpreted the binary outcome “dm”.\n",
    "If you run this below, you see that there are 60 1s and 330 0s, which is good because there were 60 yesses and 330 noes in the “dm” vector.\n",
    "It’s important to know that R is modelling the log odds of dm=1 and not the log odds of dm=0!`"
   ]
  },
  {
   "cell_type": "code",
   "execution_count": 28,
   "metadata": {},
   "outputs": [
    {
     "data": {
      "text/plain": [
       "\n",
       "  0   1 \n",
       "330  60 "
      ]
     },
     "metadata": {},
     "output_type": "display_data"
    }
   ],
   "source": [
    "table(m$y)"
   ]
  },
  {
   "cell_type": "markdown",
   "metadata": {},
   "source": [
    "### Modelling age and diabetes\n",
    "\n",
    "`However, R assumes that the relation between age and the log odds of having diabetes is linear.\n",
    "To check if this is reasonable, the easiest way is just to plot one against the other.\n",
    "As we see below, it is reasonably linear.`"
   ]
  },
  {
   "cell_type": "code",
   "execution_count": 42,
   "metadata": {},
   "outputs": [
    {
     "data": {
      "image/png": "[encoded data removed]",
      "text/plain": [
       "plot without title"
      ]
     },
     "metadata": {
      "image/png": {
       "height": 420,
       "width": 420
      },
      "text/plain": {
       "height": 420,
       "width": 420
      }
     },
     "output_type": "display_data"
    }
   ],
   "source": [
    "# create a cross tabulation of age and diabetes status  \n",
    "dm_by_age <- table(age, dm)\n",
    "\n",
    "# output the frequencies of diabetes status by age \n",
    "freq_table <- prop.table(dm_by_age, margin = 1)\n",
    " \n",
    "# calculate the odds of having diabetes \n",
    "odds <- freq_table[, \"yes\"]/freq_table[, \"no\"]\n",
    "# Remember that: odds of an event = event / (1-event) = success/failure\n",
    " \n",
    "# calculate the log odds \n",
    "logodds <- log(odds) \n",
    " \n",
    "# plot the ages found in the sample against the log odds of having diabetes \n",
    "plot(rownames(freq_table), logodds)"
   ]
  },
  {
   "cell_type": "code",
   "execution_count": 52,
   "metadata": {},
   "outputs": [
    {
     "data": {
      "text/plain": [
       "\n",
       "Call:\n",
       "glm(formula = dm ~ age, family = binomial(link = logit))\n",
       "\n",
       "Deviance Residuals: \n",
       "    Min       1Q   Median       3Q      Max  \n",
       "-1.3612  -0.5963  -0.4199  -0.3056   2.4848  \n",
       "\n",
       "Coefficients:\n",
       "             Estimate Std. Error z value Pr(>|z|)    \n",
       "(Intercept) -4.404530   0.542828  -8.114 4.90e-16 ***\n",
       "age          0.052465   0.009388   5.589 2.29e-08 ***\n",
       "---\n",
       "Signif. codes:  0 '***' 0.001 '**' 0.01 '*' 0.05 '.' 0.1 ' ' 1\n",
       "\n",
       "(Dispersion parameter for binomial family taken to be 1)\n",
       "\n",
       "    Null deviance: 334.87  on 389  degrees of freedom\n",
       "Residual deviance: 299.41  on 388  degrees of freedom\n",
       "  (13 observations deleted due to missingness)\n",
       "AIC: 303.41\n",
       "\n",
       "Number of Fisher Scoring iterations: 5\n"
      ]
     },
     "metadata": {},
     "output_type": "display_data"
    }
   ],
   "source": [
    "# Let's continue the analysis with age and diabetes\n",
    "model1 <- glm(dm ~ age, family=binomial (link=logit)) \n",
    "summary(model1) "
   ]
  },
  {
   "cell_type": "markdown",
   "metadata": {},
   "source": [
    "`Some important things to notice:`\n",
    "* `13 observations deleted due to missingness`\n",
    "* `We can interpretate the coefficients as: Log odds of having diabetes = intercept + (coefficient for age) * age in years = -4.4045 + 0.0525 * age in years`\n",
    "    * `If age in years is zero, then we only have the intercept left.`\n",
    "    * `At birth, the model is saying that the log odds of having diabetes is -4.4045, which is exp(-4.4084) = 0.012`\n",
    "    * `We can convert this to give us 0.012/1.012 = 0.012 (to three decimal places) or 1.2%, which is pretty much the same as the odds.`\n",
    "* `The p value for age (Pr(>|z|)) has three asterisks, meaning close to zero, so it’s not compatible with a chance result. Age is a statistically significant predictor.`"
   ]
  },
  {
   "cell_type": "markdown",
   "metadata": {},
   "source": [
    "### Modelling gender and diabetes"
   ]
  },
  {
   "cell_type": "code",
   "execution_count": 9,
   "metadata": {},
   "outputs": [
    {
     "data": {
      "text/plain": [
       "\n",
       "Call:\n",
       "glm(formula = dm ~ gender, family = binomial(link = logit))\n",
       "\n",
       "Deviance Residuals: \n",
       "    Min       1Q   Median       3Q      Max  \n",
       "-0.5915  -0.5915  -0.5683  -0.5683   1.9509  \n",
       "\n",
       "Coefficients:\n",
       "            Estimate Std. Error z value Pr(>|z|)    \n",
       "(Intercept) -1.74150    0.18592  -9.367   <2e-16 ***\n",
       "gendermale   0.08694    0.28352   0.307    0.759    \n",
       "---\n",
       "Signif. codes:  0 '***' 0.001 '**' 0.01 '*' 0.05 '.' 0.1 ' ' 1\n",
       "\n",
       "(Dispersion parameter for binomial family taken to be 1)\n",
       "\n",
       "    Null deviance: 334.87  on 389  degrees of freedom\n",
       "Residual deviance: 334.78  on 388  degrees of freedom\n",
       "  (13 observations deleted due to missingness)\n",
       "AIC: 338.78\n",
       "\n",
       "Number of Fisher Scoring iterations: 4\n"
      ]
     },
     "metadata": {},
     "output_type": "display_data"
    }
   ],
   "source": [
    "model2 <- glm(dm ~ gender, family=binomial (link=logit)) \n",
    "summary(model2) "
   ]
  },
  {
   "cell_type": "markdown",
   "metadata": {},
   "source": [
    "* `Here, the log odds for having diabetes for males is 0.0869 higher than that for females.`\n",
    "* `This is also the log odds ratio for males compared with females.`\n",
    "* `Again, if we exponentiate 0.0869, we get the odds ratio for males compared with females, which is 1.09 (to two decimal places). That implies higher odds for males.`\n",
    "* `But we also need to inspect the p value, which is 0.759. That’s pretty high and well above the conventional threshold of 0.05, so chance is a likely explanation for the result and we can conclude that we don’t have any good evidence of a gender difference in diabetes odds in this sample.`"
   ]
  },
  {
   "cell_type": "code",
   "execution_count": 12,
   "metadata": {},
   "outputs": [
    {
     "data": {
      "text/html": [
       "<table>\n",
       "<caption>A matrix: 2 × 1 of type dbl</caption>\n",
       "<thead>\n",
       "\t<tr><th></th><th scope=col>male</th></tr>\n",
       "</thead>\n",
       "<tbody>\n",
       "\t<tr><th scope=row>female</th><td>0</td></tr>\n",
       "\t<tr><th scope=row>male</th><td>1</td></tr>\n",
       "</tbody>\n",
       "</table>\n"
      ],
      "text/latex": [
       "A matrix: 2 × 1 of type dbl\n",
       "\\begin{tabular}{r|l}\n",
       "  & male\\\\\n",
       "\\hline\n",
       "\tfemale & 0\\\\\n",
       "\tmale & 1\\\\\n",
       "\\end{tabular}\n"
      ],
      "text/markdown": [
       "\n",
       "A matrix: 2 × 1 of type dbl\n",
       "\n",
       "| <!--/--> | male |\n",
       "|---|---|\n",
       "| female | 0 |\n",
       "| male | 1 |\n",
       "\n"
      ],
      "text/plain": [
       "       male\n",
       "female 0   \n",
       "male   1   "
      ]
     },
     "metadata": {},
     "output_type": "display_data"
    }
   ],
   "source": [
    "# While in this data set, gender is nicely labelled, it’s a good idea in general to check how R has entered gender into the model. Do this by typing:\n",
    "contrasts(gender)\n",
    "# This confirms that the coefficient given in the output refers to males because males have a 1 next to them in the above output and females have a zero. The log odds for females are incorporated into the intercept."
   ]
  },
  {
   "cell_type": "code",
   "execution_count": 14,
   "metadata": {},
   "outputs": [
    {
     "data": {
      "text/html": [
       "<table>\n",
       "<caption>A matrix: 2 × 1 of type dbl</caption>\n",
       "<thead>\n",
       "\t<tr><th></th><th scope=col>female</th></tr>\n",
       "</thead>\n",
       "<tbody>\n",
       "\t<tr><th scope=row>male</th><td>0</td></tr>\n",
       "\t<tr><th scope=row>female</th><td>1</td></tr>\n",
       "</tbody>\n",
       "</table>\n"
      ],
      "text/latex": [
       "A matrix: 2 × 1 of type dbl\n",
       "\\begin{tabular}{r|l}\n",
       "  & female\\\\\n",
       "\\hline\n",
       "\tmale & 0\\\\\n",
       "\tfemale & 1\\\\\n",
       "\\end{tabular}\n"
      ],
      "text/markdown": [
       "\n",
       "A matrix: 2 × 1 of type dbl\n",
       "\n",
       "| <!--/--> | female |\n",
       "|---|---|\n",
       "| male | 0 |\n",
       "| female | 1 |\n",
       "\n"
      ],
      "text/plain": [
       "       female\n",
       "male   0     \n",
       "female 1     "
      ]
     },
     "metadata": {},
     "output_type": "display_data"
    }
   ],
   "source": [
    "#  To redefine the reference group\n",
    "gender <- relevel(gender, ref = \"male\") \n",
    "contrasts(gender)"
   ]
  },
  {
   "cell_type": "markdown",
   "metadata": {},
   "source": [
    "## Part III: Describing the data\n",
    "### Preparing to run a multiple logistic regression model\n",
    "`To run a multiple logistic regression model (when we have multiple predictors), we need to get to know each of the predictor variables that we are planning to put into the model.`\n",
    "\n",
    "`To summarise categorical variables, we use table.`\n",
    "\n",
    "`To summarise continuous variables, we use summary, but it’s also useful to see the whole distribution, using “hist” or density functions.` \n",
    "`Let's check below how to summarise important variables for our analysis, as age, BMI, HDL and cholesterol.`\n",
    "\n",
    "#### Summarising age"
   ]
  },
  {
   "cell_type": "code",
   "execution_count": 134,
   "metadata": {},
   "outputs": [
    {
     "data": {
      "text/plain": [
       "   Min. 1st Qu.  Median    Mean 3rd Qu.    Max. \n",
       "  19.00   34.00   45.00   46.85   60.00   92.00 "
      ]
     },
     "metadata": {},
     "output_type": "display_data"
    },
    {
     "data": {
      "image/png": "[encoded data removed]",
      "text/plain": [
       "Plot with title \"Histogram of age\""
      ]
     },
     "metadata": {
      "image/png": {
       "height": 420,
       "width": 420
      },
      "text/plain": {
       "height": 420,
       "width": 420
      }
     },
     "output_type": "display_data"
    },
    {
     "data": {
      "image/png": "[encoded data removed]",
      "text/plain": [
       "Plot with title \"Density of age\""
      ]
     },
     "metadata": {
      "image/png": {
       "height": 420,
       "width": 420
      },
      "text/plain": {
       "height": 420,
       "width": 420
      }
     },
     "output_type": "display_data"
    }
   ],
   "source": [
    "summary(age)\n",
    "hist(age, breaks = 10) # with breaks argument, we can define how many groups we'll plot on histogram\n",
    "\n",
    "d <- density(age) \n",
    "plot(d, main = \"Density of age\")"
   ]
  },
  {
   "cell_type": "markdown",
   "metadata": {},
   "source": [
    "#### Summarising BMI"
   ]
  },
  {
   "cell_type": "code",
   "execution_count": 140,
   "metadata": {},
   "outputs": [
    {
     "data": {
      "image/png": "[encoded data removed]",
      "text/plain": [
       "Plot with title \"Density of BMI\""
      ]
     },
     "metadata": {
      "image/png": {
       "height": 420,
       "width": 420
      },
      "text/plain": {
       "height": 420,
       "width": 420
      }
     },
     "output_type": "display_data"
    },
    {
     "data": {
      "image/png": "[encoded data removed]",
      "text/plain": [
       "plot without title"
      ]
     },
     "metadata": {
      "image/png": {
       "height": 420,
       "width": 420
      },
      "text/plain": {
       "height": 420,
       "width": 420
      }
     },
     "output_type": "display_data"
    }
   ],
   "source": [
    "bmi2 <- bmi[!is.na(bmi)] # removing NA values to plot density\n",
    "\n",
    "d <- density(bmi2)\n",
    "plot(d, main = \"Density of BMI\")\n",
    "\n",
    "# create a cross tabulation of age and diabetes status\n",
    "bmi3 <- round(bmi, 0)\n",
    "dm_by_bmi <- table(bmi3, dm)\n",
    "\n",
    "# output the frequencies of diabetes status by age \n",
    "freq_table <- prop.table(dm_by_bmi, margin = 1)\n",
    " \n",
    "# calculate the odds of having diabetes \n",
    "odds <- freq_table[, \"yes\"]/freq_table[, \"no\"]\n",
    " \n",
    "# calculate the log odds \n",
    "logodds <- log(odds) \n",
    " \n",
    "# plot the ages found in the sample against the log odds of having diabetes \n",
    "plot(rownames(freq_table), logodds)"
   ]
  },
  {
   "cell_type": "markdown",
   "metadata": {},
   "source": [
    "`We can also divide BMI in groups and plot it.`\n",
    "\n",
    "`Notice that there are any dot on underweight. As we saw before, 100% of underweight people don't have diabetes.`"
   ]
  },
  {
   "cell_type": "code",
   "execution_count": 144,
   "metadata": {},
   "outputs": [
    {
     "data": {
      "image/png": "[encoded data removed]",
      "text/plain": [
       "plot without title"
      ]
     },
     "metadata": {
      "image/png": {
       "height": 420,
       "width": 420
      },
      "text/plain": {
       "height": 420,
       "width": 420
      }
     },
     "output_type": "display_data"
    }
   ],
   "source": [
    "# Turning bmi_categorised into a factor variable\n",
    "bmi_categorised <- factor(bmi_categorised, levels = c(\"underweight\", \"normal\", \"overweight\",\"obese\"))\n",
    " \n",
    "# create a cross tabulation of BMI and diabetes status  \n",
    "dm_by_bmi_categorised <- table(bmi_categorised, dm) # not including NA values because there aren't that many \n",
    " \n",
    "# output the frequencies of diabetes status by BMI \n",
    "dm_by_bmi_categorised_prop <- prop.table(dm_by_bmi_categorised, margin = 1) \n",
    " \n",
    "# calculate the odds of having diabetes \n",
    "odds_bmi_categorised <- dm_by_bmi_categorised_prop[, \"yes\"]/dm_by_bmi_categorised_prop[, \"no\"] \n",
    " \n",
    "# calculate the log odds \n",
    "logodds_bmi_categorised <- log(odds_bmi_categorised) \n",
    " \n",
    "# plot the BMI categories found in the sample against the log odds of having diabetes \n",
    "# use a dotchart to divide between groups of BMI\n",
    "dotchart(logodds_bmi_categorised) "
   ]
  },
  {
   "cell_type": "markdown",
   "metadata": {},
   "source": [
    "#### Summarising HDL\n",
    "Density plot is a bit skewed to the right. "
   ]
  },
  {
   "cell_type": "code",
   "execution_count": 139,
   "metadata": {},
   "outputs": [
    {
     "data": {
      "image/png": "[encoded data removed]",
      "text/plain": [
       "Plot with title \"Density of HDL\""
      ]
     },
     "metadata": {
      "image/png": {
       "height": 420,
       "width": 420
      },
      "text/plain": {
       "height": 420,
       "width": 420
      }
     },
     "output_type": "display_data"
    },
    {
     "data": {
      "image/png": "[encoded data removed]",
      "text/plain": [
       "plot without title"
      ]
     },
     "metadata": {
      "image/png": {
       "height": 420,
       "width": 420
      },
      "text/plain": {
       "height": 420,
       "width": 420
      }
     },
     "output_type": "display_data"
    }
   ],
   "source": [
    "hdl2 <- hdl[!is.na(hdl)]\n",
    "d <- density(hdl2)\n",
    "plot(d, main = \"Density of HDL\")\n",
    "\n",
    "# create a cross tabulation of age and diabetes status\n",
    "dm_by_hdl <- table(hdl, dm)\n",
    "\n",
    "# output the frequencies of diabetes status by age \n",
    "freq_table <- prop.table(dm_by_hdl, margin = 1)\n",
    " \n",
    "# calculate the odds of having diabetes \n",
    "odds <- freq_table[, \"yes\"]/freq_table[, \"no\"]\n",
    " \n",
    "# calculate the log odds \n",
    "logodds <- log(odds) \n",
    " \n",
    "# plot the ages found in the sample against the log odds of having diabetes \n",
    "plot(rownames(freq_table), logodds)"
   ]
  },
  {
   "cell_type": "markdown",
   "metadata": {},
   "source": [
    "`We can also plot HDL according to groups.`\n",
    "`According to` [medicalnewstoday.com](https://www.medicalnewstoday.com/articles/315900#recommended-levels)`:`\n",
    "* `Cholesterol below 40 mg/dL: low`\n",
    "* `Cholesterol between 41 and 59 mg/dL: borderline low`\n",
    "* `Cholesterol above 60 mg/dL: healthy`"
   ]
  },
  {
   "cell_type": "code",
   "execution_count": 148,
   "metadata": {},
   "outputs": [
    {
     "data": {
      "image/png": "[encoded data removed]",
      "text/plain": [
       "plot without title"
      ]
     },
     "metadata": {
      "image/png": {
       "height": 420,
       "width": 420
      },
      "text/plain": {
       "height": 420,
       "width": 420
      }
     },
     "output_type": "display_data"
    }
   ],
   "source": [
    "hdl_categorised <- ifelse(hdl < 41, \"low\",\n",
    "                         ifelse(hdl < 59, \"borderline low\",\n",
    "                               ifelse(hdl >= 60, \"healthy\", NA)))\n",
    "\n",
    "hdl_categorised <- factor(hdl_categorised, levels = c(\"low\", \"bordeline low\", \"healthy\"))\n",
    "\n",
    "# create a cross tabulation of HDL and diabetes status  \n",
    "dm_by_hdl_categorised <- table(hdl_categorised, dm) \n",
    " \n",
    "# output the frequencies of diabetes status by HDL \n",
    "dm_by_hdl_categorised_prop <- prop.table(dm_by_hdl_categorised, margin = 1)\n",
    " \n",
    "# calculate the odds of having diabetes \n",
    "odds_hdl_categorised <- dm_by_hdl_categorised_prop[, \"yes\"]/dm_by_hdl_categorised_prop[, \"no\"] \n",
    " \n",
    "# calculate the log odds \n",
    "logodds_hdl_categorised <- log(odds_hdl_categorised) \n",
    " \n",
    "# plot the HDL categories found in the sample against the log odds of having diabetes \n",
    "# use a dotchart to divide between groups of HDL\n",
    "dotchart(logodds_hdl_categorised) "
   ]
  },
  {
   "cell_type": "markdown",
   "metadata": {},
   "source": [
    "#### Summarising cholesterol\n",
    "This looks reasonably normal. "
   ]
  },
  {
   "cell_type": "code",
   "execution_count": 138,
   "metadata": {},
   "outputs": [
    {
     "data": {
      "image/png": "[encoded data removed]",
      "text/plain": [
       "Plot with title \"Density of cholesterol\""
      ]
     },
     "metadata": {
      "image/png": {
       "height": 420,
       "width": 420
      },
      "text/plain": {
       "height": 420,
       "width": 420
      }
     },
     "output_type": "display_data"
    },
    {
     "data": {
      "image/png": "[encoded data removed]",
      "text/plain": [
       "plot without title"
      ]
     },
     "metadata": {
      "image/png": {
       "height": 420,
       "width": 420
      },
      "text/plain": {
       "height": 420,
       "width": 420
      }
     },
     "output_type": "display_data"
    }
   ],
   "source": [
    "chol2 <- chol[!is.na(chol)]\n",
    "d <- density(chol2)\n",
    "plot(d, main = \"Density of cholesterol\")\n",
    "\n",
    "# create a cross tabulation of age and diabetes status\n",
    "dm_by_chol <- table(chol, dm)\n",
    "\n",
    "# output the frequencies of diabetes status by age \n",
    "freq_table <- prop.table(dm_by_chol, margin = 1)\n",
    " \n",
    "# calculate the odds of having diabetes \n",
    "odds <- freq_table[, \"yes\"]/freq_table[, \"no\"]\n",
    " \n",
    "# calculate the log odds \n",
    "logodds <- log(odds) \n",
    " \n",
    "# plot the ages found in the sample against the log odds of having diabetes \n",
    "plot(rownames(freq_table), logodds)"
   ]
  },
  {
   "cell_type": "markdown",
   "metadata": {},
   "source": [
    "`We can also plot Cholesterol according to groups.`\n",
    "`According to` [medicalnewstoday.com](https://www.medicalnewstoday.com/articles/315900#recommended-levels)`:`\n",
    "* `Cholesterol below 200 mg/dL: healthy`\n",
    "* `Cholesterol between 200 and 239 mg/dL: borderline high`\n",
    "* `Cholesterol above 240 mg/dL: high`"
   ]
  },
  {
   "cell_type": "code",
   "execution_count": 150,
   "metadata": {},
   "outputs": [
    {
     "data": {
      "image/png": "[encoded data removed]",
      "text/plain": [
       "plot without title"
      ]
     },
     "metadata": {
      "image/png": {
       "height": 420,
       "width": 420
      },
      "text/plain": {
       "height": 420,
       "width": 420
      }
     },
     "output_type": "display_data"
    }
   ],
   "source": [
    "chol_categorised <- ifelse(chol < 200, \"healthy\",  \n",
    "                           ifelse(chol < 240, \"borderline high\", \n",
    "                                  ifelse(chol >= 240, \"high\", NA))) \n",
    " \n",
    "# make sure that it is treated as a factor/categorical variable and ordering the levels within the factor for the table \n",
    "chol_categorised <- factor(chol_categorised, levels = c(\"healthy\", \"borderline high\", \"high\")) \n",
    " \n",
    "# create a cross tabulation of cholesterol and diabetes status  \n",
    "dm_by_chol_categorised <- table(chol_categorised, dm) # not including NA values because there aren't that many \n",
    " \n",
    "# output the frequencies of diabetes status by cholesterol \n",
    "dm_by_chol_categorised_prop <- prop.table(dm_by_chol_categorised, margin = 1) \n",
    " \n",
    "# calculate the odds of having diabetes \n",
    "odds_chol_categorised <- dm_by_chol_categorised_prop[, \"yes\"]/dm_by_chol_categorised_prop[, \"no\"] \n",
    " \n",
    "# calculate the log odds \n",
    "logodds_chol_categorised <- log(odds_chol_categorised) \n",
    " \n",
    "# plot the cholesterol categories found in the sample against the log odds of having diabetes \n",
    "dotchart(logodds_chol_categorised)"
   ]
  },
  {
   "cell_type": "markdown",
   "metadata": {},
   "source": [
    "### Correlation between predictors\n",
    "`We can check the Pearson's correlation between some of the variables on data. Some of them can say almost the same thing.`\n",
    "\n",
    "`Let's check first systolic BP and diastolic BP.`\n"
   ]
  },
  {
   "cell_type": "code",
   "execution_count": 152,
   "metadata": {},
   "outputs": [
    {
     "data": {
      "text/plain": [
       "\n",
       "\tPearson's product-moment correlation\n",
       "\n",
       "data:  bp.1d and bp.1s\n",
       "t = 14.792, df = 396, p-value < 2.2e-16\n",
       "alternative hypothesis: true correlation is not equal to 0\n",
       "95 percent confidence interval:\n",
       " 0.5292967 0.6563652\n",
       "sample estimates:\n",
       "      cor \n",
       "0.5965566 \n"
      ]
     },
     "metadata": {},
     "output_type": "display_data"
    }
   ],
   "source": [
    "cor.test(x=bp.1d,y=bp.1s,method=\"pearson\") "
   ]
  },
  {
   "cell_type": "markdown",
   "metadata": {},
   "source": [
    "`We see that they both are correlated (check p-value) and with correlation of 0.597, which can be considered as high.`\n",
    "\n",
    "`Let's check now the correlation between cholesterol and HDL.`"
   ]
  },
  {
   "cell_type": "code",
   "execution_count": 154,
   "metadata": {},
   "outputs": [
    {
     "data": {
      "text/plain": [
       "\n",
       "\tPearson's product-moment correlation\n",
       "\n",
       "data:  chol and hdl\n",
       "t = 3.7983, df = 400, p-value = 0.0001683\n",
       "alternative hypothesis: true correlation is not equal to 0\n",
       "95 percent confidence interval:\n",
       " 0.09042379 0.27929136\n",
       "sample estimates:\n",
       "      cor \n",
       "0.1865809 \n"
      ]
     },
     "metadata": {},
     "output_type": "display_data"
    }
   ],
   "source": [
    "cor.test(x=chol,y=hdl,method=\"pearson\") "
   ]
  },
  {
   "cell_type": "markdown",
   "metadata": {},
   "source": [
    "`We see that they are indeed correlated (p-value is really low), but not as strongly correlated as the last case. (correlation is equal to 0.187).`"
   ]
  },
  {
   "cell_type": "markdown",
   "metadata": {},
   "source": [
    "## Running multiple logistic regression\n",
    "`Now, let's run our model with age, gender and BMI as predictors.`"
   ]
  },
  {
   "cell_type": "code",
   "execution_count": 156,
   "metadata": {},
   "outputs": [
    {
     "data": {
      "text/plain": [
       "\n",
       "Call:\n",
       "glm(formula = dm ~ age + gender + bmi, family = binomial(link = logit))\n",
       "\n",
       "Deviance Residuals: \n",
       "    Min       1Q   Median       3Q      Max  \n",
       "-1.6843  -0.5763  -0.3885  -0.2575   2.6991  \n",
       "\n",
       "Coefficients:\n",
       "             Estimate Std. Error z value Pr(>|z|)    \n",
       "(Intercept) -6.892669   1.027388  -6.709 1.96e-11 ***\n",
       "age          0.055454   0.009884   5.611 2.02e-08 ***\n",
       "gendermale   0.244852   0.322817   0.758  0.44816    \n",
       "bmi          0.073879   0.023310   3.169  0.00153 ** \n",
       "---\n",
       "Signif. codes:  0 '***' 0.001 '**' 0.01 '*' 0.05 '.' 0.1 ' ' 1\n",
       "\n",
       "(Dispersion parameter for binomial family taken to be 1)\n",
       "\n",
       "    Null deviance: 326.02  on 383  degrees of freedom\n",
       "Residual deviance: 281.62  on 380  degrees of freedom\n",
       "  (19 observations deleted due to missingness)\n",
       "AIC: 289.62\n",
       "\n",
       "Number of Fisher Scoring iterations: 5\n"
      ]
     },
     "metadata": {},
     "output_type": "display_data"
    }
   ],
   "source": [
    "model <- glm(dm ~ age+gender+bmi, family=binomial (link=logit))\n",
    "summary(model)"
   ]
  },
  {
   "cell_type": "code",
   "execution_count": 158,
   "metadata": {},
   "outputs": [
    {
     "data": {
      "text/html": [
       "<style>\n",
       ".dl-inline {width: auto; margin:0; padding: 0}\n",
       ".dl-inline>dt, .dl-inline>dd {float: none; width: auto; display: inline-block}\n",
       ".dl-inline>dt::after {content: \":\\0020\"; padding-right: .5ex}\n",
       ".dl-inline>dt:not(:first-of-type) {padding-left: .5ex}\n",
       "</style><dl class=dl-inline><dt>(Intercept)</dt><dd>0.00101520096568814</dd><dt>age</dt><dd>1.05702059806959</dd><dt>gendermale</dt><dd>1.27743228314937</dd><dt>bmi</dt><dd>1.07667639098968</dd></dl>\n"
      ],
      "text/latex": [
       "\\begin{description*}\n",
       "\\item[(Intercept)] 0.00101520096568814\n",
       "\\item[age] 1.05702059806959\n",
       "\\item[gendermale] 1.27743228314937\n",
       "\\item[bmi] 1.07667639098968\n",
       "\\end{description*}\n"
      ],
      "text/markdown": [
       "(Intercept)\n",
       ":   0.00101520096568814age\n",
       ":   1.05702059806959gendermale\n",
       ":   1.27743228314937bmi\n",
       ":   1.07667639098968\n",
       "\n"
      ],
      "text/plain": [
       "(Intercept)         age  gendermale         bmi \n",
       "0.001015201 1.057020598 1.277432283 1.076676391 "
      ]
     },
     "metadata": {},
     "output_type": "display_data"
    }
   ],
   "source": [
    "#Let's check the exp of the coefficients:\n",
    "exp(model$coefficients)"
   ]
  },
  {
   "cell_type": "markdown",
   "metadata": {},
   "source": [
    "`Lets check the important things on this model:`\n",
    "* `19 observations deleted due to missing values`\n",
    "* `The standard errors are all pretty small, so that’s fine.`\n",
    "* `Analysing each variable:`\n",
    "    * `Age: p-value is very small, so age is significantly and positively associated with the risk of getting diabetes. Age's coefficient exponentiated is 1.06. It means that every year that's incresed increases the odds of getting diabetes in 6%`\n",
    "    * `Gender: p-value is high, so this variable is not statistically significant. We can, then, say thatthere's no strong evidence for a gender difference in risk.`\n",
    "    * `BMI: We have a pretty low p-value, so we can conclude that people with higher BMIs are more at risk of diabetes. For every unit of BMI increased, there are 8% more odds to get diabetes.`"
   ]
  },
  {
   "cell_type": "markdown",
   "metadata": {},
   "source": [
    "## Final part: Analysing other similar data\n",
    "`We have this new dataset, which includes other information, such as smoking and kind of insurance.`"
   ]
  },
  {
   "cell_type": "code",
   "execution_count": 161,
   "metadata": {},
   "outputs": [
    {
     "name": "stderr",
     "output_type": "stream",
     "text": [
      "The following objects are masked from DiabetesData (pos = 3):\n",
      "\n",
      "    age, bp.1d, bp.1s, bp.2d, bp.2s, chol, dm, fh, frame, gender,\n",
      "    glyhb, hdl, height, hip, id, insurance, location, ratio, smoking,\n",
      "    stab.glu, time.ppn, waist, weight, X\n",
      "\n",
      "\n",
      "The following objects are masked from DiabetesData (pos = 4):\n",
      "\n",
      "    age, bp.1d, bp.1s, bp.2d, bp.2s, chol, dm, fh, frame, gender,\n",
      "    glyhb, hdl, height, hip, id, insurance, location, ratio, smoking,\n",
      "    stab.glu, time.ppn, waist, weight, X\n",
      "\n",
      "\n"
     ]
    },
    {
     "data": {
      "text/html": [
       "<table>\n",
       "<caption>A data.frame: 403 × 24</caption>\n",
       "<thead>\n",
       "\t<tr><th scope=col>X</th><th scope=col>id</th><th scope=col>chol</th><th scope=col>stab.glu</th><th scope=col>hdl</th><th scope=col>ratio</th><th scope=col>glyhb</th><th scope=col>location</th><th scope=col>age</th><th scope=col>gender</th><th scope=col>...</th><th scope=col>bp.1d</th><th scope=col>bp.2s</th><th scope=col>bp.2d</th><th scope=col>waist</th><th scope=col>hip</th><th scope=col>time.ppn</th><th scope=col>insurance</th><th scope=col>fh</th><th scope=col>smoking</th><th scope=col>dm</th></tr>\n",
       "\t<tr><th scope=col>&lt;int&gt;</th><th scope=col>&lt;int&gt;</th><th scope=col>&lt;int&gt;</th><th scope=col>&lt;int&gt;</th><th scope=col>&lt;int&gt;</th><th scope=col>&lt;fct&gt;</th><th scope=col>&lt;fct&gt;</th><th scope=col>&lt;fct&gt;</th><th scope=col>&lt;int&gt;</th><th scope=col>&lt;fct&gt;</th><th scope=col>...</th><th scope=col>&lt;int&gt;</th><th scope=col>&lt;int&gt;</th><th scope=col>&lt;int&gt;</th><th scope=col>&lt;int&gt;</th><th scope=col>&lt;int&gt;</th><th scope=col>&lt;int&gt;</th><th scope=col>&lt;int&gt;</th><th scope=col>&lt;int&gt;</th><th scope=col>&lt;int&gt;</th><th scope=col>&lt;fct&gt;</th></tr>\n",
       "</thead>\n",
       "<tbody>\n",
       "\t<tr><td> 1</td><td>1000</td><td>203</td><td> 82</td><td>56</td><td>3.599999905</td><td>4.309999943</td><td>Buckingham</td><td>46</td><td>female</td><td>...</td><td> 59</td><td> NA</td><td> NA</td><td>29</td><td>38</td><td> 720</td><td>1</td><td>0</td><td>3</td><td>no </td></tr>\n",
       "\t<tr><td> 2</td><td>1001</td><td>165</td><td> 97</td><td>24</td><td>6.900000095</td><td>4.440000057</td><td>Buckingham</td><td>29</td><td>female</td><td>...</td><td> 68</td><td> NA</td><td> NA</td><td>46</td><td>48</td><td> 360</td><td>0</td><td>0</td><td>2</td><td>no </td></tr>\n",
       "\t<tr><td> 3</td><td>1002</td><td>228</td><td> 92</td><td>37</td><td>6.199999809</td><td>4.639999866</td><td>Buckingham</td><td>58</td><td>female</td><td>...</td><td> 92</td><td>185</td><td> 92</td><td>49</td><td>57</td><td> 180</td><td>2</td><td>0</td><td>2</td><td>no </td></tr>\n",
       "\t<tr><td> 4</td><td>1003</td><td> 78</td><td> 93</td><td>12</td><td>6.5        </td><td>4.630000114</td><td>Buckingham</td><td>67</td><td>male  </td><td>...</td><td> 50</td><td> NA</td><td> NA</td><td>33</td><td>38</td><td> 480</td><td>1</td><td>0</td><td>3</td><td>no </td></tr>\n",
       "\t<tr><td> 5</td><td>1005</td><td>249</td><td> 90</td><td>28</td><td>8.899999619</td><td>7.71999979 </td><td>Buckingham</td><td>64</td><td>male  </td><td>...</td><td> 80</td><td> NA</td><td> NA</td><td>44</td><td>41</td><td> 300</td><td>0</td><td>0</td><td>3</td><td>yes</td></tr>\n",
       "\t<tr><td> 6</td><td>1008</td><td>248</td><td> 94</td><td>69</td><td>3.599999905</td><td>4.809999943</td><td>Buckingham</td><td>34</td><td>male  </td><td>...</td><td> 86</td><td> NA</td><td> NA</td><td>36</td><td>42</td><td> 195</td><td>1</td><td>0</td><td>1</td><td>no </td></tr>\n",
       "\t<tr><td> 7</td><td>1011</td><td>195</td><td> 92</td><td>41</td><td>4.800000191</td><td>4.840000153</td><td>Buckingham</td><td>30</td><td>male  </td><td>...</td><td>112</td><td>161</td><td>112</td><td>46</td><td>49</td><td> 720</td><td>2</td><td>1</td><td>2</td><td>no </td></tr>\n",
       "\t<tr><td> 8</td><td>1015</td><td>227</td><td> 75</td><td>44</td><td>5.199999809</td><td>3.940000057</td><td>Buckingham</td><td>37</td><td>male  </td><td>...</td><td> NA</td><td> NA</td><td> NA</td><td>34</td><td>39</td><td>1020</td><td>0</td><td>0</td><td>2</td><td>no </td></tr>\n",
       "\t<tr><td> 9</td><td>1016</td><td>177</td><td> 87</td><td>49</td><td>3.599999905</td><td>4.840000153</td><td>Buckingham</td><td>45</td><td>male  </td><td>...</td><td> 80</td><td>128</td><td> 86</td><td>34</td><td>40</td><td> 300</td><td>2</td><td>1</td><td>1</td><td>no </td></tr>\n",
       "\t<tr><td>10</td><td>1022</td><td>263</td><td> 89</td><td>40</td><td>6.599999905</td><td>5.78000021 </td><td>Buckingham</td><td>55</td><td>female</td><td>...</td><td> 72</td><td> NA</td><td> NA</td><td>45</td><td>50</td><td> 240</td><td>2</td><td>0</td><td>2</td><td>no </td></tr>\n",
       "\t<tr><td>11</td><td>1024</td><td>242</td><td> 82</td><td>54</td><td>4.5        </td><td>4.769999981</td><td>Louisa    </td><td>60</td><td>female</td><td>...</td><td> 90</td><td>130</td><td> 90</td><td>39</td><td>45</td><td> 300</td><td>1</td><td>0</td><td>2</td><td>no </td></tr>\n",
       "\t<tr><td>12</td><td>1029</td><td>215</td><td>128</td><td>34</td><td>6.300000191</td><td>4.96999979 </td><td>Louisa    </td><td>38</td><td>female</td><td>...</td><td> 68</td><td> NA</td><td> NA</td><td>42</td><td>50</td><td>  90</td><td>0</td><td>0</td><td>2</td><td>no </td></tr>\n",
       "\t<tr><td>13</td><td>1030</td><td>238</td><td> 75</td><td>36</td><td>6.599999905</td><td>4.46999979 </td><td>Louisa    </td><td>27</td><td>female</td><td>...</td><td> 80</td><td> NA</td><td> NA</td><td>35</td><td>41</td><td> 720</td><td>0</td><td>0</td><td>1</td><td>no </td></tr>\n",
       "\t<tr><td>14</td><td>1031</td><td>183</td><td> 79</td><td>46</td><td>4          </td><td>4.590000153</td><td>Louisa    </td><td>40</td><td>female</td><td>...</td><td> NA</td><td> NA</td><td> NA</td><td>37</td><td>43</td><td>  60</td><td>2</td><td>0</td><td>1</td><td>no </td></tr>\n",
       "\t<tr><td>15</td><td>1035</td><td>191</td><td> 76</td><td>30</td><td>6.400000095</td><td>4.670000076</td><td>Louisa    </td><td>36</td><td>male  </td><td>...</td><td> 66</td><td> NA</td><td> NA</td><td>36</td><td>40</td><td> 225</td><td>0</td><td>0</td><td>1</td><td>no </td></tr>\n",
       "\t<tr><td>16</td><td>1036</td><td>213</td><td> 83</td><td>47</td><td>4.5        </td><td>3.410000086</td><td>Louisa    </td><td>33</td><td>female</td><td>...</td><td> 90</td><td>120</td><td> 96</td><td>37</td><td>41</td><td> 240</td><td>0</td><td>1</td><td>2</td><td>no </td></tr>\n",
       "\t<tr><td>17</td><td>1037</td><td>255</td><td> 78</td><td>38</td><td>6.699999809</td><td>4.329999924</td><td>Louisa    </td><td>50</td><td>female</td><td>...</td><td>100</td><td> NA</td><td> NA</td><td>37</td><td>43</td><td> 180</td><td>1</td><td>0</td><td>1</td><td>no </td></tr>\n",
       "\t<tr><td>18</td><td>1041</td><td>230</td><td>112</td><td>64</td><td>3.599999905</td><td>4.53000021 </td><td>Louisa    </td><td>20</td><td>male  </td><td>...</td><td> 90</td><td> NA</td><td> NA</td><td>31</td><td>39</td><td>1440</td><td>2</td><td>0</td><td>2</td><td>no </td></tr>\n",
       "\t<tr><td>19</td><td>1045</td><td>194</td><td> 81</td><td>36</td><td>5.400000095</td><td>5.28000021 </td><td>Louisa    </td><td>36</td><td>male  </td><td>...</td><td> 76</td><td> NA</td><td> NA</td><td>30</td><td>34</td><td> 120</td><td>1</td><td>0</td><td>1</td><td>no </td></tr>\n",
       "\t<tr><td>20</td><td>1250</td><td>196</td><td>206</td><td>41</td><td>4.800000191</td><td>11.23999977</td><td>Buckingham</td><td>62</td><td>female</td><td>...</td><td> 90</td><td> NA</td><td> NA</td><td>46</td><td>51</td><td> 540</td><td>0</td><td>0</td><td>2</td><td>yes</td></tr>\n",
       "\t<tr><td>21</td><td>1252</td><td>186</td><td> 97</td><td>50</td><td>3.700000048</td><td>6.489999771</td><td>Buckingham</td><td>70</td><td>male  </td><td>...</td><td> 88</td><td>148</td><td> 84</td><td>42</td><td>41</td><td>1020</td><td>2</td><td>0</td><td>2</td><td>no </td></tr>\n",
       "\t<tr><td>22</td><td>1253</td><td>234</td><td> 65</td><td>76</td><td>3.099999905</td><td>4.670000076</td><td>Buckingham</td><td>47</td><td>male  </td><td>...</td><td>100</td><td>149</td><td>110</td><td>45</td><td>46</td><td> 480</td><td>0</td><td>0</td><td>2</td><td>no </td></tr>\n",
       "\t<tr><td>23</td><td>1254</td><td>203</td><td>299</td><td>43</td><td>4.699999809</td><td>12.73999977</td><td>Buckingham</td><td>38</td><td>female</td><td>...</td><td> 83</td><td> NA</td><td> NA</td><td>48</td><td>55</td><td> 240</td><td>1</td><td>1</td><td>2</td><td>yes</td></tr>\n",
       "\t<tr><td>24</td><td>1256</td><td>281</td><td> 92</td><td>41</td><td>6.900000095</td><td>5.559999943</td><td>Buckingham</td><td>66</td><td>female</td><td>...</td><td> 88</td><td>160</td><td> 88</td><td>48</td><td>44</td><td> 285</td><td>1</td><td>0</td><td>1</td><td>no </td></tr>\n",
       "\t<tr><td>25</td><td>1271</td><td>228</td><td> 66</td><td>45</td><td>5.099999905</td><td>4.610000134</td><td>Buckingham</td><td>24</td><td>female</td><td>...</td><td> 70</td><td>110</td><td> 70</td><td>33</td><td>38</td><td> 210</td><td>2</td><td>0</td><td>1</td><td>no </td></tr>\n",
       "\t<tr><td>26</td><td>1277</td><td>179</td><td> 80</td><td>92</td><td>1.899999976</td><td>4.179999828</td><td>Buckingham</td><td>41</td><td>female</td><td>...</td><td>112</td><td> NA</td><td> NA</td><td>28</td><td>36</td><td> 780</td><td>1</td><td>0</td><td>2</td><td>no </td></tr>\n",
       "\t<tr><td>27</td><td>1280</td><td>232</td><td> 87</td><td>30</td><td>7.699999809</td><td>5.099999905</td><td>Buckingham</td><td>37</td><td>male  </td><td>...</td><td> 95</td><td> NA</td><td> NA</td><td>43</td><td>47</td><td> 420</td><td>1</td><td>1</td><td>2</td><td>no </td></tr>\n",
       "\t<tr><td>28</td><td>1281</td><td> NA</td><td> 74</td><td>NA</td><td>NA         </td><td>4.28000021 </td><td>Buckingham</td><td>48</td><td>male  </td><td>...</td><td> 85</td><td> NA</td><td> NA</td><td>27</td><td>33</td><td> 510</td><td>0</td><td>1</td><td>1</td><td>no </td></tr>\n",
       "\t<tr><td>29</td><td>1282</td><td>254</td><td> 84</td><td>52</td><td>4.900000095</td><td>4.519999981</td><td>Buckingham</td><td>43</td><td>female</td><td>...</td><td> 70</td><td> NA</td><td> NA</td><td>31</td><td>38</td><td> 720</td><td>2</td><td>0</td><td>3</td><td>no </td></tr>\n",
       "\t<tr><td>30</td><td>1285</td><td>215</td><td> 72</td><td>42</td><td>5.099999905</td><td>4.369999886</td><td>Louisa    </td><td>40</td><td>male  </td><td>...</td><td>122</td><td>170</td><td>112</td><td>37</td><td>39</td><td> 450</td><td>0</td><td>0</td><td>2</td><td>no </td></tr>\n",
       "\t<tr><td>...</td><td>...</td><td>...</td><td>...</td><td>...</td><td>...</td><td>...</td><td>...</td><td>...</td><td>...</td><td></td><td>...</td><td>...</td><td>...</td><td>...</td><td>...</td><td>...</td><td>...</td><td>...</td><td>...</td><td>...</td></tr>\n",
       "\t<tr><td>374</td><td>40804</td><td>179</td><td>105</td><td> 60</td><td>3          </td><td>4.679999828</td><td>Louisa</td><td>20</td><td>female</td><td>...</td><td>100</td><td>138</td><td> 82</td><td>34</td><td>46</td><td> 270</td><td>2</td><td>0</td><td>2</td><td>no </td></tr>\n",
       "\t<tr><td>375</td><td>40805</td><td>202</td><td> 84</td><td> 33</td><td>6.099999905</td><td>4.170000076</td><td>Louisa</td><td>44</td><td>male  </td><td>...</td><td> 80</td><td> NA</td><td> NA</td><td>33</td><td>37</td><td> 180</td><td>0</td><td>0</td><td>2</td><td>no </td></tr>\n",
       "\t<tr><td>376</td><td>41000</td><td>194</td><td> 87</td><td> 65</td><td>3          </td><td>4.139999866</td><td>Louisa</td><td>54</td><td>male  </td><td>...</td><td> 96</td><td>160</td><td> 94</td><td>30</td><td>37</td><td>  15</td><td>1</td><td>0</td><td>1</td><td>no </td></tr>\n",
       "\t<tr><td>377</td><td>41001</td><td>227</td><td> 85</td><td> 26</td><td>8.699999809</td><td>4.980000019</td><td>Louisa</td><td>58</td><td>male  </td><td>...</td><td> 82</td><td>144</td><td> 80</td><td>38</td><td>43</td><td> 480</td><td>2</td><td>0</td><td>2</td><td>no </td></tr>\n",
       "\t<tr><td>378</td><td>41003</td><td>337</td><td> 85</td><td> 62</td><td>5.400000095</td><td>4.659999847</td><td>Louisa</td><td>35</td><td>male  </td><td>...</td><td> 84</td><td> NA</td><td> NA</td><td>36</td><td>44</td><td> 240</td><td>0</td><td>0</td><td>1</td><td>no </td></tr>\n",
       "\t<tr><td>379</td><td>41004</td><td>255</td><td> 83</td><td> 90</td><td>2.799999952</td><td>4.289999962</td><td>Louisa</td><td>52</td><td>male  </td><td>...</td><td>110</td><td>166</td><td>108</td><td>30</td><td>33</td><td> 780</td><td>2</td><td>1</td><td>3</td><td>no </td></tr>\n",
       "\t<tr><td>380</td><td>41021</td><td>162</td><td> 90</td><td> 46</td><td>3.5        </td><td>5.559999943</td><td>Louisa</td><td>60</td><td>female</td><td>...</td><td> 64</td><td> NA</td><td> NA</td><td>32</td><td>34</td><td> 300</td><td>2</td><td>0</td><td>2</td><td>no </td></tr>\n",
       "\t<tr><td>381</td><td>41023</td><td>322</td><td> 87</td><td> 92</td><td>3.5        </td><td>4.449999809</td><td>Louisa</td><td>43</td><td>female</td><td>...</td><td> 98</td><td>122</td><td>100</td><td>32</td><td>41</td><td>  60</td><td>0</td><td>0</td><td>2</td><td>no </td></tr>\n",
       "\t<tr><td>382</td><td>41029</td><td>289</td><td>267</td><td> 38</td><td>7.599999905</td><td>11.40999985</td><td>Louisa</td><td>59</td><td>male  </td><td>...</td><td> 79</td><td> NA</td><td> NA</td><td>36</td><td>38</td><td> 900</td><td>0</td><td>0</td><td>3</td><td>yes</td></tr>\n",
       "\t<tr><td>383</td><td>41034</td><td>217</td><td> 87</td><td> 40</td><td>5.400000095</td><td>4.070000172</td><td>Louisa</td><td>33</td><td>female</td><td>...</td><td> 90</td><td>138</td><td> 84</td><td>42</td><td>46</td><td>  40</td><td>1</td><td>0</td><td>2</td><td>no </td></tr>\n",
       "\t<tr><td>384</td><td>41035</td><td>209</td><td> 91</td><td> 36</td><td>5.800000191</td><td>5.010000229</td><td>Louisa</td><td>37</td><td>male  </td><td>...</td><td> 94</td><td>130</td><td> 88</td><td>42</td><td>48</td><td> 450</td><td>1</td><td>0</td><td>3</td><td>no </td></tr>\n",
       "\t<tr><td>385</td><td>41036</td><td>214</td><td> 77</td><td> 48</td><td>4.5        </td><td>4.480000019</td><td>Louisa</td><td>40</td><td>male  </td><td>...</td><td> 84</td><td> NA</td><td> NA</td><td>40</td><td>44</td><td>1020</td><td>2</td><td>1</td><td>3</td><td>no </td></tr>\n",
       "\t<tr><td>386</td><td>41037</td><td>302</td><td> 81</td><td> 57</td><td>5.300000191</td><td>4.650000095</td><td>Louisa</td><td>38</td><td>female</td><td>...</td><td> 82</td><td> NA</td><td> NA</td><td>41</td><td>51</td><td> 210</td><td>2</td><td>0</td><td>2</td><td>no </td></tr>\n",
       "\t<tr><td>387</td><td>41039</td><td>179</td><td> 85</td><td> 52</td><td>3.400000095</td><td>4.050000191</td><td>Louisa</td><td>32</td><td>female</td><td>...</td><td> 96</td><td>148</td><td>100</td><td>37</td><td>47</td><td>  60</td><td>2</td><td>1</td><td>1</td><td>no </td></tr>\n",
       "\t<tr><td>388</td><td>41041</td><td>279</td><td>270</td><td> 40</td><td>7          </td><td>8.109999657</td><td>Louisa</td><td>60</td><td>female</td><td>...</td><td> 90</td><td>174</td><td> 84</td><td>48</td><td>50</td><td> 180</td><td>1</td><td>1</td><td>1</td><td>yes</td></tr>\n",
       "\t<tr><td>389</td><td>41055</td><td>144</td><td> 81</td><td> 28</td><td>5.099999905</td><td>4.130000114</td><td>Louisa</td><td>30</td><td>male  </td><td>...</td><td> 78</td><td> NA</td><td> NA</td><td>31</td><td>38</td><td> 180</td><td>2</td><td>1</td><td>1</td><td>no </td></tr>\n",
       "\t<tr><td>390</td><td>41063</td><td>270</td><td> 73</td><td> 40</td><td>6.800000191</td><td>3.579999924</td><td>Louisa</td><td>42</td><td>male  </td><td>...</td><td> 94</td><td>149</td><td> 94</td><td>39</td><td>41</td><td>  30</td><td>0</td><td>0</td><td>2</td><td>no </td></tr>\n",
       "\t<tr><td>391</td><td>41065</td><td>196</td><td>120</td><td> 67</td><td>2.900000095</td><td>9.369999886</td><td>Louisa</td><td>52</td><td>female</td><td>...</td><td> 94</td><td>142</td><td> 92</td><td>34</td><td>42</td><td> 480</td><td>2</td><td>0</td><td>1</td><td>yes</td></tr>\n",
       "\t<tr><td>392</td><td>41075</td><td>221</td><td>126</td><td> 48</td><td>4.599999905</td><td>5.53000021 </td><td>Louisa</td><td>59</td><td>female</td><td>...</td><td> 78</td><td> NA</td><td> NA</td><td>39</td><td>45</td><td>  60</td><td>2</td><td>0</td><td>1</td><td>no </td></tr>\n",
       "\t<tr><td>393</td><td>41078</td><td>210</td><td> 81</td><td> 81</td><td>2.599999905</td><td>4.960000038</td><td>Louisa</td><td>78</td><td>male  </td><td>...</td><td> 70</td><td> NA</td><td> NA</td><td>38</td><td>39</td><td> 540</td><td>1</td><td>1</td><td>2</td><td>no </td></tr>\n",
       "\t<tr><td>394</td><td>41253</td><td>192</td><td> 85</td><td> 69</td><td>2.799999952</td><td>4.380000114</td><td>Louisa</td><td>51</td><td>male  </td><td>...</td><td>110</td><td>170</td><td>118</td><td>NA</td><td>NA</td><td>  60</td><td>0</td><td>0</td><td>3</td><td>no </td></tr>\n",
       "\t<tr><td>395</td><td>41254</td><td>169</td><td>104</td><td> 58</td><td>2.900000095</td><td>4.820000172</td><td>Louisa</td><td>25</td><td>female</td><td>...</td><td> 95</td><td>130</td><td> 94</td><td>40</td><td>42</td><td>  60</td><td>0</td><td>0</td><td>2</td><td>no </td></tr>\n",
       "\t<tr><td>396</td><td>41500</td><td>179</td><td> 85</td><td> 50</td><td>3.599999905</td><td>4.989999771</td><td>Louisa</td><td>37</td><td>male  </td><td>...</td><td> 94</td><td>172</td><td>100</td><td>33</td><td>39</td><td> 480</td><td>0</td><td>0</td><td>2</td><td>no </td></tr>\n",
       "\t<tr><td>397</td><td>41501</td><td>216</td><td> 84</td><td> 64</td><td>3.400000095</td><td>NA         </td><td>Louisa</td><td>54</td><td>female</td><td>...</td><td> 90</td><td>126</td><td> 80</td><td>38</td><td>42</td><td> 330</td><td>2</td><td>0</td><td>1</td><td>NA </td></tr>\n",
       "\t<tr><td>398</td><td>41503</td><td>301</td><td> 90</td><td>118</td><td>2.599999905</td><td>4.28000021 </td><td>Louisa</td><td>89</td><td>female</td><td>...</td><td> 90</td><td>238</td><td> 90</td><td>31</td><td>41</td><td> 210</td><td>1</td><td>0</td><td>3</td><td>no </td></tr>\n",
       "\t<tr><td>399</td><td>41506</td><td>296</td><td>369</td><td> 46</td><td>6.400000095</td><td>16.11000061</td><td>Louisa</td><td>53</td><td>male  </td><td>...</td><td> 94</td><td>130</td><td> 94</td><td>35</td><td>39</td><td> 210</td><td>2</td><td>0</td><td>1</td><td>yes</td></tr>\n",
       "\t<tr><td>400</td><td>41507</td><td>284</td><td> 89</td><td> 54</td><td>5.300000191</td><td>4.389999866</td><td>Louisa</td><td>51</td><td>female</td><td>...</td><td>100</td><td>146</td><td>102</td><td>32</td><td>43</td><td> 180</td><td>2</td><td>0</td><td>3</td><td>no </td></tr>\n",
       "\t<tr><td>401</td><td>41510</td><td>194</td><td>269</td><td> 38</td><td>5.099999905</td><td>13.63000011</td><td>Louisa</td><td>29</td><td>female</td><td>...</td><td> 70</td><td> NA</td><td> NA</td><td>33</td><td>40</td><td>  20</td><td>0</td><td>1</td><td>2</td><td>yes</td></tr>\n",
       "\t<tr><td>402</td><td>41752</td><td>199</td><td> 76</td><td> 52</td><td>3.799999952</td><td>4.489999771</td><td>Louisa</td><td>41</td><td>female</td><td>...</td><td> 78</td><td> NA</td><td> NA</td><td>41</td><td>48</td><td> 255</td><td>2</td><td>0</td><td>2</td><td>no </td></tr>\n",
       "\t<tr><td>403</td><td>41756</td><td>159</td><td> 88</td><td> 79</td><td>2          </td><td>NA         </td><td>Louisa</td><td>68</td><td>female</td><td>...</td><td> 72</td><td> NA</td><td> NA</td><td>49</td><td>58</td><td> 900</td><td>0</td><td>0</td><td>1</td><td>NA </td></tr>\n",
       "</tbody>\n",
       "</table>\n"
      ],
      "text/latex": [
       "A data.frame: 403 × 24\n",
       "\\begin{tabular}{lllllllllllllllllllll}\n",
       " X & id & chol & stab.glu & hdl & ratio & glyhb & location & age & gender & ... & bp.1d & bp.2s & bp.2d & waist & hip & time.ppn & insurance & fh & smoking & dm\\\\\n",
       " <int> & <int> & <int> & <int> & <int> & <fct> & <fct> & <fct> & <int> & <fct> & ... & <int> & <int> & <int> & <int> & <int> & <int> & <int> & <int> & <int> & <fct>\\\\\n",
       "\\hline\n",
       "\t  1 & 1000 & 203 &  82 & 56 & 3.599999905 & 4.309999943 & Buckingham & 46 & female & ... &  59 &  NA &  NA & 29 & 38 &  720 & 1 & 0 & 3 & no \\\\\n",
       "\t  2 & 1001 & 165 &  97 & 24 & 6.900000095 & 4.440000057 & Buckingham & 29 & female & ... &  68 &  NA &  NA & 46 & 48 &  360 & 0 & 0 & 2 & no \\\\\n",
       "\t  3 & 1002 & 228 &  92 & 37 & 6.199999809 & 4.639999866 & Buckingham & 58 & female & ... &  92 & 185 &  92 & 49 & 57 &  180 & 2 & 0 & 2 & no \\\\\n",
       "\t  4 & 1003 &  78 &  93 & 12 & 6.5         & 4.630000114 & Buckingham & 67 & male   & ... &  50 &  NA &  NA & 33 & 38 &  480 & 1 & 0 & 3 & no \\\\\n",
       "\t  5 & 1005 & 249 &  90 & 28 & 8.899999619 & 7.71999979  & Buckingham & 64 & male   & ... &  80 &  NA &  NA & 44 & 41 &  300 & 0 & 0 & 3 & yes\\\\\n",
       "\t  6 & 1008 & 248 &  94 & 69 & 3.599999905 & 4.809999943 & Buckingham & 34 & male   & ... &  86 &  NA &  NA & 36 & 42 &  195 & 1 & 0 & 1 & no \\\\\n",
       "\t  7 & 1011 & 195 &  92 & 41 & 4.800000191 & 4.840000153 & Buckingham & 30 & male   & ... & 112 & 161 & 112 & 46 & 49 &  720 & 2 & 1 & 2 & no \\\\\n",
       "\t  8 & 1015 & 227 &  75 & 44 & 5.199999809 & 3.940000057 & Buckingham & 37 & male   & ... &  NA &  NA &  NA & 34 & 39 & 1020 & 0 & 0 & 2 & no \\\\\n",
       "\t  9 & 1016 & 177 &  87 & 49 & 3.599999905 & 4.840000153 & Buckingham & 45 & male   & ... &  80 & 128 &  86 & 34 & 40 &  300 & 2 & 1 & 1 & no \\\\\n",
       "\t 10 & 1022 & 263 &  89 & 40 & 6.599999905 & 5.78000021  & Buckingham & 55 & female & ... &  72 &  NA &  NA & 45 & 50 &  240 & 2 & 0 & 2 & no \\\\\n",
       "\t 11 & 1024 & 242 &  82 & 54 & 4.5         & 4.769999981 & Louisa     & 60 & female & ... &  90 & 130 &  90 & 39 & 45 &  300 & 1 & 0 & 2 & no \\\\\n",
       "\t 12 & 1029 & 215 & 128 & 34 & 6.300000191 & 4.96999979  & Louisa     & 38 & female & ... &  68 &  NA &  NA & 42 & 50 &   90 & 0 & 0 & 2 & no \\\\\n",
       "\t 13 & 1030 & 238 &  75 & 36 & 6.599999905 & 4.46999979  & Louisa     & 27 & female & ... &  80 &  NA &  NA & 35 & 41 &  720 & 0 & 0 & 1 & no \\\\\n",
       "\t 14 & 1031 & 183 &  79 & 46 & 4           & 4.590000153 & Louisa     & 40 & female & ... &  NA &  NA &  NA & 37 & 43 &   60 & 2 & 0 & 1 & no \\\\\n",
       "\t 15 & 1035 & 191 &  76 & 30 & 6.400000095 & 4.670000076 & Louisa     & 36 & male   & ... &  66 &  NA &  NA & 36 & 40 &  225 & 0 & 0 & 1 & no \\\\\n",
       "\t 16 & 1036 & 213 &  83 & 47 & 4.5         & 3.410000086 & Louisa     & 33 & female & ... &  90 & 120 &  96 & 37 & 41 &  240 & 0 & 1 & 2 & no \\\\\n",
       "\t 17 & 1037 & 255 &  78 & 38 & 6.699999809 & 4.329999924 & Louisa     & 50 & female & ... & 100 &  NA &  NA & 37 & 43 &  180 & 1 & 0 & 1 & no \\\\\n",
       "\t 18 & 1041 & 230 & 112 & 64 & 3.599999905 & 4.53000021  & Louisa     & 20 & male   & ... &  90 &  NA &  NA & 31 & 39 & 1440 & 2 & 0 & 2 & no \\\\\n",
       "\t 19 & 1045 & 194 &  81 & 36 & 5.400000095 & 5.28000021  & Louisa     & 36 & male   & ... &  76 &  NA &  NA & 30 & 34 &  120 & 1 & 0 & 1 & no \\\\\n",
       "\t 20 & 1250 & 196 & 206 & 41 & 4.800000191 & 11.23999977 & Buckingham & 62 & female & ... &  90 &  NA &  NA & 46 & 51 &  540 & 0 & 0 & 2 & yes\\\\\n",
       "\t 21 & 1252 & 186 &  97 & 50 & 3.700000048 & 6.489999771 & Buckingham & 70 & male   & ... &  88 & 148 &  84 & 42 & 41 & 1020 & 2 & 0 & 2 & no \\\\\n",
       "\t 22 & 1253 & 234 &  65 & 76 & 3.099999905 & 4.670000076 & Buckingham & 47 & male   & ... & 100 & 149 & 110 & 45 & 46 &  480 & 0 & 0 & 2 & no \\\\\n",
       "\t 23 & 1254 & 203 & 299 & 43 & 4.699999809 & 12.73999977 & Buckingham & 38 & female & ... &  83 &  NA &  NA & 48 & 55 &  240 & 1 & 1 & 2 & yes\\\\\n",
       "\t 24 & 1256 & 281 &  92 & 41 & 6.900000095 & 5.559999943 & Buckingham & 66 & female & ... &  88 & 160 &  88 & 48 & 44 &  285 & 1 & 0 & 1 & no \\\\\n",
       "\t 25 & 1271 & 228 &  66 & 45 & 5.099999905 & 4.610000134 & Buckingham & 24 & female & ... &  70 & 110 &  70 & 33 & 38 &  210 & 2 & 0 & 1 & no \\\\\n",
       "\t 26 & 1277 & 179 &  80 & 92 & 1.899999976 & 4.179999828 & Buckingham & 41 & female & ... & 112 &  NA &  NA & 28 & 36 &  780 & 1 & 0 & 2 & no \\\\\n",
       "\t 27 & 1280 & 232 &  87 & 30 & 7.699999809 & 5.099999905 & Buckingham & 37 & male   & ... &  95 &  NA &  NA & 43 & 47 &  420 & 1 & 1 & 2 & no \\\\\n",
       "\t 28 & 1281 &  NA &  74 & NA & NA          & 4.28000021  & Buckingham & 48 & male   & ... &  85 &  NA &  NA & 27 & 33 &  510 & 0 & 1 & 1 & no \\\\\n",
       "\t 29 & 1282 & 254 &  84 & 52 & 4.900000095 & 4.519999981 & Buckingham & 43 & female & ... &  70 &  NA &  NA & 31 & 38 &  720 & 2 & 0 & 3 & no \\\\\n",
       "\t 30 & 1285 & 215 &  72 & 42 & 5.099999905 & 4.369999886 & Louisa     & 40 & male   & ... & 122 & 170 & 112 & 37 & 39 &  450 & 0 & 0 & 2 & no \\\\\n",
       "\t ... & ... & ... & ... & ... & ... & ... & ... & ... & ... &  & ... & ... & ... & ... & ... & ... & ... & ... & ... & ...\\\\\n",
       "\t 374 & 40804 & 179 & 105 &  60 & 3           & 4.679999828 & Louisa & 20 & female & ... & 100 & 138 &  82 & 34 & 46 &  270 & 2 & 0 & 2 & no \\\\\n",
       "\t 375 & 40805 & 202 &  84 &  33 & 6.099999905 & 4.170000076 & Louisa & 44 & male   & ... &  80 &  NA &  NA & 33 & 37 &  180 & 0 & 0 & 2 & no \\\\\n",
       "\t 376 & 41000 & 194 &  87 &  65 & 3           & 4.139999866 & Louisa & 54 & male   & ... &  96 & 160 &  94 & 30 & 37 &   15 & 1 & 0 & 1 & no \\\\\n",
       "\t 377 & 41001 & 227 &  85 &  26 & 8.699999809 & 4.980000019 & Louisa & 58 & male   & ... &  82 & 144 &  80 & 38 & 43 &  480 & 2 & 0 & 2 & no \\\\\n",
       "\t 378 & 41003 & 337 &  85 &  62 & 5.400000095 & 4.659999847 & Louisa & 35 & male   & ... &  84 &  NA &  NA & 36 & 44 &  240 & 0 & 0 & 1 & no \\\\\n",
       "\t 379 & 41004 & 255 &  83 &  90 & 2.799999952 & 4.289999962 & Louisa & 52 & male   & ... & 110 & 166 & 108 & 30 & 33 &  780 & 2 & 1 & 3 & no \\\\\n",
       "\t 380 & 41021 & 162 &  90 &  46 & 3.5         & 5.559999943 & Louisa & 60 & female & ... &  64 &  NA &  NA & 32 & 34 &  300 & 2 & 0 & 2 & no \\\\\n",
       "\t 381 & 41023 & 322 &  87 &  92 & 3.5         & 4.449999809 & Louisa & 43 & female & ... &  98 & 122 & 100 & 32 & 41 &   60 & 0 & 0 & 2 & no \\\\\n",
       "\t 382 & 41029 & 289 & 267 &  38 & 7.599999905 & 11.40999985 & Louisa & 59 & male   & ... &  79 &  NA &  NA & 36 & 38 &  900 & 0 & 0 & 3 & yes\\\\\n",
       "\t 383 & 41034 & 217 &  87 &  40 & 5.400000095 & 4.070000172 & Louisa & 33 & female & ... &  90 & 138 &  84 & 42 & 46 &   40 & 1 & 0 & 2 & no \\\\\n",
       "\t 384 & 41035 & 209 &  91 &  36 & 5.800000191 & 5.010000229 & Louisa & 37 & male   & ... &  94 & 130 &  88 & 42 & 48 &  450 & 1 & 0 & 3 & no \\\\\n",
       "\t 385 & 41036 & 214 &  77 &  48 & 4.5         & 4.480000019 & Louisa & 40 & male   & ... &  84 &  NA &  NA & 40 & 44 & 1020 & 2 & 1 & 3 & no \\\\\n",
       "\t 386 & 41037 & 302 &  81 &  57 & 5.300000191 & 4.650000095 & Louisa & 38 & female & ... &  82 &  NA &  NA & 41 & 51 &  210 & 2 & 0 & 2 & no \\\\\n",
       "\t 387 & 41039 & 179 &  85 &  52 & 3.400000095 & 4.050000191 & Louisa & 32 & female & ... &  96 & 148 & 100 & 37 & 47 &   60 & 2 & 1 & 1 & no \\\\\n",
       "\t 388 & 41041 & 279 & 270 &  40 & 7           & 8.109999657 & Louisa & 60 & female & ... &  90 & 174 &  84 & 48 & 50 &  180 & 1 & 1 & 1 & yes\\\\\n",
       "\t 389 & 41055 & 144 &  81 &  28 & 5.099999905 & 4.130000114 & Louisa & 30 & male   & ... &  78 &  NA &  NA & 31 & 38 &  180 & 2 & 1 & 1 & no \\\\\n",
       "\t 390 & 41063 & 270 &  73 &  40 & 6.800000191 & 3.579999924 & Louisa & 42 & male   & ... &  94 & 149 &  94 & 39 & 41 &   30 & 0 & 0 & 2 & no \\\\\n",
       "\t 391 & 41065 & 196 & 120 &  67 & 2.900000095 & 9.369999886 & Louisa & 52 & female & ... &  94 & 142 &  92 & 34 & 42 &  480 & 2 & 0 & 1 & yes\\\\\n",
       "\t 392 & 41075 & 221 & 126 &  48 & 4.599999905 & 5.53000021  & Louisa & 59 & female & ... &  78 &  NA &  NA & 39 & 45 &   60 & 2 & 0 & 1 & no \\\\\n",
       "\t 393 & 41078 & 210 &  81 &  81 & 2.599999905 & 4.960000038 & Louisa & 78 & male   & ... &  70 &  NA &  NA & 38 & 39 &  540 & 1 & 1 & 2 & no \\\\\n",
       "\t 394 & 41253 & 192 &  85 &  69 & 2.799999952 & 4.380000114 & Louisa & 51 & male   & ... & 110 & 170 & 118 & NA & NA &   60 & 0 & 0 & 3 & no \\\\\n",
       "\t 395 & 41254 & 169 & 104 &  58 & 2.900000095 & 4.820000172 & Louisa & 25 & female & ... &  95 & 130 &  94 & 40 & 42 &   60 & 0 & 0 & 2 & no \\\\\n",
       "\t 396 & 41500 & 179 &  85 &  50 & 3.599999905 & 4.989999771 & Louisa & 37 & male   & ... &  94 & 172 & 100 & 33 & 39 &  480 & 0 & 0 & 2 & no \\\\\n",
       "\t 397 & 41501 & 216 &  84 &  64 & 3.400000095 & NA          & Louisa & 54 & female & ... &  90 & 126 &  80 & 38 & 42 &  330 & 2 & 0 & 1 & NA \\\\\n",
       "\t 398 & 41503 & 301 &  90 & 118 & 2.599999905 & 4.28000021  & Louisa & 89 & female & ... &  90 & 238 &  90 & 31 & 41 &  210 & 1 & 0 & 3 & no \\\\\n",
       "\t 399 & 41506 & 296 & 369 &  46 & 6.400000095 & 16.11000061 & Louisa & 53 & male   & ... &  94 & 130 &  94 & 35 & 39 &  210 & 2 & 0 & 1 & yes\\\\\n",
       "\t 400 & 41507 & 284 &  89 &  54 & 5.300000191 & 4.389999866 & Louisa & 51 & female & ... & 100 & 146 & 102 & 32 & 43 &  180 & 2 & 0 & 3 & no \\\\\n",
       "\t 401 & 41510 & 194 & 269 &  38 & 5.099999905 & 13.63000011 & Louisa & 29 & female & ... &  70 &  NA &  NA & 33 & 40 &   20 & 0 & 1 & 2 & yes\\\\\n",
       "\t 402 & 41752 & 199 &  76 &  52 & 3.799999952 & 4.489999771 & Louisa & 41 & female & ... &  78 &  NA &  NA & 41 & 48 &  255 & 2 & 0 & 2 & no \\\\\n",
       "\t 403 & 41756 & 159 &  88 &  79 & 2           & NA          & Louisa & 68 & female & ... &  72 &  NA &  NA & 49 & 58 &  900 & 0 & 0 & 1 & NA \\\\\n",
       "\\end{tabular}\n"
      ],
      "text/markdown": [
       "\n",
       "A data.frame: 403 × 24\n",
       "\n",
       "| X &lt;int&gt; | id &lt;int&gt; | chol &lt;int&gt; | stab.glu &lt;int&gt; | hdl &lt;int&gt; | ratio &lt;fct&gt; | glyhb &lt;fct&gt; | location &lt;fct&gt; | age &lt;int&gt; | gender &lt;fct&gt; | ... ... | bp.1d &lt;int&gt; | bp.2s &lt;int&gt; | bp.2d &lt;int&gt; | waist &lt;int&gt; | hip &lt;int&gt; | time.ppn &lt;int&gt; | insurance &lt;int&gt; | fh &lt;int&gt; | smoking &lt;int&gt; | dm &lt;fct&gt; |\n",
       "|---|---|---|---|---|---|---|---|---|---|---|---|---|---|---|---|---|---|---|---|---|\n",
       "|  1 | 1000 | 203 |  82 | 56 | 3.599999905 | 4.309999943 | Buckingham | 46 | female | ... |  59 |  NA |  NA | 29 | 38 |  720 | 1 | 0 | 3 | no  |\n",
       "|  2 | 1001 | 165 |  97 | 24 | 6.900000095 | 4.440000057 | Buckingham | 29 | female | ... |  68 |  NA |  NA | 46 | 48 |  360 | 0 | 0 | 2 | no  |\n",
       "|  3 | 1002 | 228 |  92 | 37 | 6.199999809 | 4.639999866 | Buckingham | 58 | female | ... |  92 | 185 |  92 | 49 | 57 |  180 | 2 | 0 | 2 | no  |\n",
       "|  4 | 1003 |  78 |  93 | 12 | 6.5         | 4.630000114 | Buckingham | 67 | male   | ... |  50 |  NA |  NA | 33 | 38 |  480 | 1 | 0 | 3 | no  |\n",
       "|  5 | 1005 | 249 |  90 | 28 | 8.899999619 | 7.71999979  | Buckingham | 64 | male   | ... |  80 |  NA |  NA | 44 | 41 |  300 | 0 | 0 | 3 | yes |\n",
       "|  6 | 1008 | 248 |  94 | 69 | 3.599999905 | 4.809999943 | Buckingham | 34 | male   | ... |  86 |  NA |  NA | 36 | 42 |  195 | 1 | 0 | 1 | no  |\n",
       "|  7 | 1011 | 195 |  92 | 41 | 4.800000191 | 4.840000153 | Buckingham | 30 | male   | ... | 112 | 161 | 112 | 46 | 49 |  720 | 2 | 1 | 2 | no  |\n",
       "|  8 | 1015 | 227 |  75 | 44 | 5.199999809 | 3.940000057 | Buckingham | 37 | male   | ... |  NA |  NA |  NA | 34 | 39 | 1020 | 0 | 0 | 2 | no  |\n",
       "|  9 | 1016 | 177 |  87 | 49 | 3.599999905 | 4.840000153 | Buckingham | 45 | male   | ... |  80 | 128 |  86 | 34 | 40 |  300 | 2 | 1 | 1 | no  |\n",
       "| 10 | 1022 | 263 |  89 | 40 | 6.599999905 | 5.78000021  | Buckingham | 55 | female | ... |  72 |  NA |  NA | 45 | 50 |  240 | 2 | 0 | 2 | no  |\n",
       "| 11 | 1024 | 242 |  82 | 54 | 4.5         | 4.769999981 | Louisa     | 60 | female | ... |  90 | 130 |  90 | 39 | 45 |  300 | 1 | 0 | 2 | no  |\n",
       "| 12 | 1029 | 215 | 128 | 34 | 6.300000191 | 4.96999979  | Louisa     | 38 | female | ... |  68 |  NA |  NA | 42 | 50 |   90 | 0 | 0 | 2 | no  |\n",
       "| 13 | 1030 | 238 |  75 | 36 | 6.599999905 | 4.46999979  | Louisa     | 27 | female | ... |  80 |  NA |  NA | 35 | 41 |  720 | 0 | 0 | 1 | no  |\n",
       "| 14 | 1031 | 183 |  79 | 46 | 4           | 4.590000153 | Louisa     | 40 | female | ... |  NA |  NA |  NA | 37 | 43 |   60 | 2 | 0 | 1 | no  |\n",
       "| 15 | 1035 | 191 |  76 | 30 | 6.400000095 | 4.670000076 | Louisa     | 36 | male   | ... |  66 |  NA |  NA | 36 | 40 |  225 | 0 | 0 | 1 | no  |\n",
       "| 16 | 1036 | 213 |  83 | 47 | 4.5         | 3.410000086 | Louisa     | 33 | female | ... |  90 | 120 |  96 | 37 | 41 |  240 | 0 | 1 | 2 | no  |\n",
       "| 17 | 1037 | 255 |  78 | 38 | 6.699999809 | 4.329999924 | Louisa     | 50 | female | ... | 100 |  NA |  NA | 37 | 43 |  180 | 1 | 0 | 1 | no  |\n",
       "| 18 | 1041 | 230 | 112 | 64 | 3.599999905 | 4.53000021  | Louisa     | 20 | male   | ... |  90 |  NA |  NA | 31 | 39 | 1440 | 2 | 0 | 2 | no  |\n",
       "| 19 | 1045 | 194 |  81 | 36 | 5.400000095 | 5.28000021  | Louisa     | 36 | male   | ... |  76 |  NA |  NA | 30 | 34 |  120 | 1 | 0 | 1 | no  |\n",
       "| 20 | 1250 | 196 | 206 | 41 | 4.800000191 | 11.23999977 | Buckingham | 62 | female | ... |  90 |  NA |  NA | 46 | 51 |  540 | 0 | 0 | 2 | yes |\n",
       "| 21 | 1252 | 186 |  97 | 50 | 3.700000048 | 6.489999771 | Buckingham | 70 | male   | ... |  88 | 148 |  84 | 42 | 41 | 1020 | 2 | 0 | 2 | no  |\n",
       "| 22 | 1253 | 234 |  65 | 76 | 3.099999905 | 4.670000076 | Buckingham | 47 | male   | ... | 100 | 149 | 110 | 45 | 46 |  480 | 0 | 0 | 2 | no  |\n",
       "| 23 | 1254 | 203 | 299 | 43 | 4.699999809 | 12.73999977 | Buckingham | 38 | female | ... |  83 |  NA |  NA | 48 | 55 |  240 | 1 | 1 | 2 | yes |\n",
       "| 24 | 1256 | 281 |  92 | 41 | 6.900000095 | 5.559999943 | Buckingham | 66 | female | ... |  88 | 160 |  88 | 48 | 44 |  285 | 1 | 0 | 1 | no  |\n",
       "| 25 | 1271 | 228 |  66 | 45 | 5.099999905 | 4.610000134 | Buckingham | 24 | female | ... |  70 | 110 |  70 | 33 | 38 |  210 | 2 | 0 | 1 | no  |\n",
       "| 26 | 1277 | 179 |  80 | 92 | 1.899999976 | 4.179999828 | Buckingham | 41 | female | ... | 112 |  NA |  NA | 28 | 36 |  780 | 1 | 0 | 2 | no  |\n",
       "| 27 | 1280 | 232 |  87 | 30 | 7.699999809 | 5.099999905 | Buckingham | 37 | male   | ... |  95 |  NA |  NA | 43 | 47 |  420 | 1 | 1 | 2 | no  |\n",
       "| 28 | 1281 |  NA |  74 | NA | NA          | 4.28000021  | Buckingham | 48 | male   | ... |  85 |  NA |  NA | 27 | 33 |  510 | 0 | 1 | 1 | no  |\n",
       "| 29 | 1282 | 254 |  84 | 52 | 4.900000095 | 4.519999981 | Buckingham | 43 | female | ... |  70 |  NA |  NA | 31 | 38 |  720 | 2 | 0 | 3 | no  |\n",
       "| 30 | 1285 | 215 |  72 | 42 | 5.099999905 | 4.369999886 | Louisa     | 40 | male   | ... | 122 | 170 | 112 | 37 | 39 |  450 | 0 | 0 | 2 | no  |\n",
       "| ... | ... | ... | ... | ... | ... | ... | ... | ... | ... | <!----> | ... | ... | ... | ... | ... | ... | ... | ... | ... | ... |\n",
       "| 374 | 40804 | 179 | 105 |  60 | 3           | 4.679999828 | Louisa | 20 | female | ... | 100 | 138 |  82 | 34 | 46 |  270 | 2 | 0 | 2 | no  |\n",
       "| 375 | 40805 | 202 |  84 |  33 | 6.099999905 | 4.170000076 | Louisa | 44 | male   | ... |  80 |  NA |  NA | 33 | 37 |  180 | 0 | 0 | 2 | no  |\n",
       "| 376 | 41000 | 194 |  87 |  65 | 3           | 4.139999866 | Louisa | 54 | male   | ... |  96 | 160 |  94 | 30 | 37 |   15 | 1 | 0 | 1 | no  |\n",
       "| 377 | 41001 | 227 |  85 |  26 | 8.699999809 | 4.980000019 | Louisa | 58 | male   | ... |  82 | 144 |  80 | 38 | 43 |  480 | 2 | 0 | 2 | no  |\n",
       "| 378 | 41003 | 337 |  85 |  62 | 5.400000095 | 4.659999847 | Louisa | 35 | male   | ... |  84 |  NA |  NA | 36 | 44 |  240 | 0 | 0 | 1 | no  |\n",
       "| 379 | 41004 | 255 |  83 |  90 | 2.799999952 | 4.289999962 | Louisa | 52 | male   | ... | 110 | 166 | 108 | 30 | 33 |  780 | 2 | 1 | 3 | no  |\n",
       "| 380 | 41021 | 162 |  90 |  46 | 3.5         | 5.559999943 | Louisa | 60 | female | ... |  64 |  NA |  NA | 32 | 34 |  300 | 2 | 0 | 2 | no  |\n",
       "| 381 | 41023 | 322 |  87 |  92 | 3.5         | 4.449999809 | Louisa | 43 | female | ... |  98 | 122 | 100 | 32 | 41 |   60 | 0 | 0 | 2 | no  |\n",
       "| 382 | 41029 | 289 | 267 |  38 | 7.599999905 | 11.40999985 | Louisa | 59 | male   | ... |  79 |  NA |  NA | 36 | 38 |  900 | 0 | 0 | 3 | yes |\n",
       "| 383 | 41034 | 217 |  87 |  40 | 5.400000095 | 4.070000172 | Louisa | 33 | female | ... |  90 | 138 |  84 | 42 | 46 |   40 | 1 | 0 | 2 | no  |\n",
       "| 384 | 41035 | 209 |  91 |  36 | 5.800000191 | 5.010000229 | Louisa | 37 | male   | ... |  94 | 130 |  88 | 42 | 48 |  450 | 1 | 0 | 3 | no  |\n",
       "| 385 | 41036 | 214 |  77 |  48 | 4.5         | 4.480000019 | Louisa | 40 | male   | ... |  84 |  NA |  NA | 40 | 44 | 1020 | 2 | 1 | 3 | no  |\n",
       "| 386 | 41037 | 302 |  81 |  57 | 5.300000191 | 4.650000095 | Louisa | 38 | female | ... |  82 |  NA |  NA | 41 | 51 |  210 | 2 | 0 | 2 | no  |\n",
       "| 387 | 41039 | 179 |  85 |  52 | 3.400000095 | 4.050000191 | Louisa | 32 | female | ... |  96 | 148 | 100 | 37 | 47 |   60 | 2 | 1 | 1 | no  |\n",
       "| 388 | 41041 | 279 | 270 |  40 | 7           | 8.109999657 | Louisa | 60 | female | ... |  90 | 174 |  84 | 48 | 50 |  180 | 1 | 1 | 1 | yes |\n",
       "| 389 | 41055 | 144 |  81 |  28 | 5.099999905 | 4.130000114 | Louisa | 30 | male   | ... |  78 |  NA |  NA | 31 | 38 |  180 | 2 | 1 | 1 | no  |\n",
       "| 390 | 41063 | 270 |  73 |  40 | 6.800000191 | 3.579999924 | Louisa | 42 | male   | ... |  94 | 149 |  94 | 39 | 41 |   30 | 0 | 0 | 2 | no  |\n",
       "| 391 | 41065 | 196 | 120 |  67 | 2.900000095 | 9.369999886 | Louisa | 52 | female | ... |  94 | 142 |  92 | 34 | 42 |  480 | 2 | 0 | 1 | yes |\n",
       "| 392 | 41075 | 221 | 126 |  48 | 4.599999905 | 5.53000021  | Louisa | 59 | female | ... |  78 |  NA |  NA | 39 | 45 |   60 | 2 | 0 | 1 | no  |\n",
       "| 393 | 41078 | 210 |  81 |  81 | 2.599999905 | 4.960000038 | Louisa | 78 | male   | ... |  70 |  NA |  NA | 38 | 39 |  540 | 1 | 1 | 2 | no  |\n",
       "| 394 | 41253 | 192 |  85 |  69 | 2.799999952 | 4.380000114 | Louisa | 51 | male   | ... | 110 | 170 | 118 | NA | NA |   60 | 0 | 0 | 3 | no  |\n",
       "| 395 | 41254 | 169 | 104 |  58 | 2.900000095 | 4.820000172 | Louisa | 25 | female | ... |  95 | 130 |  94 | 40 | 42 |   60 | 0 | 0 | 2 | no  |\n",
       "| 396 | 41500 | 179 |  85 |  50 | 3.599999905 | 4.989999771 | Louisa | 37 | male   | ... |  94 | 172 | 100 | 33 | 39 |  480 | 0 | 0 | 2 | no  |\n",
       "| 397 | 41501 | 216 |  84 |  64 | 3.400000095 | NA          | Louisa | 54 | female | ... |  90 | 126 |  80 | 38 | 42 |  330 | 2 | 0 | 1 | NA  |\n",
       "| 398 | 41503 | 301 |  90 | 118 | 2.599999905 | 4.28000021  | Louisa | 89 | female | ... |  90 | 238 |  90 | 31 | 41 |  210 | 1 | 0 | 3 | no  |\n",
       "| 399 | 41506 | 296 | 369 |  46 | 6.400000095 | 16.11000061 | Louisa | 53 | male   | ... |  94 | 130 |  94 | 35 | 39 |  210 | 2 | 0 | 1 | yes |\n",
       "| 400 | 41507 | 284 |  89 |  54 | 5.300000191 | 4.389999866 | Louisa | 51 | female | ... | 100 | 146 | 102 | 32 | 43 |  180 | 2 | 0 | 3 | no  |\n",
       "| 401 | 41510 | 194 | 269 |  38 | 5.099999905 | 13.63000011 | Louisa | 29 | female | ... |  70 |  NA |  NA | 33 | 40 |   20 | 0 | 1 | 2 | yes |\n",
       "| 402 | 41752 | 199 |  76 |  52 | 3.799999952 | 4.489999771 | Louisa | 41 | female | ... |  78 |  NA |  NA | 41 | 48 |  255 | 2 | 0 | 2 | no  |\n",
       "| 403 | 41756 | 159 |  88 |  79 | 2           | NA          | Louisa | 68 | female | ... |  72 |  NA |  NA | 49 | 58 |  900 | 0 | 0 | 1 | NA  |\n",
       "\n"
      ],
      "text/plain": [
       "    X   id    chol stab.glu hdl ratio       glyhb       location   age gender\n",
       "1    1  1000  203   82      56  3.599999905 4.309999943 Buckingham 46  female\n",
       "2    2  1001  165   97      24  6.900000095 4.440000057 Buckingham 29  female\n",
       "3    3  1002  228   92      37  6.199999809 4.639999866 Buckingham 58  female\n",
       "4    4  1003   78   93      12  6.5         4.630000114 Buckingham 67  male  \n",
       "5    5  1005  249   90      28  8.899999619 7.71999979  Buckingham 64  male  \n",
       "6    6  1008  248   94      69  3.599999905 4.809999943 Buckingham 34  male  \n",
       "7    7  1011  195   92      41  4.800000191 4.840000153 Buckingham 30  male  \n",
       "8    8  1015  227   75      44  5.199999809 3.940000057 Buckingham 37  male  \n",
       "9    9  1016  177   87      49  3.599999905 4.840000153 Buckingham 45  male  \n",
       "10  10  1022  263   89      40  6.599999905 5.78000021  Buckingham 55  female\n",
       "11  11  1024  242   82      54  4.5         4.769999981 Louisa     60  female\n",
       "12  12  1029  215  128      34  6.300000191 4.96999979  Louisa     38  female\n",
       "13  13  1030  238   75      36  6.599999905 4.46999979  Louisa     27  female\n",
       "14  14  1031  183   79      46  4           4.590000153 Louisa     40  female\n",
       "15  15  1035  191   76      30  6.400000095 4.670000076 Louisa     36  male  \n",
       "16  16  1036  213   83      47  4.5         3.410000086 Louisa     33  female\n",
       "17  17  1037  255   78      38  6.699999809 4.329999924 Louisa     50  female\n",
       "18  18  1041  230  112      64  3.599999905 4.53000021  Louisa     20  male  \n",
       "19  19  1045  194   81      36  5.400000095 5.28000021  Louisa     36  male  \n",
       "20  20  1250  196  206      41  4.800000191 11.23999977 Buckingham 62  female\n",
       "21  21  1252  186   97      50  3.700000048 6.489999771 Buckingham 70  male  \n",
       "22  22  1253  234   65      76  3.099999905 4.670000076 Buckingham 47  male  \n",
       "23  23  1254  203  299      43  4.699999809 12.73999977 Buckingham 38  female\n",
       "24  24  1256  281   92      41  6.900000095 5.559999943 Buckingham 66  female\n",
       "25  25  1271  228   66      45  5.099999905 4.610000134 Buckingham 24  female\n",
       "26  26  1277  179   80      92  1.899999976 4.179999828 Buckingham 41  female\n",
       "27  27  1280  232   87      30  7.699999809 5.099999905 Buckingham 37  male  \n",
       "28  28  1281   NA   74      NA  NA          4.28000021  Buckingham 48  male  \n",
       "29  29  1282  254   84      52  4.900000095 4.519999981 Buckingham 43  female\n",
       "30  30  1285  215   72      42  5.099999905 4.369999886 Louisa     40  male  \n",
       "... ... ...   ...  ...      ... ...         ...         ...        ... ...   \n",
       "374 374 40804 179  105       60 3           4.679999828 Louisa     20  female\n",
       "375 375 40805 202   84       33 6.099999905 4.170000076 Louisa     44  male  \n",
       "376 376 41000 194   87       65 3           4.139999866 Louisa     54  male  \n",
       "377 377 41001 227   85       26 8.699999809 4.980000019 Louisa     58  male  \n",
       "378 378 41003 337   85       62 5.400000095 4.659999847 Louisa     35  male  \n",
       "379 379 41004 255   83       90 2.799999952 4.289999962 Louisa     52  male  \n",
       "380 380 41021 162   90       46 3.5         5.559999943 Louisa     60  female\n",
       "381 381 41023 322   87       92 3.5         4.449999809 Louisa     43  female\n",
       "382 382 41029 289  267       38 7.599999905 11.40999985 Louisa     59  male  \n",
       "383 383 41034 217   87       40 5.400000095 4.070000172 Louisa     33  female\n",
       "384 384 41035 209   91       36 5.800000191 5.010000229 Louisa     37  male  \n",
       "385 385 41036 214   77       48 4.5         4.480000019 Louisa     40  male  \n",
       "386 386 41037 302   81       57 5.300000191 4.650000095 Louisa     38  female\n",
       "387 387 41039 179   85       52 3.400000095 4.050000191 Louisa     32  female\n",
       "388 388 41041 279  270       40 7           8.109999657 Louisa     60  female\n",
       "389 389 41055 144   81       28 5.099999905 4.130000114 Louisa     30  male  \n",
       "390 390 41063 270   73       40 6.800000191 3.579999924 Louisa     42  male  \n",
       "391 391 41065 196  120       67 2.900000095 9.369999886 Louisa     52  female\n",
       "392 392 41075 221  126       48 4.599999905 5.53000021  Louisa     59  female\n",
       "393 393 41078 210   81       81 2.599999905 4.960000038 Louisa     78  male  \n",
       "394 394 41253 192   85       69 2.799999952 4.380000114 Louisa     51  male  \n",
       "395 395 41254 169  104       58 2.900000095 4.820000172 Louisa     25  female\n",
       "396 396 41500 179   85       50 3.599999905 4.989999771 Louisa     37  male  \n",
       "397 397 41501 216   84       64 3.400000095 NA          Louisa     54  female\n",
       "398 398 41503 301   90      118 2.599999905 4.28000021  Louisa     89  female\n",
       "399 399 41506 296  369       46 6.400000095 16.11000061 Louisa     53  male  \n",
       "400 400 41507 284   89       54 5.300000191 4.389999866 Louisa     51  female\n",
       "401 401 41510 194  269       38 5.099999905 13.63000011 Louisa     29  female\n",
       "402 402 41752 199   76       52 3.799999952 4.489999771 Louisa     41  female\n",
       "403 403 41756 159   88       79 2           NA          Louisa     68  female\n",
       "    ... bp.1d bp.2s bp.2d waist hip time.ppn insurance fh  smoking dm \n",
       "1   ...  59    NA    NA   29    38   720     1         0   3       no \n",
       "2   ...  68    NA    NA   46    48   360     0         0   2       no \n",
       "3   ...  92   185    92   49    57   180     2         0   2       no \n",
       "4   ...  50    NA    NA   33    38   480     1         0   3       no \n",
       "5   ...  80    NA    NA   44    41   300     0         0   3       yes\n",
       "6   ...  86    NA    NA   36    42   195     1         0   1       no \n",
       "7   ... 112   161   112   46    49   720     2         1   2       no \n",
       "8   ...  NA    NA    NA   34    39  1020     0         0   2       no \n",
       "9   ...  80   128    86   34    40   300     2         1   1       no \n",
       "10  ...  72    NA    NA   45    50   240     2         0   2       no \n",
       "11  ...  90   130    90   39    45   300     1         0   2       no \n",
       "12  ...  68    NA    NA   42    50    90     0         0   2       no \n",
       "13  ...  80    NA    NA   35    41   720     0         0   1       no \n",
       "14  ...  NA    NA    NA   37    43    60     2         0   1       no \n",
       "15  ...  66    NA    NA   36    40   225     0         0   1       no \n",
       "16  ...  90   120    96   37    41   240     0         1   2       no \n",
       "17  ... 100    NA    NA   37    43   180     1         0   1       no \n",
       "18  ...  90    NA    NA   31    39  1440     2         0   2       no \n",
       "19  ...  76    NA    NA   30    34   120     1         0   1       no \n",
       "20  ...  90    NA    NA   46    51   540     0         0   2       yes\n",
       "21  ...  88   148    84   42    41  1020     2         0   2       no \n",
       "22  ... 100   149   110   45    46   480     0         0   2       no \n",
       "23  ...  83    NA    NA   48    55   240     1         1   2       yes\n",
       "24  ...  88   160    88   48    44   285     1         0   1       no \n",
       "25  ...  70   110    70   33    38   210     2         0   1       no \n",
       "26  ... 112    NA    NA   28    36   780     1         0   2       no \n",
       "27  ...  95    NA    NA   43    47   420     1         1   2       no \n",
       "28  ...  85    NA    NA   27    33   510     0         1   1       no \n",
       "29  ...  70    NA    NA   31    38   720     2         0   3       no \n",
       "30  ... 122   170   112   37    39   450     0         0   2       no \n",
       "...     ...   ...   ...   ...   ... ...      ...       ... ...     ...\n",
       "374 ... 100   138    82   34    46   270     2         0   2       no \n",
       "375 ...  80    NA    NA   33    37   180     0         0   2       no \n",
       "376 ...  96   160    94   30    37    15     1         0   1       no \n",
       "377 ...  82   144    80   38    43   480     2         0   2       no \n",
       "378 ...  84    NA    NA   36    44   240     0         0   1       no \n",
       "379 ... 110   166   108   30    33   780     2         1   3       no \n",
       "380 ...  64    NA    NA   32    34   300     2         0   2       no \n",
       "381 ...  98   122   100   32    41    60     0         0   2       no \n",
       "382 ...  79    NA    NA   36    38   900     0         0   3       yes\n",
       "383 ...  90   138    84   42    46    40     1         0   2       no \n",
       "384 ...  94   130    88   42    48   450     1         0   3       no \n",
       "385 ...  84    NA    NA   40    44  1020     2         1   3       no \n",
       "386 ...  82    NA    NA   41    51   210     2         0   2       no \n",
       "387 ...  96   148   100   37    47    60     2         1   1       no \n",
       "388 ...  90   174    84   48    50   180     1         1   1       yes\n",
       "389 ...  78    NA    NA   31    38   180     2         1   1       no \n",
       "390 ...  94   149    94   39    41    30     0         0   2       no \n",
       "391 ...  94   142    92   34    42   480     2         0   1       yes\n",
       "392 ...  78    NA    NA   39    45    60     2         0   1       no \n",
       "393 ...  70    NA    NA   38    39   540     1         1   2       no \n",
       "394 ... 110   170   118   NA    NA    60     0         0   3       no \n",
       "395 ...  95   130    94   40    42    60     0         0   2       no \n",
       "396 ...  94   172   100   33    39   480     0         0   2       no \n",
       "397 ...  90   126    80   38    42   330     2         0   1       NA \n",
       "398 ...  90   238    90   31    41   210     1         0   3       no \n",
       "399 ...  94   130    94   35    39   210     2         0   1       yes\n",
       "400 ... 100   146   102   32    43   180     2         0   3       no \n",
       "401 ...  70    NA    NA   33    40    20     0         1   2       yes\n",
       "402 ...  78    NA    NA   41    48   255     2         0   2       no \n",
       "403 ...  72    NA    NA   49    58   900     0         0   1       NA "
      ]
     },
     "metadata": {},
     "output_type": "display_data"
    }
   ],
   "source": [
    "DiabetesData2 <- read.csv2(\"diabetes_data2.csv\", header=TRUE, sep=\",\")\n",
    "attach(DiabetesData2)\n",
    "DiabetesData2"
   ]
  },
  {
   "cell_type": "markdown",
   "metadata": {},
   "source": [
    "`Let's model with these predictor variables: age, cholesterol and insurance type.`\n",
    "\n",
    "`Insurance type can be 0 (none), 1 (public) or 2 (private). We need first to convert it to factor/categorical variable.`"
   ]
  },
  {
   "cell_type": "code",
   "execution_count": 178,
   "metadata": {},
   "outputs": [],
   "source": [
    "insurance_factor <- as.factor(insurance)"
   ]
  },
  {
   "cell_type": "code",
   "execution_count": 179,
   "metadata": {},
   "outputs": [
    {
     "data": {
      "text/plain": [
       "\n",
       "Call:\n",
       "glm(formula = dm ~ age + chol + insurance_factor, family = binomial(link = logit))\n",
       "\n",
       "Deviance Residuals: \n",
       "    Min       1Q   Median       3Q      Max  \n",
       "-1.5714  -0.5945  -0.3992  -0.2619   2.4399  \n",
       "\n",
       "Coefficients:\n",
       "                   Estimate Std. Error z value Pr(>|z|)    \n",
       "(Intercept)       -5.794252   0.874555  -6.625 3.46e-11 ***\n",
       "age                0.049753   0.009770   5.092 3.54e-07 ***\n",
       "chol               0.008402   0.003153   2.665   0.0077 ** \n",
       "insurance_factor1 -0.271955   0.359445  -0.757   0.4493    \n",
       "insurance_factor2 -0.589803   0.377434  -1.563   0.1181    \n",
       "---\n",
       "Signif. codes:  0 '***' 0.001 '**' 0.01 '*' 0.05 '.' 0.1 ' ' 1\n",
       "\n",
       "(Dispersion parameter for binomial family taken to be 1)\n",
       "\n",
       "    Null deviance: 334.54  on 388  degrees of freedom\n",
       "Residual deviance: 289.28  on 384  degrees of freedom\n",
       "  (14 observations deleted due to missingness)\n",
       "AIC: 299.28\n",
       "\n",
       "Number of Fisher Scoring iterations: 5\n"
      ]
     },
     "metadata": {},
     "output_type": "display_data"
    }
   ],
   "source": [
    "model2 <- glm(dm ~ age + chol + insurance_factor, family=binomial (link=logit))\n",
    "summary(model2)"
   ]
  },
  {
   "cell_type": "code",
   "execution_count": 180,
   "metadata": {},
   "outputs": [
    {
     "data": {
      "text/html": [
       "<style>\n",
       ".dl-inline {width: auto; margin:0; padding: 0}\n",
       ".dl-inline>dt, .dl-inline>dd {float: none; width: auto; display: inline-block}\n",
       ".dl-inline>dt::after {content: \":\\0020\"; padding-right: .5ex}\n",
       ".dl-inline>dt:not(:first-of-type) {padding-left: .5ex}\n",
       "</style><dl class=dl-inline><dt>(Intercept)</dt><dd>0.00304500857152546</dd><dt>age</dt><dd>1.05101154438151</dd><dt>chol</dt><dd>1.00843755044143</dd><dt>insurance_factor1</dt><dd>0.761888739904932</dd><dt>insurance_factor2</dt><dd>0.554436387422203</dd></dl>\n"
      ],
      "text/latex": [
       "\\begin{description*}\n",
       "\\item[(Intercept)] 0.00304500857152546\n",
       "\\item[age] 1.05101154438151\n",
       "\\item[chol] 1.00843755044143\n",
       "\\item[insurance\\textbackslash{}\\_factor1] 0.761888739904932\n",
       "\\item[insurance\\textbackslash{}\\_factor2] 0.554436387422203\n",
       "\\end{description*}\n"
      ],
      "text/markdown": [
       "(Intercept)\n",
       ":   0.00304500857152546age\n",
       ":   1.05101154438151chol\n",
       ":   1.00843755044143insurance_factor1\n",
       ":   0.761888739904932insurance_factor2\n",
       ":   0.554436387422203\n",
       "\n"
      ],
      "text/plain": [
       "      (Intercept)               age              chol insurance_factor1 \n",
       "      0.003045009       1.051011544       1.008437550       0.761888740 \n",
       "insurance_factor2 \n",
       "      0.554436387 "
      ]
     },
     "metadata": {},
     "output_type": "display_data"
    }
   ],
   "source": [
    "exp(model2$coefficients)"
   ]
  },
  {
   "cell_type": "markdown",
   "metadata": {},
   "source": [
    "`Analysing each variable:`\n",
    "* `Age: p-value is very small, so age is significantly and positively associated with the risk of getting diabetes. Age's coefficient exponentiated is 1.05. It means that every year that's incresed increases the odds of getting diabetes in 5%`\n",
    "* `Cholesterol: We have a pretty low p-value, so we can conclude that people with higher cholesterol are more at risk of diabetes. For every unit of cholesterol increased, there are 0.8% more odds to get diabetes.`\n",
    "* `Insurance: p-value is high, so this variable is not statistically significant. We can, then, say that there's no strong evidence for a insurance difference in risk of getting diabetes.`\n"
   ]
  }
 ],
 "metadata": {
  "kernelspec": {
   "display_name": "R",
   "language": "R",
   "name": "ir"
  },
  "language_info": {
   "codemirror_mode": "r",
   "file_extension": ".r",
   "mimetype": "text/x-r-source",
   "name": "R",
   "pygments_lexer": "r",
   "version": "3.6.2"
  }
 },
 "nbformat": 4,
 "nbformat_minor": 4
}
